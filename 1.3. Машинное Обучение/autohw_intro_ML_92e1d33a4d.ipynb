{
 "cells": [
  {
   "cell_type": "markdown",
   "metadata": {
    "id": "k3zbLLaSGH6Z"
   },
   "source": [
    "## Лабораторная работа \"Введение в ML\""
   ]
  },
  {
   "cell_type": "markdown",
   "metadata": {
    "id": "SL3v975uGH6h"
   },
   "source": [
    "В этой лабораторной вы:\n",
    "\n",
    "- познакомитесь с базовыми библиотеками для работы с табличными данными — `numpy` и `pandas`\n",
    "- поближе посмотрите на простейшие задачи машинного обучения: классификацию и регрессию\n",
    "- попробуете несколько метрик и поймёте, почему выбор метрики это важно\n",
    "- обучите несколько простых моделей\n",
    "- увидите связь между сложностью модели и переобучением\n",
    "- убедитесь, что без данных всё тлен"
   ]
  },
  {
   "cell_type": "markdown",
   "metadata": {
    "id": "ad3nBqBSGH6j"
   },
   "source": [
    "Загрузка самых базовых библиотек:"
   ]
  },
  {
   "cell_type": "code",
   "execution_count": 1,
   "metadata": {
    "id": "Z8Iht5qhGH6l"
   },
   "outputs": [],
   "source": [
    "import numpy as np\n",
    "import pandas as pd\n",
    "import matplotlib.pyplot as plt\n",
    "%matplotlib inline\n",
    "\n",
    "from sklearn.model_selection import train_test_split"
   ]
  },
  {
   "cell_type": "markdown",
   "metadata": {
    "id": "4W8Eq0sTGH6n"
   },
   "source": [
    "### [NumPy](https://numpy.org/doc/stable/user/index.html)\n",
    "\n",
    "С 1995 numeric, с 2006 NumPy — «Numerical Python extensions» или просто «NumPy»\n",
    "\n",
    "Возможности библиотеки NumPy:\n",
    "* работать с многомерными массивами (таблицами)\n",
    "* быстро вычислять математические функций на многомерных массивах\n",
    "\n",
    "Ядро пакета NumPy — объект [ndarray](https://docs.scipy.org/doc/numpy/reference/generated/numpy.ndarray.html)\n",
    "\n",
    "**Важные отличия** между NumPy arrays и Python sequences:\n",
    "* NumPy array имеет фиксированную длину, которая определяется в момент его создания (в отличие от Python lists, которые могут расти динамически)\n",
    "* Элементы в NumPy array должны быть одного типа\n",
    "* Можно выполнять операции непосредственно над NumPy arrays\n",
    "\n",
    "**Скорость** NumPy достигается с помощью:\n",
    "* реализации на C\n",
    "* векторизации и броадкастинга (broadcasting). Например, произведение массивов совместимых форм.\n",
    "\n",
    "Теперь давайте разберёмся подробнее и сделаем что-нибудь приятное и полезное в `numpy`!"
   ]
  },
  {
   "cell_type": "markdown",
   "metadata": {
    "id": "eS3UKcU6GH6o"
   },
   "source": [
    "### Индексация"
   ]
  },
  {
   "cell_type": "markdown",
   "metadata": {
    "id": "VqBzoEfvGH6p"
   },
   "source": [
    "В NumPy работает привычная индексация Python, ура! Включая использование отрицательных индексов и срезов (slices)"
   ]
  },
  {
   "cell_type": "markdown",
   "metadata": {
    "id": "Anq_nSYTGH6q"
   },
   "source": [
    "<div class=\"alert alert-info\">\n",
    "<b>Замечание 1:</b> Индексы и срезы в многомерных массивах не нужно разделять квадратными скобками,\n",
    "т.е. вместо <b>matrix[i][j]</b> нужно использовать <b>matrix[i, j]</b>. Первое тоже работает, но сначала выдаёт строку i, потом элемент j в ней.\n",
    "</div>"
   ]
  },
  {
   "cell_type": "markdown",
   "metadata": {
    "id": "OoHXSVIrGH6q"
   },
   "source": [
    "<div class=\"alert alert-danger\">\n",
    "<b>Замечание 2:</b> Срезы в NumPy создают view, а не копии, как в случае срезов встроенных последовательностей Python (string, tuple and list).\n",
    "</div>"
   ]
  },
  {
   "cell_type": "code",
   "execution_count": 2,
   "metadata": {
    "id": "YJKxBB4dGH6s",
    "outputId": "61139b1d-46db-4f7f-d5bb-96b7c3f96284"
   },
   "outputs": [
    {
     "name": "stdout",
     "output_type": "stream",
     "text": [
      "[[1. 1. 1. 1. 1.]\n",
      " [1. 1. 1. 1. 1.]\n",
      " [1. 1. 1. 1. 1.]\n",
      " [1. 1. 1. 1. 1.]\n",
      " [1. 1. 1. 1. 1.]]\n",
      "[[0. 0. 0.]\n",
      " [0. 0. 0.]\n",
      " [0. 0. 0.]]\n"
     ]
    }
   ],
   "source": [
    "ones_matrix = np.ones((5, 5))\n",
    "print(ones_matrix)\n",
    "ones_submatrix_view = ones_matrix[::2,::2] # creates a view, not copy\n",
    "ones_matrix[::2,::2] = np.zeros((3, 3))\n",
    "print(ones_submatrix_view)"
   ]
  },
  {
   "cell_type": "code",
   "execution_count": 3,
   "metadata": {},
   "outputs": [
    {
     "data": {
      "text/plain": [
       "array([[0., 1., 0., 1., 0.],\n",
       "       [1., 1., 1., 1., 1.],\n",
       "       [0., 1., 0., 1., 0.],\n",
       "       [1., 1., 1., 1., 1.],\n",
       "       [0., 1., 0., 1., 0.]])"
      ]
     },
     "execution_count": 3,
     "metadata": {},
     "output_type": "execute_result"
    }
   ],
   "source": [
    "ones_matrix"
   ]
  },
  {
   "cell_type": "markdown",
   "metadata": {
    "id": "jpEF1rp2GH6v"
   },
   "source": [
    "### Ссылка на Яндекс.Контест\n",
    "\n",
    "Решения и ответы в задачах, расположенных ниже, загружайте в контест на автоматическую проверку:\n",
    "https://new.contest.yandex.ru/60376/start\n"
   ]
  },
  {
   "cell_type": "markdown",
   "metadata": {
    "id": "eZpuxPhJGH6v"
   },
   "source": [
    "**1.** Реализуйте функцию, принимающую на вход два одномерных массива `first_array` и `second_array` и возвращающую матрицу, в которой первый массив соответствует первому столбцу матрицы, второй — второму.\n",
    "\n",
    "Вероятно первое, что приходит вам на ум, это конкатенация и транспонирование:"
   ]
  },
  {
   "cell_type": "code",
   "execution_count": 4,
   "metadata": {
    "id": "hmQk1N6rGH6w"
   },
   "outputs": [],
   "source": [
    "def construct_matrix(first_array, second_array):\n",
    "    \"\"\"\n",
    "    Construct matrix from pair of arrays\n",
    "    :param first_array: first array\n",
    "    :param second_array: second array\n",
    "    :return: constructed matrix\n",
    "    \"\"\"\n",
    "    return np.vstack([first_array, second_array]).T # <- your first right code here"
   ]
  },
  {
   "cell_type": "code",
   "execution_count": 5,
   "metadata": {},
   "outputs": [],
   "source": [
    "def construct_matrix_my(first_array, second_array):\n",
    "    \"\"\"\n",
    "    Construct matrix from pair of arrays\n",
    "    :param first_array: first array\n",
    "    :param second_array: second array\n",
    "    :return: constructed matrix\n",
    "    \"\"\"\n",
    "    return np.dstack([first_array, second_array]).reshape(len(first_array),2)"
   ]
  },
  {
   "cell_type": "code",
   "execution_count": 6,
   "metadata": {
    "id": "TeFqyCz4GH6x",
    "outputId": "ecd0b7d3-7acf-40f2-878e-057d17136e8c",
    "scrolled": true
   },
   "outputs": [
    {
     "name": "stdout",
     "output_type": "stream",
     "text": [
      "[[1 4]\n",
      " [2 5]\n",
      " [3 6]\n",
      " [4 7]]\n",
      "[[1 4]\n",
      " [2 5]\n",
      " [3 6]\n",
      " [4 7]]\n"
     ]
    }
   ],
   "source": [
    "print(construct_matrix(np.array([1,2,3,4]),np.array([4,5,6,7])))\n",
    "print(construct_matrix_my(np.array([1,2,3,4]),np.array([4,5,6,7])))"
   ]
  },
  {
   "cell_type": "markdown",
   "metadata": {
    "id": "lP-lmcA2GH6y"
   },
   "source": [
    "(в скобках заметим, что конкатенировать можно vertically, horizontally, depth wise методами vstack, hstack, dstack по трём осям (0, 1 и 2, соотвественно), либо в общем случае `np.concatenate` — поиграйтесь ниже с прекрасным примером четырёхмерной точки, чтобы точно всё для себя понять)"
   ]
  },
  {
   "cell_type": "code",
   "execution_count": 7,
   "metadata": {
    "id": "xguxLJ0VGH6y",
    "outputId": "2f32df14-6f5d-4800-96b5-bb8fba9c9ec0"
   },
   "outputs": [
    {
     "data": {
      "text/plain": [
       "array([[[[0],\n",
       "         [0]]]])"
      ]
     },
     "execution_count": 7,
     "metadata": {},
     "output_type": "execute_result"
    }
   ],
   "source": [
    "p = np.arange(1).reshape([1, 1, 1, 1])\n",
    "p\n",
    "np.dstack((p, p))"
   ]
  },
  {
   "cell_type": "code",
   "execution_count": 8,
   "metadata": {
    "id": "z1JFw75eGH6y",
    "outputId": "16e3c894-2e0e-4a5a-edd4-7a974cfa43e4"
   },
   "outputs": [
    {
     "name": "stdout",
     "output_type": "stream",
     "text": [
      "vstack:  (2, 1, 1, 1)\n",
      "hstack:  (1, 2, 1, 1)\n",
      "dstack:  (1, 1, 2, 1)\n"
     ]
    }
   ],
   "source": [
    "print(\"vstack: \", np.vstack((p, p)).shape)\n",
    "print(\"hstack: \", np.hstack((p, p)).shape)\n",
    "print(\"dstack: \", np.dstack((p, p)).shape)"
   ]
  },
  {
   "cell_type": "code",
   "execution_count": 9,
   "metadata": {
    "id": "cvbthbDDGH6z",
    "outputId": "d89430e5-8c64-4b5f-f2b3-4343f4c659ed"
   },
   "outputs": [
    {
     "data": {
      "text/plain": [
       "(1, 1, 1, 2)"
      ]
     },
     "execution_count": 9,
     "metadata": {},
     "output_type": "execute_result"
    }
   ],
   "source": [
    "np.concatenate((p, p), axis=3).shape"
   ]
  },
  {
   "cell_type": "markdown",
   "metadata": {
    "id": "-5GkuWwaGH60"
   },
   "source": [
    "Но, поскольку операция транспонирования [делает массив non-contiguous](https://numpy.org/doc/stable/user/basics.copies.html#other-operations), мы в этой задаче **запретим** ей пользоваться и порекомедуем воспользоваться, например, методом [reshape](https://numpy.org/doc/stable/reference/generated/numpy.reshape.html)."
   ]
  },
  {
   "cell_type": "markdown",
   "metadata": {
    "id": "n3ce_o75GH61"
   },
   "source": [
    "**2.** Реализуйте функцию, принимающую на вход массив целых неотрицательных чисел `nums` и возвращающую самый частый элемент массива."
   ]
  },
  {
   "cell_type": "code",
   "execution_count": 10,
   "metadata": {
    "id": "XZysMovaGH61"
   },
   "outputs": [],
   "source": [
    "def most_frequent(nums):\n",
    "    \"\"\"\n",
    "    Find the most frequent value in an array\n",
    "    :param nums: array of ints\n",
    "    :return: the most frequent value\n",
    "    \"\"\"\n",
    "    return np.argmax(np.bincount(nums))"
   ]
  },
  {
   "cell_type": "code",
   "execution_count": 11,
   "metadata": {},
   "outputs": [
    {
     "data": {
      "text/plain": [
       "3"
      ]
     },
     "execution_count": 11,
     "metadata": {},
     "output_type": "execute_result"
    }
   ],
   "source": [
    "x = np.array([0, 1, 1, 3, 2, 1, 7, 23, 3, 4, 3, 1, 3, 3, 5, 6])\n",
    "most_frequent(x)"
   ]
  },
  {
   "cell_type": "markdown",
   "metadata": {
    "id": "e6kjITZMGH62"
   },
   "source": [
    "### Переходим к работе с данными\n",
    "\n",
    "Прежде всего, загрузим данные и сделаем из них красивые pandas-таблички. Они взяты из параллели RecSys соревнования https://yandex.ru/cup/ml/. Но мы будем иметь дело не со всеми данными, а только с их частью. Данные у нас будут про заведения общественного питания (больше бюрократический терминологии!)\n",
    "\n",
    "Файлы с данными можно найти [здесь](https://disk.yandex.ru/d/YWvCNRQMb7QSQA).\n",
    "\n",
    "Задачей будет **предсказание среднего чека** (average_bill) по некоторым другим свойствам заведения."
   ]
  },
  {
   "cell_type": "code",
   "execution_count": 12,
   "metadata": {
    "id": "yJPF3OclGH62"
   },
   "outputs": [],
   "source": [
    "base = './data/'"
   ]
  },
  {
   "cell_type": "code",
   "execution_count": 13,
   "metadata": {
    "id": "uzDIu6uXGH62"
   },
   "outputs": [],
   "source": [
    "data = pd.read_csv(base + 'organisations.csv')\n",
    "features = pd.read_csv(base + 'features.csv')\n",
    "rubrics = pd.read_csv(base + 'rubrics.csv')"
   ]
  },
  {
   "cell_type": "markdown",
   "metadata": {
    "id": "k-AwDM7bGH63"
   },
   "source": [
    "В основном мы будем работать с табличкой `data`; остальное вам может пригодиться, если вы захотите знать, какое содержание стоит за кодами признаков."
   ]
  },
  {
   "cell_type": "markdown",
   "metadata": {
    "id": "4hrvEN_3GH63"
   },
   "source": [
    "## Изучение данных"
   ]
  },
  {
   "cell_type": "markdown",
   "metadata": {
    "id": "PI9YQMuCGH63"
   },
   "source": [
    "Посмотрите на данные. В этом вам поможет метод ``head`` pandas-таблички."
   ]
  },
  {
   "cell_type": "code",
   "execution_count": 14,
   "metadata": {
    "id": "VA_0DG29GH64"
   },
   "outputs": [
    {
     "data": {
      "text/html": [
       "<div>\n",
       "<style scoped>\n",
       "    .dataframe tbody tr th:only-of-type {\n",
       "        vertical-align: middle;\n",
       "    }\n",
       "\n",
       "    .dataframe tbody tr th {\n",
       "        vertical-align: top;\n",
       "    }\n",
       "\n",
       "    .dataframe thead th {\n",
       "        text-align: right;\n",
       "    }\n",
       "</style>\n",
       "<table border=\"1\" class=\"dataframe\">\n",
       "  <thead>\n",
       "    <tr style=\"text-align: right;\">\n",
       "      <th></th>\n",
       "      <th>org_id</th>\n",
       "      <th>city</th>\n",
       "      <th>average_bill</th>\n",
       "      <th>rating</th>\n",
       "      <th>rubrics_id</th>\n",
       "      <th>features_id</th>\n",
       "    </tr>\n",
       "  </thead>\n",
       "  <tbody>\n",
       "    <tr>\n",
       "      <th>0</th>\n",
       "      <td>15903868628669802651</td>\n",
       "      <td>msk</td>\n",
       "      <td>1500.0</td>\n",
       "      <td>4.270968</td>\n",
       "      <td>30776 30774</td>\n",
       "      <td>3501685156 3501779478 20422 3502045016 3502045...</td>\n",
       "    </tr>\n",
       "    <tr>\n",
       "      <th>1</th>\n",
       "      <td>16076540698036998306</td>\n",
       "      <td>msk</td>\n",
       "      <td>500.0</td>\n",
       "      <td>4.375000</td>\n",
       "      <td>30771</td>\n",
       "      <td>1509 1082283206 273469383 10462 11617 35017794...</td>\n",
       "    </tr>\n",
       "    <tr>\n",
       "      <th>2</th>\n",
       "      <td>8129364761615040323</td>\n",
       "      <td>msk</td>\n",
       "      <td>500.0</td>\n",
       "      <td>4.000000</td>\n",
       "      <td>31495</td>\n",
       "      <td>10462 11177 11617 11629 1416 1018 11704 11867 ...</td>\n",
       "    </tr>\n",
       "    <tr>\n",
       "      <th>3</th>\n",
       "      <td>15262729117594253452</td>\n",
       "      <td>msk</td>\n",
       "      <td>500.0</td>\n",
       "      <td>4.538813</td>\n",
       "      <td>30776 30770</td>\n",
       "      <td>3501618484 2020795524 11629 11617 1018 11704 2...</td>\n",
       "    </tr>\n",
       "    <tr>\n",
       "      <th>4</th>\n",
       "      <td>13418544315327784420</td>\n",
       "      <td>msk</td>\n",
       "      <td>500.0</td>\n",
       "      <td>4.409091</td>\n",
       "      <td>31495</td>\n",
       "      <td>11617 10462 11177 1416 11867 3501744275 20282 ...</td>\n",
       "    </tr>\n",
       "  </tbody>\n",
       "</table>\n",
       "</div>"
      ],
      "text/plain": [
       "                 org_id city  average_bill    rating   rubrics_id  \\\n",
       "0  15903868628669802651  msk        1500.0  4.270968  30776 30774   \n",
       "1  16076540698036998306  msk         500.0  4.375000        30771   \n",
       "2   8129364761615040323  msk         500.0  4.000000        31495   \n",
       "3  15262729117594253452  msk         500.0  4.538813  30776 30770   \n",
       "4  13418544315327784420  msk         500.0  4.409091        31495   \n",
       "\n",
       "                                         features_id  \n",
       "0  3501685156 3501779478 20422 3502045016 3502045...  \n",
       "1  1509 1082283206 273469383 10462 11617 35017794...  \n",
       "2  10462 11177 11617 11629 1416 1018 11704 11867 ...  \n",
       "3  3501618484 2020795524 11629 11617 1018 11704 2...  \n",
       "4  11617 10462 11177 1416 11867 3501744275 20282 ...  "
      ]
     },
     "execution_count": 14,
     "metadata": {},
     "output_type": "execute_result"
    }
   ],
   "source": [
    "data.head()"
   ]
  },
  {
   "cell_type": "markdown",
   "metadata": {
    "id": "GN9kZbURGH64"
   },
   "source": [
    "Полезно посмотреть внимательнее на то, с какими признаками нам предстоит работать.\n",
    "\n",
    "* **org_id** вам не понадобится;\n",
    "* **city** - город, в котором находится заведение (``msk`` или ``spb``);\n",
    "* **average_bill** - средний чек в заведении - он будет нашим таргетом;\n",
    "* **rating** - рейтинг заведения;\n",
    "* **rubrics_id** - тип заведения (или несколько типов). Соответствие кодов каким-то человекочитаемым типам живёт в табличке ``rubrics``\n",
    "* **features_id** - набор неких фичей заведения. Соответствие кодов каким-то человекочитаемым типам живёт в табличке ``features``\n",
    "\n",
    "Обратите внимание, что **rubrics_id** и **features_id** - это не списки, а разделённые пробелами строки. Когда вам захочется работать с отдельными фичами из мешка фичей для данного заведения, вам придётся всё-таки превратить их в списки (здесь поможет метод `split` для строк)."
   ]
  },
  {
   "cell_type": "markdown",
   "metadata": {
    "id": "J0IJIWz3GH64"
   },
   "source": [
    "Чтобы быстро восстанавливать по рубрикам и фичам их нормальные названия, сделайте словари вида ``код_фичи:название_фичи``"
   ]
  },
  {
   "cell_type": "code",
   "execution_count": 15,
   "metadata": {
    "id": "8KwKEKr7GH65"
   },
   "outputs": [],
   "source": [
    "feature_dict = {feature_id:feature_name for feature_id, feature_name in zip(features.feature_id, features.feature_name)}\n",
    "rubric_dict = {rubric_id:rubric_name for rubric_id, rubric_name in zip(rubrics.rubric_id, rubrics.rubric_name)}"
   ]
  },
  {
   "cell_type": "markdown",
   "metadata": {
    "id": "DNd4PkyQGH65"
   },
   "source": [
    "Посмотрим, какими бывают типы заведений:"
   ]
  },
  {
   "cell_type": "code",
   "execution_count": 16,
   "metadata": {
    "id": "8WhaPPEeGH65",
    "outputId": "aaf9cc8c-64ae-4bac-d8f8-6dd4d03033d8"
   },
   "outputs": [
    {
     "data": {
      "text/plain": [
       "{30519: 'Булочная, пекарня',\n",
       " 30770: 'Бар, паб',\n",
       " 30771: 'Быстрое питание',\n",
       " 30774: 'Кафе',\n",
       " 30775: 'Пиццерия',\n",
       " 30776: 'Ресторан',\n",
       " 30777: 'Столовая',\n",
       " 31286: 'Спортбар',\n",
       " 31350: 'Кондитерская',\n",
       " 31375: 'Суши-бар',\n",
       " 31401: 'Кальян-бар',\n",
       " 31495: 'Кофейня',\n",
       " 3108292683: 'Бар безалкогольных напитков',\n",
       " 3501514558: 'Фудкорт',\n",
       " 3501750896: 'Кофе с собой'}"
      ]
     },
     "execution_count": 16,
     "metadata": {},
     "output_type": "execute_result"
    }
   ],
   "source": [
    "rubric_dict"
   ]
  },
  {
   "cell_type": "code",
   "execution_count": 17,
   "metadata": {},
   "outputs": [],
   "source": [
    "data = data.loc[data['average_bill'].notna()]"
   ]
  },
  {
   "cell_type": "code",
   "execution_count": 18,
   "metadata": {},
   "outputs": [
    {
     "data": {
      "text/plain": [
       "average_bill\n",
       "500.0       22329\n",
       "1000.0       5482\n",
       "1500.0       2696\n",
       "2000.0       1184\n",
       "2500.0        445\n",
       "            ...  \n",
       "18500.0         1\n",
       "117000.0        1\n",
       "30000.0         1\n",
       "203500.0        1\n",
       "101500.0        1\n",
       "Name: count, Length: 63, dtype: int64"
      ]
     },
     "execution_count": 18,
     "metadata": {},
     "output_type": "execute_result"
    }
   ],
   "source": [
    "data.average_bill.value_counts()"
   ]
  },
  {
   "cell_type": "code",
   "execution_count": 19,
   "metadata": {},
   "outputs": [],
   "source": [
    "data = data.loc[data['average_bill'].notna()]\n",
    "data = data.loc[data['average_bill'] < 3000]\n",
    "data_msk = data.loc[data.city == 'mks']\n",
    "data_spb = data.loc[data.city == 'spb']"
   ]
  },
  {
   "cell_type": "code",
   "execution_count": 20,
   "metadata": {},
   "outputs": [
    {
     "data": {
      "text/plain": [
       "(array([[   0.,    0.,    0.,    0.,    0.,    0.,    0.,    0.,    0.,\n",
       "            0.],\n",
       "        [8568.,    0., 1766.,    0.,    0.,  608.,    0.,  222.,    0.,\n",
       "           80.]]),\n",
       " array([ 500.,  700.,  900., 1100., 1300., 1500., 1700., 1900., 2100.,\n",
       "        2300., 2500.]),\n",
       " <a list of 2 BarContainer objects>)"
      ]
     },
     "execution_count": 20,
     "metadata": {},
     "output_type": "execute_result"
    },
    {
     "data": {
      "image/png": "[encoded data removed]",
      "text/plain": [
       "<Figure size 640x480 with 1 Axes>"
      ]
     },
     "metadata": {},
     "output_type": "display_data"
    }
   ],
   "source": [
    "plt.hist(x=[data_msk.average_bill, data_spb.average_bill], stacked=True)"
   ]
  },
  {
   "cell_type": "markdown",
   "metadata": {
    "id": "qA6Bm_8EGH66"
   },
   "source": [
    "Мы что-то поняли про признаки, которыми нам предстоит пользоваться. Теперь время посмотреть на таргет. Вооружившись функциями ``hist`` и ``scatter`` из библиотеки ``matplotlib``, а также методом ``isna`` для pandas-таблиц разберитесь, какие значения принимают таргеты, есть ли там там выбросы, пропуски или ещё какие-то проблемы.\n",
    "\n",
    "&nbsp;\n",
    "\n",
    "<details>\n",
    "  <summary>Когда будете готовы, кликните сюда, чтобы посмотреть ответ</summary>\n",
    "    <ol>\n",
    "      <li>Среди таргетов довольно много пропусков;</li>\n",
    "      <li>Все таргеты - это числа, кратные 500;</li>\n",
    "      <li>Есть какие-то адские значения, превышающие 100 000 (видимо, выбросы);</li>\n",
    "      <li>В целом, число ресторанов с данным средним чеком быстро падает с ростом среднего чека. Для средних чеков, больших 2500, заведений уже совсем мало. Примерно у 2/3 заведений средний чек 500.</li>\n",
    "    </ol>\n",
    "</details>"
   ]
  },
  {
   "cell_type": "markdown",
   "metadata": {
    "id": "trfl5F_4GH66"
   },
   "source": [
    "**Базовая очистка данных**\n",
    "\n",
    "Раз есть треш, давайте чистить данные.\n",
    "\n",
    "С пропусками можно бороться по-разному (даже и с пропусками в таргете), но пока мы сделаем самую простую вещь: дропнем все заведения, для которых мы не знаем средний чек.\n",
    "\n",
    "Уберите из них все заведения, у которых средний чек неизвестен или превышает 2500. Пока есть опасение, что их слишком мало, чтобы мы смогли обучить на них что-нибудь.\n",
    "\n",
    "**3. Введите в Контест количество заведений, которое у вас получилось после очистки**.\n",
    "\n",
    "Дальше мы будем работать с очищенными данными."
   ]
  },
  {
   "cell_type": "code",
   "execution_count": 21,
   "metadata": {
    "id": "OxIkRsA1GH67"
   },
   "outputs": [
    {
     "name": "stdout",
     "output_type": "stream",
     "text": [
      "<class 'pandas.core.frame.DataFrame'>\n",
      "Index: 32136 entries, 0 to 68332\n",
      "Data columns (total 6 columns):\n",
      " #   Column        Non-Null Count  Dtype  \n",
      "---  ------        --------------  -----  \n",
      " 0   org_id        32136 non-null  uint64 \n",
      " 1   city          32136 non-null  object \n",
      " 2   average_bill  32136 non-null  float64\n",
      " 3   rating        27818 non-null  float64\n",
      " 4   rubrics_id    32136 non-null  object \n",
      " 5   features_id   32136 non-null  object \n",
      "dtypes: float64(2), object(3), uint64(1)\n",
      "memory usage: 1.7+ MB\n"
     ]
    }
   ],
   "source": [
    "data = data.loc[data['average_bill'].notna()]\n",
    "data = data.loc[data['average_bill'] <= 2500]\n",
    "\n",
    "data.info()"
   ]
  },
  {
   "cell_type": "markdown",
   "metadata": {
    "id": "GsNzGAp1GH67"
   },
   "source": [
    "**4. Посчитайте и введите в Контест разность между средними арифметическими average_bill в кафе Москвы и Санкт-Петербурга. Округлите ответ до целого.**\n",
    "\n",
    "&nbsp;\n",
    "\n",
    "<details>\n",
    "  <summary>Небольшая подсказка</summary>\n",
    "  Примените часто используемый метод groupby.\n",
    "</details>"
   ]
  },
  {
   "cell_type": "code",
   "execution_count": 22,
   "metadata": {
    "id": "gLdl3zVCGH67"
   },
   "outputs": [
    {
     "name": "stdout",
     "output_type": "stream",
     "text": [
      "Moscow mean is 793. SPb mean is 676.\n",
      "Difference is 117.\n"
     ]
    }
   ],
   "source": [
    "msk_mean = data.loc[data.city == 'msk'].average_bill.mean()\n",
    "spb_mean = data.loc[data.city == 'spb'].average_bill.mean()\n",
    "\n",
    "print(f'Moscow mean is {round(msk_mean)}. SPb mean is {round(spb_mean)}.\\nDifference is {round(msk_mean)-round(spb_mean)}.')"
   ]
  },
  {
   "cell_type": "markdown",
   "metadata": {},
   "source": [
    "Контест показывает, что правильный ответ: 142. Как это получить - не знаю."
   ]
  },
  {
   "cell_type": "code",
   "execution_count": 23,
   "metadata": {},
   "outputs": [
    {
     "data": {
      "text/plain": [
       "<Axes: xlabel='average_bill', ylabel='rating'>"
      ]
     },
     "execution_count": 23,
     "metadata": {},
     "output_type": "execute_result"
    },
    {
     "data": {
      "image/png": "[encoded data removed]",
      "text/plain": [
       "<Figure size 640x480 with 1 Axes>"
      ]
     },
     "metadata": {},
     "output_type": "display_data"
    }
   ],
   "source": [
    "import seaborn as sns\n",
    "\n",
    "sns.boxplot(data=data, x='average_bill', y='rating')"
   ]
  },
  {
   "cell_type": "code",
   "execution_count": 24,
   "metadata": {},
   "outputs": [
    {
     "name": "stdout",
     "output_type": "stream",
     "text": [
      "res_mean=1253.5087719298247, pab_mean=699.025974025974\n"
     ]
    }
   ],
   "source": [
    "res_mean = data.loc[data.rubrics_id == '30776'].average_bill.mean()\n",
    "pab_mean = data.loc[data.rubrics_id == '30770'].average_bill.mean()\n",
    "\n",
    "print(f'{res_mean=}, {pab_mean=}')"
   ]
  },
  {
   "cell_type": "markdown",
   "metadata": {
    "id": "Qncnmi8bGH7F"
   },
   "source": [
    "Давайте ещё немного поизучаем данные. Ответьте на вопросы:\n",
    "\n",
    "1. Есть ли разница между средними чеками в Москве и Санкт-Петербурге?\n",
    "2. Коррелирует ли средний чек с рейтингом?\n",
    "3. Есть ли разница в среднем чеке между ресторанами и пабами (см. соответствующие типы из ``rubrics``)?\n",
    "\n",
    "&nbsp;\n",
    "\n",
    "<details>\n",
    "  <summary>Когда будете готовы, кликните сюда, чтобы посмотреть ответ</summary>\n",
    "    <ol>\n",
    "      <li>В целом, да. Вы могли бы сравнить средние (в Москве больше) или медианы (они равны, потому что уж больно много где средний чек 500). Этого, конечно, мало для того, чтобы сделать вывод. Нужно проверять какие-то статические критерии, которые изучаются в курсе по статистике. Не будем останавливаться на этом подробно. Поскольку данные совсем не нормальные, никакой t-тест не сработает; мы бы предложили использовать критерий Манна-Уитни (см. википедию и функцию mannwhitneyu из библиотеки scipy.stats).</li>\n",
    "      <li>Какая-то корреляция между ними есть но уж больно неубедительная (рекомендуем построим на одном графике boxplot рейтинга по каждому значению среднего чека для визуализации). Конечно, дна становится меньше с ростом среднего чека, но, видимо, в предсказании это особо не используешь;</li>\n",
    "      <li>Несомненно, в ресторанах средний чек выше. Это и невооружённым глазом видно, и с помощью критерия Манна-Уитни можно проверить.</li>\n",
    "    </ol>\n",
    "</details>"
   ]
  },
  {
   "cell_type": "markdown",
   "metadata": {
    "id": "ATY5075lGH7F"
   },
   "source": [
    "## Формулируем задачу"
   ]
  },
  {
   "cell_type": "markdown",
   "metadata": {
    "id": "znpEgJGIGH7F"
   },
   "source": [
    "Прежде, чем решать задачу, её надо сформулировать.\n",
    "\n",
    "**Вопрос первый**: это классификация или регрессия? Подумайте над этим.\n",
    "\n",
    "&nbsp;\n",
    "\n",
    "<details>\n",
    "  <summary>Когда будете готовы, кликните сюда, чтобы посмотреть ответ</summary>\n",
    "    Ответ не столь однозначен, как хотелось бы. С одной стороны, таргет принимает всего четыре значения, и потому это может быть классификацией с 4 классами. С другой стороны, таргеты - это не абстрактные \"треугольник\", \"круг\", \"квадрат\", а вещественные числа, и когда мы вместо 500 предсказываем 2500, это явно хуже, чем вместо 1500 предсказать 2000. В целом, задачу можно решать и так, и так; мы будем смотреть на метрики обеих задач.\n",
    "</details>"
   ]
  },
  {
   "cell_type": "markdown",
   "metadata": {
    "id": "aaVuazxsGH7G"
   },
   "source": [
    "**Вопрос второй**: какие метрики мы будем использовать для оценки качества решения? Какие метрики вы предложили бы для этой задачи как для задачи классификации? А для этой задачи, как для задачи регрессии?\n",
    "\n",
    "&nbsp;\n",
    "\n",
    "<details>\n",
    "  <summary>Когда будете готовы, кликните сюда, чтобы посмотреть ответ</summary>\n",
    "    \n",
    "    Начнём с классификации. Метрика accuracy не очень хороша из-за несбалансированности классов. Действительно, классификатор, который всегда говорит 500, будет иметь accuracy примерно 0.66, хотя это никак не отражает практическую ценность модели. Как мы увидим, самая большая проблема будет заключаться в том, чтобы научиться выделять заведения с большими чеками, а их меньше всего и в accuracy они вносят самый маленький вклад. Есть разные способы с этим бороться, один -- использовать sklearn.metrics.balanced_accuracy_score. Его идея, грубо говоря, в том, чтобы по каждому классу найти, какая доля объектов этого класса правильно классифицирована, а потом эти доли усреднить. Тогда у бессмысленного классификатора, который всем ставит 500, будет скор 1/5 (ведь классов 5), а чтобы получить прежние 2/3, нужно будет научиться в каждом классе правильно ставить хотя бы 2/3 меток.    \n",
    "    \n",
    "    Теперь что касается регрессии. Основых метрики две - MSE и MAE. Из первой стоит извлекать корень, чтобы получать интерпретируемые человеком значения, а вторая менее агрессивна к выбросам (впрочем, выбросов тут уже нет, мы их все выкинули). Без дополнительной информации не очень понятно, какую выбирать, можно брать любую. А выбирать надо: ведь даже банальные модели \"предсказывай всегда среднее\" и \"предсказывай всегда медиану\" будут по-разному ранжироваться этими метриками.\n",
    "    \n",
    "</details>"
   ]
  },
  {
   "cell_type": "markdown",
   "metadata": {
    "id": "vs-jkCj-GH7G"
   },
   "source": [
    "**Вопрос третий**: а не взять ли нам какую-нибудь более экзотическую метрику? Например, MAPE (определение в учебнике в главе про оценку качества моделей). А как вам такое соображение: допустим, заказчик говорит, что пользователи будут расстраиваться, только если мы завысили средний чек - так давайте поправим MSE или MAE, обнуляя те слагаемые, для которых предсказанный таргет меньше истинного. Вот это хорошая метрика или нет?\n",
    "\n",
    "&nbsp;\n",
    "\n",
    "<details>\n",
    "  <summary>Когда будете готовы, кликните сюда, чтобы посмотреть ответ</summary>\n",
    "    \n",
    "    Что касается MAPE, у нас нет тех проблем, с которой она борется. Вот если бы у нас были средние чеки от 500 до миллиона, мы бы столкнулись с ситуацией, что большие ошибки для больших чеков доминировали бы в сумме для MSE и MAE (500 вместо 1000 меркнет по сравнению с 500к вместо миллиона). Говоря поэтически, мы бы оптимизировали модель для миллионеров, забыв про простых трудяг. И было бы логично перейти от парадигмы \"ошибаемся на 500 рублей\" к парадигме \"ошибаемся на 50%\". Но у нас все таргеты примерно одного порядка, MAPE нам особо ни к чему.\n",
    "    \n",
    "    Вторая метрика коварна тем, что её можно \"накрутить\" безо всякой пользы для дела. А именно, модель, которая всегда предсказывает средний чек в миллион, была бы идеальна. Но все бы расстраивались и не ходили есть. Другое дело, что можно ввести разные веса для ошибок в большую и в меньшую сторону, но опять же - пока нет показаний к тому, что это нужно.\n",
    "    \n",
    "</details>"
   ]
  },
  {
   "cell_type": "markdown",
   "metadata": {
    "id": "VCjV_SoAGH7G"
   },
   "source": [
    "## Применяем ML"
   ]
  },
  {
   "cell_type": "markdown",
   "metadata": {
    "id": "lqkvcLSPGH7G"
   },
   "source": [
    "Теперь время разбить данные на обучающую и тестовую выборку. Делается это с помощью функции ``train_test_split`` из пакета ``sklearn``. При этом очень важно сделать две вещи:\n",
    "\n",
    "* Зафиксировать ``random_state=42`` (да, именно этот, а то ваши модели могут не зайти в Контест), чтобы всё, что мы делаем, было воспроизводимо (иначе от перезапуска к перезапуску числа могут меняться, и мы не будем понимать, из-за чего это происходит).\n",
    "* Сделать стратификацию по таргету. В противном случае у нас в трейне и тесте могут оказаться разные пропорции классов (обычно особенно страдают мало представленные классы), что неутешительно скажется на результате.\n",
    "\n",
    "**Обратите внимание**, что если вы побьёте выборку на train и test по-другому, ваши результаты могут не зайти в контест."
   ]
  },
  {
   "cell_type": "code",
   "execution_count": 25,
   "metadata": {
    "id": "AF2IVpOjGH7H"
   },
   "outputs": [],
   "source": [
    "clean_data = data\n",
    "\n",
    "clean_data_train, clean_data_test = train_test_split(\n",
    "    clean_data, stratify=clean_data['average_bill'], test_size=0.33, random_state=42)"
   ]
  },
  {
   "cell_type": "markdown",
   "metadata": {
    "id": "S161veFJGH7H"
   },
   "source": [
    "Теперь нам нужен **бейзлайн** - очень простая модель, с которой мы в дальнейшем будем сравниваться.\n",
    "\n",
    "Поскольку мы ещё не знаем никаких умных классов моделей, все модели мы будем писать руками. А именно, мы напишем две простых модели на основе ``sklearn.baseRegressorMixin`` и ``sklearn.base.ClassifierMixin`` (посмотрите примеры в документации sklearn и сделайте так же):\n",
    "\n",
    "* Модель для задачи регрессии, которая для всех заведений предсказывает одно число — среднее значение среднего чека;\n",
    "* Модель для задачи классификации, которая для всех заведений предсказывает один класс — самый частый класс (ироничным образом он в данном случае совпадает с медианой).\n",
    "\n",
    "**Важно!** Мы будем много раз повторять вам мантру о том, что **информация из тестовой выборки не должна протекать в процесс обучения**. Так вот, и среднее, и самый частый класс вы должны считать именно на обучающей выборке!\n",
    "\n",
    "**5 и 6. Напишите эти две модели и сдайте в Контест**. В процессе проверки модели будут и обучаться, и предсказывать.\n",
    "\n",
    "Заметим, что для этих моделей нам вообще не нужны какие-то \"фичи\"; мы работаем только с таргетом.\n",
    "\n",
    "У каждой модели есть (как минимум) два метода: `fit` (обучает модель по фичам `X` и таргету `y`) `predict` (предсказывает по фичам `X`)"
   ]
  },
  {
   "cell_type": "code",
   "execution_count": 26,
   "metadata": {},
   "outputs": [
    {
     "data": {
      "text/html": [
       "<div>\n",
       "<style scoped>\n",
       "    .dataframe tbody tr th:only-of-type {\n",
       "        vertical-align: middle;\n",
       "    }\n",
       "\n",
       "    .dataframe tbody tr th {\n",
       "        vertical-align: top;\n",
       "    }\n",
       "\n",
       "    .dataframe thead th {\n",
       "        text-align: right;\n",
       "    }\n",
       "</style>\n",
       "<table border=\"1\" class=\"dataframe\">\n",
       "  <thead>\n",
       "    <tr style=\"text-align: right;\">\n",
       "      <th></th>\n",
       "      <th>org_id</th>\n",
       "      <th>city</th>\n",
       "      <th>average_bill</th>\n",
       "      <th>rating</th>\n",
       "      <th>rubrics_id</th>\n",
       "      <th>features_id</th>\n",
       "    </tr>\n",
       "  </thead>\n",
       "  <tbody>\n",
       "    <tr>\n",
       "      <th>65841</th>\n",
       "      <td>14385912302763770021</td>\n",
       "      <td>spb</td>\n",
       "      <td>1000.0</td>\n",
       "      <td>4.748444</td>\n",
       "      <td>30776 30770 31401</td>\n",
       "      <td>11177 3501618484 10462 3501481355 1509 1416 20...</td>\n",
       "    </tr>\n",
       "    <tr>\n",
       "      <th>48882</th>\n",
       "      <td>16695436192794975203</td>\n",
       "      <td>msk</td>\n",
       "      <td>500.0</td>\n",
       "      <td>3.793758</td>\n",
       "      <td>30771</td>\n",
       "      <td>3501744275 273469383 3501513153 11617 10462 11...</td>\n",
       "    </tr>\n",
       "    <tr>\n",
       "      <th>33711</th>\n",
       "      <td>11841431940065207518</td>\n",
       "      <td>msk</td>\n",
       "      <td>500.0</td>\n",
       "      <td>3.606557</td>\n",
       "      <td>30771 30777</td>\n",
       "      <td>3501773763 3501744275 3501773764 3501618484 15...</td>\n",
       "    </tr>\n",
       "    <tr>\n",
       "      <th>33544</th>\n",
       "      <td>16028521499441205186</td>\n",
       "      <td>msk</td>\n",
       "      <td>2000.0</td>\n",
       "      <td>4.683841</td>\n",
       "      <td>30776</td>\n",
       "      <td>3501618484 20422 1082283206 11704 11629 21247 ...</td>\n",
       "    </tr>\n",
       "    <tr>\n",
       "      <th>35293</th>\n",
       "      <td>12477116204055673498</td>\n",
       "      <td>spb</td>\n",
       "      <td>500.0</td>\n",
       "      <td>4.165394</td>\n",
       "      <td>30776 31401 30770</td>\n",
       "      <td>1524 246 11704 1018 3501618484 2020795524 2124...</td>\n",
       "    </tr>\n",
       "    <tr>\n",
       "      <th>...</th>\n",
       "      <td>...</td>\n",
       "      <td>...</td>\n",
       "      <td>...</td>\n",
       "      <td>...</td>\n",
       "      <td>...</td>\n",
       "      <td>...</td>\n",
       "    </tr>\n",
       "    <tr>\n",
       "      <th>55337</th>\n",
       "      <td>9041226080397910513</td>\n",
       "      <td>msk</td>\n",
       "      <td>2500.0</td>\n",
       "      <td>4.408108</td>\n",
       "      <td>30776</td>\n",
       "      <td>11629 11704 10462 11617 3501744275 20424 35017...</td>\n",
       "    </tr>\n",
       "    <tr>\n",
       "      <th>64048</th>\n",
       "      <td>14998683880343589209</td>\n",
       "      <td>msk</td>\n",
       "      <td>1000.0</td>\n",
       "      <td>3.555556</td>\n",
       "      <td>30776</td>\n",
       "      <td>273469383 20424 20422 246 1416 11867 11629 104...</td>\n",
       "    </tr>\n",
       "    <tr>\n",
       "      <th>22010</th>\n",
       "      <td>1621254442333414922</td>\n",
       "      <td>msk</td>\n",
       "      <td>2000.0</td>\n",
       "      <td>4.402516</td>\n",
       "      <td>30776</td>\n",
       "      <td>273469383 21247 11867 1082283206 20422 246 101...</td>\n",
       "    </tr>\n",
       "    <tr>\n",
       "      <th>40089</th>\n",
       "      <td>5620614742257813954</td>\n",
       "      <td>msk</td>\n",
       "      <td>500.0</td>\n",
       "      <td>NaN</td>\n",
       "      <td>30771</td>\n",
       "      <td>11704 1018 273469383 10462 20422</td>\n",
       "    </tr>\n",
       "    <tr>\n",
       "      <th>32180</th>\n",
       "      <td>11624301828012509826</td>\n",
       "      <td>spb</td>\n",
       "      <td>500.0</td>\n",
       "      <td>4.250000</td>\n",
       "      <td>30774</td>\n",
       "      <td>246 11867 1018 1415 1416 1524 10462 1509 11617...</td>\n",
       "    </tr>\n",
       "  </tbody>\n",
       "</table>\n",
       "<p>10605 rows × 6 columns</p>\n",
       "</div>"
      ],
      "text/plain": [
       "                     org_id city  average_bill    rating         rubrics_id  \\\n",
       "65841  14385912302763770021  spb        1000.0  4.748444  30776 30770 31401   \n",
       "48882  16695436192794975203  msk         500.0  3.793758              30771   \n",
       "33711  11841431940065207518  msk         500.0  3.606557        30771 30777   \n",
       "33544  16028521499441205186  msk        2000.0  4.683841              30776   \n",
       "35293  12477116204055673498  spb         500.0  4.165394  30776 31401 30770   \n",
       "...                     ...  ...           ...       ...                ...   \n",
       "55337   9041226080397910513  msk        2500.0  4.408108              30776   \n",
       "64048  14998683880343589209  msk        1000.0  3.555556              30776   \n",
       "22010   1621254442333414922  msk        2000.0  4.402516              30776   \n",
       "40089   5620614742257813954  msk         500.0       NaN              30771   \n",
       "32180  11624301828012509826  spb         500.0  4.250000              30774   \n",
       "\n",
       "                                             features_id  \n",
       "65841  11177 3501618484 10462 3501481355 1509 1416 20...  \n",
       "48882  3501744275 273469383 3501513153 11617 10462 11...  \n",
       "33711  3501773763 3501744275 3501773764 3501618484 15...  \n",
       "33544  3501618484 20422 1082283206 11704 11629 21247 ...  \n",
       "35293  1524 246 11704 1018 3501618484 2020795524 2124...  \n",
       "...                                                  ...  \n",
       "55337  11629 11704 10462 11617 3501744275 20424 35017...  \n",
       "64048  273469383 20424 20422 246 1416 11867 11629 104...  \n",
       "22010  273469383 21247 11867 1082283206 20422 246 101...  \n",
       "40089                   11704 1018 273469383 10462 20422  \n",
       "32180  246 11867 1018 1415 1416 1524 10462 1509 11617...  \n",
       "\n",
       "[10605 rows x 6 columns]"
      ]
     },
     "execution_count": 26,
     "metadata": {},
     "output_type": "execute_result"
    }
   ],
   "source": [
    "clean_data_test"
   ]
  },
  {
   "cell_type": "code",
   "execution_count": 27,
   "metadata": {
    "id": "lLz_sxtUGH7H"
   },
   "outputs": [],
   "source": [
    "from scipy.stats import mode\n",
    "\n",
    "from sklearn.base import RegressorMixin\n",
    "\n",
    "class MeanRegressor(RegressorMixin):\n",
    "    # Predicts the mean of y_train\n",
    "    def fit(self, X=None, y=None):\n",
    "        '''\n",
    "        Parameters\n",
    "        ----------\n",
    "        X : array like, shape = (n_samples, n_features)\n",
    "        Training data features\n",
    "        y : array like, shape = (n_samples,)\n",
    "        Training data targets\n",
    "        '''\n",
    "        self.param = y.mean()\n",
    "        self.is_fitted_ = True\n",
    "        return self\n",
    "\n",
    "    def predict(self, X=None):\n",
    "        '''\n",
    "        Parameters\n",
    "        ----------\n",
    "        X : array like, shape = (n_samples, n_features)\n",
    "        Data to predict\n",
    "        '''\n",
    "        return np.full(X.shape[0], self.param)\n",
    "\n",
    "from sklearn.base import ClassifierMixin\n",
    "\n",
    "class MostFrequentClassifier(ClassifierMixin):\n",
    "    # Predicts the rounded (just in case) median of y_train\n",
    "    def fit(self, X=None, y=None):\n",
    "        '''\n",
    "        Parameters\n",
    "        ----------\n",
    "        X : array like, shape = (n_samples, n_features)\n",
    "        Training data features\n",
    "        y : array like, shape = (_samples,)\n",
    "        Training data targets\n",
    "        '''\n",
    "        self.param = round(mode(y).mode)\n",
    "        self.is_fitted_ = True\n",
    "        return self\n",
    "\n",
    "    def predict(self, X=None):\n",
    "        '''\n",
    "        Parameters\n",
    "        ----------\n",
    "        X : array like, shape = (n_samples, n_features)\n",
    "        Data to predict\n",
    "        '''\n",
    "        return np.full(X.shape[0], self.param)"
   ]
  },
  {
   "cell_type": "markdown",
   "metadata": {
    "id": "lo2pNhVoGH7I"
   },
   "source": [
    "Обучим наши модели"
   ]
  },
  {
   "cell_type": "code",
   "execution_count": 28,
   "metadata": {},
   "outputs": [
    {
     "data": {
      "text/plain": [
       "500.0"
      ]
     },
     "execution_count": 28,
     "metadata": {},
     "output_type": "execute_result"
    }
   ],
   "source": [
    "mode(clean_data_train['average_bill']).mode"
   ]
  },
  {
   "cell_type": "code",
   "execution_count": 29,
   "metadata": {
    "id": "arXlaGnTGH7I"
   },
   "outputs": [
    {
     "data": {
      "text/plain": [
       "<__main__.MostFrequentClassifier at 0x7f2e67b18cd0>"
      ]
     },
     "execution_count": 29,
     "metadata": {},
     "output_type": "execute_result"
    }
   ],
   "source": [
    "reg = MeanRegressor()\n",
    "reg.fit(y=clean_data_train['average_bill'])\n",
    "\n",
    "clf = MostFrequentClassifier()\n",
    "clf.fit(y=clean_data_train['average_bill'])"
   ]
  },
  {
   "cell_type": "markdown",
   "metadata": {
    "id": "jJG8x0tmGH7I"
   },
   "source": [
    "Обучите модели и оцените их качество на тестовой выборке. В качестве метрик возьмём RMSE (``np.sqrt`` от ``sklearn.metrics.mean_squared_error``) и ``sklearn.metrics.balanced_accuracy_score``.\n",
    "\n",
    "Для регрессионной модели имеет смысл считать только RMSE (значения будут не кратны 500, точно мы угадывать не будем никогда), а вот для классификационной можно найти обе метрики. Сделайте это. Какая модель оказалась лучше по RMSE?"
   ]
  },
  {
   "cell_type": "code",
   "execution_count": 30,
   "metadata": {},
   "outputs": [
    {
     "data": {
      "text/plain": [
       "500"
      ]
     },
     "execution_count": 30,
     "metadata": {},
     "output_type": "execute_result"
    }
   ],
   "source": [
    "clf.param"
   ]
  },
  {
   "cell_type": "code",
   "execution_count": 31,
   "metadata": {},
   "outputs": [
    {
     "name": "stdout",
     "output_type": "stream",
     "text": [
      "reg_RMSE=448.7143889551622\n",
      "\n",
      "clf_RMSE=514.7517402382093\n",
      "clf_BAS=0.2\n",
      "clf_AS=0.6947666195190948\n"
     ]
    }
   ],
   "source": [
    "from sklearn.metrics import mean_squared_error, balanced_accuracy_score, accuracy_score\n",
    "\n",
    "reg_RMSE = np.sqrt(mean_squared_error(y_pred=reg.predict(X=clean_data_test), y_true=clean_data_test['average_bill']))\n",
    "\n",
    "clf_RMSE = np.sqrt(mean_squared_error(y_pred=clf.predict(X=clean_data_test), y_true=clean_data_test['average_bill']))\n",
    "clf_BAS = balanced_accuracy_score(y_pred=clf.predict(X=clean_data_test), y_true=clean_data_test['average_bill'])\n",
    "clf_AS = accuracy_score(y_pred=clf.predict(X=clean_data_test), y_true=clean_data_test['average_bill'])\n",
    "#clf_BAS = 0\n",
    "\n",
    "print(f'{reg_RMSE=}\\n\\n{clf_RMSE=}\\n{clf_BAS=}\\n{clf_AS=}')"
   ]
  },
  {
   "cell_type": "code",
   "execution_count": null,
   "metadata": {},
   "outputs": [],
   "source": []
  },
  {
   "cell_type": "markdown",
   "metadata": {
    "id": "kvZwp54sGH7J"
   },
   "source": [
    "<details>\n",
    "  <summary>Когда будете готовы, кликните сюда</summary>\n",
    "    \n",
    "  Казалось бы, регрессор никогда не угадывает, но он в каком-то смысле лучше классификатора - справедливо ли это? Возможно. Несуществующий пользователь модели вряд ли будет задавать вопросы \"почему средний чек не кратен 500?\" Ну, выдали около 800 - ок, понятно.\n",
    "    \n",
    "</details>"
   ]
  },
  {
   "cell_type": "markdown",
   "metadata": {
    "id": "V-1-O9GyGH7J"
   },
   "source": [
    "## Усложнение модели"
   ]
  },
  {
   "cell_type": "markdown",
   "metadata": {
    "id": "dGWgxl0VGH7J"
   },
   "source": [
    "Бейзлайны будут нашей отправной точкой. Строя дальнейшие модели, мы будем спрашивать себя: получилось ли лучше бейзлайна? Если нет или если не особо, то в чём смысл усложнения?"
   ]
  },
  {
   "cell_type": "markdown",
   "metadata": {
    "id": "9w3DkuuFGH7K"
   },
   "source": [
    "Начнём с использования фичи ``city``. Мы уже видели, что в разных городах и средние чеки разные. Легко проверить, что *медиана* средних чеков всё же одна и та же и в Москве, и в Санкт-Петербурге (ох уж этот вездесущий средний чек 500!), поэтому с классификатором мы ничего не сделаем. Но вот регрессор можно попробовать починить.\n",
    "\n",
    "**7. Напишите регрессор, для каждого заведения предсказывающий среднее значение в том же городе (на обучающей выборке, конечно) и сдайте его в Контест**. Вам может помочь то, что булевы `pandas` и `numpy` столбцы можно умножать на численные — в такой ситуации False работает, как ноль, а True как единица."
   ]
  },
  {
   "cell_type": "code",
   "execution_count": 32,
   "metadata": {
    "id": "ZULQVPe2GH7K"
   },
   "outputs": [],
   "source": [
    "from sklearn.base import RegressorMixin\n",
    "\n",
    "class CityMeanRegressor(RegressorMixin):\n",
    "    def fit(self, X=None, y=None):\n",
    "        df = pd.concat([X, y], axis=1)\n",
    "        msk_average = df.groupby(['city']).mean().loc['msk'].average_bill\n",
    "        spb_average = df.groupby(['city']).mean().loc['spb'].average_bill\n",
    "        self.param = {'msk': msk_average, 'spb': spb_average}\n",
    "\n",
    "        self.is_fitted_ = True\n",
    "        return self\n",
    "\n",
    "    def predict(self, X=None):\n",
    "        return X.map(self.param).values"
   ]
  },
  {
   "cell_type": "code",
   "execution_count": 33,
   "metadata": {},
   "outputs": [
    {
     "data": {
      "text/plain": [
       "<__main__.CityMeanRegressor at 0x7f2e67b2e4d0>"
      ]
     },
     "execution_count": 33,
     "metadata": {},
     "output_type": "execute_result"
    }
   ],
   "source": [
    "city_mean_regressor = CityMeanRegressor()\n",
    "\n",
    "city_mean_regressor.fit(X=clean_data_train['city'], y=clean_data_train['average_bill'])"
   ]
  },
  {
   "cell_type": "code",
   "execution_count": 34,
   "metadata": {},
   "outputs": [
    {
     "name": "stdout",
     "output_type": "stream",
     "text": [
      "445.1063281403263\n"
     ]
    },
    {
     "data": {
      "text/plain": [
       "{'msk': 792.6111908177905, 'spb': 677.7104465814781}"
      ]
     },
     "execution_count": 34,
     "metadata": {},
     "output_type": "execute_result"
    }
   ],
   "source": [
    "city_RMSE = np.sqrt(mean_squared_error(y_pred=city_mean_regressor.predict(X=clean_data_test['city']), y_true=clean_data_test['average_bill']))\n",
    "\n",
    "print(city_RMSE)\n",
    "city_mean_regressor.param"
   ]
  },
  {
   "cell_type": "markdown",
   "metadata": {
    "id": "1EeFGk24GH7K"
   },
   "source": [
    "Обучите регрессор и сравните его по метрике RMSE с бейзлайнами. Получилось ли улучшить метрику?"
   ]
  },
  {
   "cell_type": "markdown",
   "metadata": {
    "id": "jROycei1GH7L"
   },
   "source": [
    "Лучше стало, но, правда, не очень сильно. В этот момент очень важно не просто радовать руководителя приростом в третьем знаке, но и думать о том, что происходит.\n",
    "\n",
    "Средний средний чек по Москве равен 793, в Санкт-Петербурге - 676, а в целом - 752 рубля. MSE, увы, не поможет вам ответить на вопрос, стало ли лучше пользователю, если вы ему вместо 752 рублей назвали 793. Здесь вскрывается весьма существенный порок MSE в этой задаче. Дело в том, что наш изначальный таргет делит заведения на некоторые \"ценовые категории\", и различие в средних чеках 500 и 1000 в самом деле существенно. Наверное, мы хотели бы как раз правильно предсказывать ценовые категории. Но MSE не очень помогает нам об этом судить. Дальше мы ещё подумаем, как это исправить.\n",
    "\n",
    "В любом случае, несмотря на улучшение метрики, мы пока не можем судить, стало ли по жизни лучше от усложнения модели."
   ]
  },
  {
   "cell_type": "markdown",
   "metadata": {
    "id": "wEQ9eOoWGH7L"
   },
   "source": [
    "Поручинившись немного, возьмём на вооружение другую идею. Давайте использовать типы заведений!\n",
    "\n",
    "Но с типами есть некоторая проблема: в столбце ``rubrics_id`` не всегда один идентификатор, часто их несколько, и всего комбинаций довольно много. Чтобы не возиться с малочисленными типами, давайте сольём их в один безликий ``other``.\n",
    "\n",
    "Итак, добавьте в обучающие и тестовые данные столбец ``modified_rubrics``, в котором будет то же, что и в ``rubrics_id``, если соответствующая комбинация рубрик содержит хотя бы 100 заведений из обучающей (!) выборки, и строка ``other`` в противном случае.\n",
    "\n",
    "Здесь вам поможет контейнер ``Counter`` из библиотеки ``collections``."
   ]
  },
  {
   "cell_type": "code",
   "execution_count": 35,
   "metadata": {
    "id": "uTVW5KkwGH7L"
   },
   "outputs": [],
   "source": [
    "from collections import Counter\n",
    "\n",
    "rubrics_counter = Counter(clean_data_train['rubrics_id'])\n",
    "\n",
    "clean_data_train['modified_rubrics'] = clean_data_train['rubrics_id'].apply(lambda r: r if rubrics_counter[r] >= 100 else 'other')\n",
    "\n",
    "clean_data_test['modified_rubrics'] = clean_data_test['rubrics_id'].apply(lambda r: r if rubrics_counter[r] >= 100 else 'other')"
   ]
  },
  {
   "cell_type": "markdown",
   "metadata": {
    "id": "nZXhpBjnGH7L"
   },
   "source": [
    "Теперь настало время написать могучий классификатор, который по заведению предсказывает медиану средних чеков среди тех в обучающей выборке, у которых с ним одинаковые `modified_rubrics` и город (вы спросите, почему медиану, а не самый частый -- спишем это на вдохновение; самый частый тоже можно брать - но медиана работает лучше).\n",
    "\n",
    "**8. Напишите классификатор и сдайте в Контест**."
   ]
  },
  {
   "cell_type": "code",
   "execution_count": 36,
   "metadata": {},
   "outputs": [
    {
     "data": {
      "text/plain": [
       "city  modified_rubrics\n",
       "msk   30519                500.0\n",
       "      30770                500.0\n",
       "      30770 30774          500.0\n",
       "      30770 30776         1000.0\n",
       "      30771                500.0\n",
       "      30771 30774          500.0\n",
       "      30771 30776          500.0\n",
       "      30774                500.0\n",
       "      30774 30770          500.0\n",
       "      30774 30771          500.0\n",
       "      30774 30776         1000.0\n",
       "      30774 30777          500.0\n",
       "      30774 31495          500.0\n",
       "      30775                500.0\n",
       "      30776               1500.0\n",
       "      30776 30770         1000.0\n",
       "      30776 30771          500.0\n",
       "      30776 30774         1000.0\n",
       "      30776 31375          500.0\n",
       "      30777                500.0\n",
       "      30777 30774          500.0\n",
       "      31350                500.0\n",
       "      31375                500.0\n",
       "      31375 30776          500.0\n",
       "      31401               1000.0\n",
       "      31495                500.0\n",
       "      31495 30774          500.0\n",
       "      other                500.0\n",
       "spb   30519                500.0\n",
       "      30770                500.0\n",
       "      30770 30774          500.0\n",
       "      30770 30776         1000.0\n",
       "      30771                500.0\n",
       "      30771 30774          500.0\n",
       "      30771 30776          500.0\n",
       "      30774                500.0\n",
       "      30774 30770          500.0\n",
       "      30774 30771          500.0\n",
       "      30774 30776         1000.0\n",
       "      30774 30777          500.0\n",
       "      30774 31495          500.0\n",
       "      30775                500.0\n",
       "      30776               1000.0\n",
       "      30776 30770          500.0\n",
       "      30776 30771          500.0\n",
       "      30776 30774          500.0\n",
       "      30776 31375          500.0\n",
       "      30777                500.0\n",
       "      30777 30774          500.0\n",
       "      31350                500.0\n",
       "      31375                500.0\n",
       "      31375 30776         1000.0\n",
       "      31401                500.0\n",
       "      31495                500.0\n",
       "      31495 30774          500.0\n",
       "      other                500.0\n",
       "Name: average_bill, dtype: float64"
      ]
     },
     "execution_count": 36,
     "metadata": {},
     "output_type": "execute_result"
    }
   ],
   "source": [
    "X = pd.concat([clean_data_train['city'], clean_data_train['modified_rubrics']], axis=1)\n",
    "y = clean_data_train['average_bill']\n",
    "\n",
    "df = pd.concat([X, y], axis=1)\n",
    "\n",
    "param = df.groupby(['city', 'modified_rubrics'])['average_bill'].median()\n",
    "\n",
    "param['msk', '30770 30774']\n",
    "\n",
    "param"
   ]
  },
  {
   "cell_type": "code",
   "execution_count": null,
   "metadata": {},
   "outputs": [],
   "source": []
  },
  {
   "cell_type": "code",
   "execution_count": 37,
   "metadata": {
    "id": "eTfcwh5dGH7M"
   },
   "outputs": [],
   "source": [
    "from sklearn.base import ClassifierMixin\n",
    "\n",
    "class MightyClassifier(ClassifierMixin):\n",
    "    # Predicts the rounded (just in case) median of y_train\n",
    "    def fit(self, X=None, y=None):\n",
    "        df = pd.concat([X, y], axis=1)\n",
    "        self.param = df.groupby(['city', 'modified_rubrics'])['average_bill'].median()\n",
    "        self.is_fitted_ = True\n",
    "        return self\n",
    "\n",
    "    def predict(self, X=None):\n",
    "        return X.apply(lambda x: self.param[x['city'], x['modified_rubrics']], axis=1)"
   ]
  },
  {
   "cell_type": "code",
   "execution_count": 38,
   "metadata": {},
   "outputs": [
    {
     "data": {
      "text/plain": [
       "<__main__.MightyClassifier at 0x7f2e67af5f90>"
      ]
     },
     "execution_count": 38,
     "metadata": {},
     "output_type": "execute_result"
    }
   ],
   "source": [
    "mighty_cls = MightyClassifier()\n",
    "\n",
    "mighty_cls.fit(X=pd.concat([clean_data_train['city'], clean_data_train['modified_rubrics']], axis=1), y=clean_data_train['average_bill'])"
   ]
  },
  {
   "cell_type": "code",
   "execution_count": 39,
   "metadata": {},
   "outputs": [
    {
     "name": "stdout",
     "output_type": "stream",
     "text": [
      "clf_RMSE=393.96675836287915\n",
      "clf_BAS=0.30552511833185647\n",
      "clf_AS=0.7095709570957096\n"
     ]
    }
   ],
   "source": [
    "from sklearn.metrics import mean_squared_error, balanced_accuracy_score, accuracy_score\n",
    "\n",
    "clf_RMSE = np.sqrt(mean_squared_error(y_pred=mighty_cls.predict(X=clean_data_test), y_true=clean_data_test['average_bill']))\n",
    "clf_BAS = balanced_accuracy_score(y_pred=mighty_cls.predict(X=clean_data_test), y_true=clean_data_test['average_bill'])\n",
    "clf_AS = accuracy_score(y_pred=mighty_cls.predict(X=clean_data_test), y_true=clean_data_test['average_bill'])\n",
    "\n",
    "print(f'{clf_RMSE=}\\n{clf_BAS=}\\n{clf_AS=}')"
   ]
  },
  {
   "cell_type": "markdown",
   "metadata": {
    "id": "xbgjbwgkGH7M"
   },
   "source": [
    "Сравните обученный классификатор по метрикам RMSE и balanced_accuracy_score с нашими бейзлайнами. Получилось ли улучшить?"
   ]
  },
  {
   "cell_type": "markdown",
   "metadata": {
    "id": "UMjsnCnQGH7M"
   },
   "source": [
    "Обратите внимание что рост accuracy по сравнению с бейзлайном при этом на порядок меньше:"
   ]
  },
  {
   "cell_type": "markdown",
   "metadata": {
    "id": "K2cF0I-CGH7M"
   },
   "source": [
    "accuracy_score\n",
    "\n",
    "Predict most frequent:  0.6947666195190948\n",
    "\n",
    "Predict by rubric and city:  0.7095709570957096"
   ]
  },
  {
   "cell_type": "markdown",
   "metadata": {
    "id": "ylrAIjCcGH7N"
   },
   "source": [
    "Для диагностики напечатайте для каждого класса тестовой выборки, сколько в нём объектов и скольким из них наш классификатор приписал правильный класс. Что вы видите?\n",
    "\n",
    "&nbsp;\n",
    "\n",
    "<details>\n",
    "  <summary>Когда будете готовы, кликните сюда, чтобы посмотреть ответ</summary>\n",
    "    \n",
    "  Вы, вероятно, видите то, что мы стали однозначно лучше по сравнению с бейзлайном детектировать средний чек 1000 и 1500 (хотя всё равно не очень хорошо + ценой ухудшения качества на среднем чеке 500), а вот чеки 2000 и 2500 нам ну никак не даются.\n",
    "    \n",
    "</details>"
   ]
  },
  {
   "cell_type": "markdown",
   "metadata": {
    "id": "9ScOy7ZvGH7N"
   },
   "source": [
    "**Кстати**. А вы понимаете, почему приведённый выше пайплайн классификации был не очень удачным с точки зрения архитектуры? Почему его было бы правильнее воплотить по-другому?\n",
    "\n",
    "&nbsp;\n",
    "\n",
    "<details>\n",
    "  <summary>Когда будете готовы, кликните сюда, чтобы посмотреть ответ</summary>\n",
    "Собственно говоря, и не было никакого пайплайна. К счастью, у нас была одна обучающая выборка, мы на ней посчитали список рубрик для modified_rubrics и радовались жизни. Но если бы нам надо было переобучать всё на новых данных, пришлось бы помнить, что их надо везде пересчитать (ведь у нас могли появиться новые рубрики с хотя бы 100 представителями). А уж никакую кросс-валидацию (кто знает - тот поймёт) с нашим подходом к делу и вовсе бы не получилось сделать без боли.\n",
    "    \n",
    "Поэтому в следующей лабораторной вы научитесь делать честные пайплайны, в которых преобразование данных, генерация фичей и обучение классификатора будут объединены в один понятный процесс, происходящий на этапе fit.\n",
    "</details>"
   ]
  },
  {
   "cell_type": "markdown",
   "metadata": {
    "id": "4ujl3tbbGH7N"
   },
   "source": [
    "## Слишком простые и слишком сложные модели"
   ]
  },
  {
   "cell_type": "markdown",
   "metadata": {
    "id": "QF7McCHsGH7N"
   },
   "source": [
    "Бейзлайны у нас слишком просты и потому не очень полезны в жизни. Но если сложность модели растёт бесконтрольно, то тоже получается плохо.\n",
    "\n",
    "Давайте рассмотрим конкретный пример. Создадим классификатор, использующий одновременно `rubrics_id` и `features_id`.\n",
    "\n",
    "Сделайте следующее:\n",
    "\n",
    "- для каждого объекта обучающей выборки сконкатенируйте строку `rubrics_id` с разделителем (например, буквой 'q') и содержимым `features_id`. Полученный столбец озаглавьте `modified_features`. Это не самый клёвый способ заиспользовать все фичи, но сейчас пока сойдёт. Причём на сей раз не будем выкидывать мало представленные значения (вся информация важна, не так ли?).\n",
    "- при этом для тестовой выборке заменяйте на строку `other` все конкатенации, которые не встретились в обучающей выборке.\n",
    "\n",
    "То есть элементы в этом столбце будут иметь вид `other` или `30776 30774 q 3502045032 11741 3502045016 1046...`."
   ]
  },
  {
   "cell_type": "code",
   "execution_count": 40,
   "metadata": {},
   "outputs": [],
   "source": [
    "clean_data_train['modified_features'] = clean_data_train['rubrics_id'] + ' q ' + clean_data_train['features_id']"
   ]
  },
  {
   "cell_type": "code",
   "execution_count": 41,
   "metadata": {},
   "outputs": [
    {
     "data": {
      "text/html": [
       "<div>\n",
       "<style scoped>\n",
       "    .dataframe tbody tr th:only-of-type {\n",
       "        vertical-align: middle;\n",
       "    }\n",
       "\n",
       "    .dataframe tbody tr th {\n",
       "        vertical-align: top;\n",
       "    }\n",
       "\n",
       "    .dataframe thead th {\n",
       "        text-align: right;\n",
       "    }\n",
       "</style>\n",
       "<table border=\"1\" class=\"dataframe\">\n",
       "  <thead>\n",
       "    <tr style=\"text-align: right;\">\n",
       "      <th></th>\n",
       "      <th>org_id</th>\n",
       "      <th>city</th>\n",
       "      <th>average_bill</th>\n",
       "      <th>rating</th>\n",
       "      <th>rubrics_id</th>\n",
       "      <th>features_id</th>\n",
       "      <th>modified_rubrics</th>\n",
       "      <th>modified_features</th>\n",
       "    </tr>\n",
       "  </thead>\n",
       "  <tbody>\n",
       "    <tr>\n",
       "      <th>45769</th>\n",
       "      <td>3276960721840719260</td>\n",
       "      <td>msk</td>\n",
       "      <td>500.0</td>\n",
       "      <td>4.500000</td>\n",
       "      <td>30770</td>\n",
       "      <td>11704 20422 1018 11177 1416 11867 10462</td>\n",
       "      <td>30770</td>\n",
       "      <td>30770 q 11704 20422 1018 11177 1416 11867 10462</td>\n",
       "    </tr>\n",
       "    <tr>\n",
       "      <th>39061</th>\n",
       "      <td>8452997364765928283</td>\n",
       "      <td>msk</td>\n",
       "      <td>1500.0</td>\n",
       "      <td>4.442623</td>\n",
       "      <td>30774 30776</td>\n",
       "      <td>1415 3501481355 1416 11629 10462 1524 20422 11...</td>\n",
       "      <td>30774 30776</td>\n",
       "      <td>30774 30776 q 1415 3501481355 1416 11629 10462...</td>\n",
       "    </tr>\n",
       "    <tr>\n",
       "      <th>59281</th>\n",
       "      <td>14240408259222214074</td>\n",
       "      <td>spb</td>\n",
       "      <td>1000.0</td>\n",
       "      <td>4.018868</td>\n",
       "      <td>30776 30774</td>\n",
       "      <td>3502045032 11741 3502045016 10462 11704 350177...</td>\n",
       "      <td>30776 30774</td>\n",
       "      <td>30776 30774 q 3502045032 11741 3502045016 1046...</td>\n",
       "    </tr>\n",
       "    <tr>\n",
       "      <th>51225</th>\n",
       "      <td>15114069072602161053</td>\n",
       "      <td>msk</td>\n",
       "      <td>1500.0</td>\n",
       "      <td>4.364742</td>\n",
       "      <td>31401 30776</td>\n",
       "      <td>3501513153 3501779478 3491142672 273469383 350...</td>\n",
       "      <td>other</td>\n",
       "      <td>31401 30776 q 3501513153 3501779478 3491142672...</td>\n",
       "    </tr>\n",
       "    <tr>\n",
       "      <th>29587</th>\n",
       "      <td>2730337118800634815</td>\n",
       "      <td>msk</td>\n",
       "      <td>1000.0</td>\n",
       "      <td>4.698718</td>\n",
       "      <td>30770</td>\n",
       "      <td>21247 10896 3491142672 11629 3501481353 350148...</td>\n",
       "      <td>30770</td>\n",
       "      <td>30770 q 21247 10896 3491142672 11629 350148135...</td>\n",
       "    </tr>\n",
       "  </tbody>\n",
       "</table>\n",
       "</div>"
      ],
      "text/plain": [
       "                     org_id city  average_bill    rating   rubrics_id  \\\n",
       "45769   3276960721840719260  msk         500.0  4.500000        30770   \n",
       "39061   8452997364765928283  msk        1500.0  4.442623  30774 30776   \n",
       "59281  14240408259222214074  spb        1000.0  4.018868  30776 30774   \n",
       "51225  15114069072602161053  msk        1500.0  4.364742  31401 30776   \n",
       "29587   2730337118800634815  msk        1000.0  4.698718        30770   \n",
       "\n",
       "                                             features_id modified_rubrics  \\\n",
       "45769            11704 20422 1018 11177 1416 11867 10462            30770   \n",
       "39061  1415 3501481355 1416 11629 10462 1524 20422 11...      30774 30776   \n",
       "59281  3502045032 11741 3502045016 10462 11704 350177...      30776 30774   \n",
       "51225  3501513153 3501779478 3491142672 273469383 350...            other   \n",
       "29587  21247 10896 3491142672 11629 3501481353 350148...            30770   \n",
       "\n",
       "                                       modified_features  \n",
       "45769    30770 q 11704 20422 1018 11177 1416 11867 10462  \n",
       "39061  30774 30776 q 1415 3501481355 1416 11629 10462...  \n",
       "59281  30776 30774 q 3502045032 11741 3502045016 1046...  \n",
       "51225  31401 30776 q 3501513153 3501779478 3491142672...  \n",
       "29587  30770 q 21247 10896 3491142672 11629 350148135...  "
      ]
     },
     "execution_count": 41,
     "metadata": {},
     "output_type": "execute_result"
    }
   ],
   "source": [
    "clean_data_train.head()"
   ]
  },
  {
   "cell_type": "code",
   "execution_count": 42,
   "metadata": {},
   "outputs": [
    {
     "data": {
      "text/plain": [
       "1"
      ]
     },
     "execution_count": 42,
     "metadata": {},
     "output_type": "execute_result"
    }
   ],
   "source": [
    "from collections import Counter\n",
    "\n",
    "modified_features_counter = Counter(clean_data_train['modified_features'])\n",
    "\n",
    "modified_features_counter['30770 q 11704 20422 1018 11177 1416 11867 10462']"
   ]
  },
  {
   "cell_type": "code",
   "execution_count": 43,
   "metadata": {},
   "outputs": [
    {
     "data": {
      "text/html": [
       "<div>\n",
       "<style scoped>\n",
       "    .dataframe tbody tr th:only-of-type {\n",
       "        vertical-align: middle;\n",
       "    }\n",
       "\n",
       "    .dataframe tbody tr th {\n",
       "        vertical-align: top;\n",
       "    }\n",
       "\n",
       "    .dataframe thead th {\n",
       "        text-align: right;\n",
       "    }\n",
       "</style>\n",
       "<table border=\"1\" class=\"dataframe\">\n",
       "  <thead>\n",
       "    <tr style=\"text-align: right;\">\n",
       "      <th></th>\n",
       "      <th>org_id</th>\n",
       "      <th>city</th>\n",
       "      <th>average_bill</th>\n",
       "      <th>rating</th>\n",
       "      <th>rubrics_id</th>\n",
       "      <th>features_id</th>\n",
       "      <th>modified_rubrics</th>\n",
       "      <th>modified_features</th>\n",
       "    </tr>\n",
       "  </thead>\n",
       "  <tbody>\n",
       "    <tr>\n",
       "      <th>65841</th>\n",
       "      <td>14385912302763770021</td>\n",
       "      <td>spb</td>\n",
       "      <td>1000.0</td>\n",
       "      <td>4.748444</td>\n",
       "      <td>30776 30770 31401</td>\n",
       "      <td>11177 3501618484 10462 3501481355 1509 1416 20...</td>\n",
       "      <td>other</td>\n",
       "      <td>other</td>\n",
       "    </tr>\n",
       "    <tr>\n",
       "      <th>48882</th>\n",
       "      <td>16695436192794975203</td>\n",
       "      <td>msk</td>\n",
       "      <td>500.0</td>\n",
       "      <td>3.793758</td>\n",
       "      <td>30771</td>\n",
       "      <td>3501744275 273469383 3501513153 11617 10462 11...</td>\n",
       "      <td>30771</td>\n",
       "      <td>other</td>\n",
       "    </tr>\n",
       "    <tr>\n",
       "      <th>33711</th>\n",
       "      <td>11841431940065207518</td>\n",
       "      <td>msk</td>\n",
       "      <td>500.0</td>\n",
       "      <td>3.606557</td>\n",
       "      <td>30771 30777</td>\n",
       "      <td>3501773763 3501744275 3501773764 3501618484 15...</td>\n",
       "      <td>other</td>\n",
       "      <td>other</td>\n",
       "    </tr>\n",
       "    <tr>\n",
       "      <th>33544</th>\n",
       "      <td>16028521499441205186</td>\n",
       "      <td>msk</td>\n",
       "      <td>2000.0</td>\n",
       "      <td>4.683841</td>\n",
       "      <td>30776</td>\n",
       "      <td>3501618484 20422 1082283206 11704 11629 21247 ...</td>\n",
       "      <td>30776</td>\n",
       "      <td>other</td>\n",
       "    </tr>\n",
       "    <tr>\n",
       "      <th>35293</th>\n",
       "      <td>12477116204055673498</td>\n",
       "      <td>spb</td>\n",
       "      <td>500.0</td>\n",
       "      <td>4.165394</td>\n",
       "      <td>30776 31401 30770</td>\n",
       "      <td>1524 246 11704 1018 3501618484 2020795524 2124...</td>\n",
       "      <td>other</td>\n",
       "      <td>other</td>\n",
       "    </tr>\n",
       "  </tbody>\n",
       "</table>\n",
       "</div>"
      ],
      "text/plain": [
       "                     org_id city  average_bill    rating         rubrics_id  \\\n",
       "65841  14385912302763770021  spb        1000.0  4.748444  30776 30770 31401   \n",
       "48882  16695436192794975203  msk         500.0  3.793758              30771   \n",
       "33711  11841431940065207518  msk         500.0  3.606557        30771 30777   \n",
       "33544  16028521499441205186  msk        2000.0  4.683841              30776   \n",
       "35293  12477116204055673498  spb         500.0  4.165394  30776 31401 30770   \n",
       "\n",
       "                                             features_id modified_rubrics  \\\n",
       "65841  11177 3501618484 10462 3501481355 1509 1416 20...            other   \n",
       "48882  3501744275 273469383 3501513153 11617 10462 11...            30771   \n",
       "33711  3501773763 3501744275 3501773764 3501618484 15...            other   \n",
       "33544  3501618484 20422 1082283206 11704 11629 21247 ...            30776   \n",
       "35293  1524 246 11704 1018 3501618484 2020795524 2124...            other   \n",
       "\n",
       "      modified_features  \n",
       "65841             other  \n",
       "48882             other  \n",
       "33711             other  \n",
       "33544             other  \n",
       "35293             other  "
      ]
     },
     "execution_count": 43,
     "metadata": {},
     "output_type": "execute_result"
    }
   ],
   "source": [
    "clean_data_test['modified_features'] = clean_data_test['rubrics_id'] + ' q ' + clean_data_test['features_id']\n",
    "\n",
    "clean_data_test['modified_features'] = clean_data_test['modified_features'].apply(lambda mf: mf if modified_features_counter[mf] > 0 else 'other')\n",
    "\n",
    "clean_data_test.head()"
   ]
  },
  {
   "cell_type": "code",
   "execution_count": 44,
   "metadata": {},
   "outputs": [
    {
     "data": {
      "text/plain": [
       "65841    500.0\n",
       "48882    500.0\n",
       "33711    500.0\n",
       "33544    500.0\n",
       "35293    500.0\n",
       "         ...  \n",
       "55337    500.0\n",
       "64048    500.0\n",
       "22010    500.0\n",
       "40089    500.0\n",
       "32180    500.0\n",
       "Name: modified_features, Length: 10605, dtype: float64"
      ]
     },
     "execution_count": 44,
     "metadata": {},
     "output_type": "execute_result"
    }
   ],
   "source": [
    "param = clean_data_train.groupby(['modified_features'])['average_bill'].median()\n",
    "\n",
    "clean_data_test['modified_features'].apply(lambda x: param[x] if x in param else 500)"
   ]
  },
  {
   "cell_type": "code",
   "execution_count": 45,
   "metadata": {},
   "outputs": [],
   "source": [
    "from sklearn.base import ClassifierMixin\n",
    "\n",
    "class FeaturesClassifier(ClassifierMixin):\n",
    "    # Predicts the rounded (just in case) median of y_train\n",
    "    def fit(self, X=None, y=None):\n",
    "        df = pd.concat([X, y], axis=1)\n",
    "        self.param = df.groupby(['modified_features'])['average_bill'].median()\n",
    "        self.param_global = df['average_bill'].median()\n",
    "        self.is_fitted_ = True\n",
    "        return self\n",
    "\n",
    "    def predict(self, X=None):\n",
    "        return X['modified_features'].apply(lambda x: self.param[x] if x in self.param else self.param_global)"
   ]
  },
  {
   "cell_type": "code",
   "execution_count": 46,
   "metadata": {},
   "outputs": [
    {
     "data": {
      "text/plain": [
       "<__main__.FeaturesClassifier at 0x7f2e67b19650>"
      ]
     },
     "execution_count": 46,
     "metadata": {},
     "output_type": "execute_result"
    }
   ],
   "source": [
    "feature_cls = FeaturesClassifier()\n",
    "\n",
    "feature_cls.fit(X=clean_data_train['modified_features'], y=clean_data_train['average_bill'])"
   ]
  },
  {
   "cell_type": "markdown",
   "metadata": {
    "id": "e8tNBPzVGH7O"
   },
   "source": [
    "Теперь обучите классификатор, который для заведения предсказывает медиану среднего чека по всем объектам тестовой выборки с таким же, как у него, значением `modified_features`, а если такого в обучающей выборке нет, то глобальную медиану среднего чека по всей обучающей выборке.\n",
    "\n",
    "**9. Загрузите в Контест предсказания этого классификатора на тестовой выборке**\n",
    "\n",
    "Мы ждём файла **.csv**, у которого в каждой строке будет только одно число - предсказание классификатора.\n",
    "\n",
    "Возможно, вам будет полезна библиотека ``tqdm``, позволяющая отслеживать в реальном времени, сколько времени уже крутится цикл и сколько итераций ещё осталось. Впрочем, если вы всё написали нормально, то должно работать не очень долго."
   ]
  },
  {
   "cell_type": "code",
   "execution_count": 47,
   "metadata": {},
   "outputs": [
    {
     "name": "stderr",
     "output_type": "stream",
     "text": [
      "0it [00:00, ?it/s]"
     ]
    },
    {
     "data": {
      "text/plain": [
       "<tqdm.std.tqdm at 0x7f2e68d41410>"
      ]
     },
     "execution_count": 47,
     "metadata": {},
     "output_type": "execute_result"
    }
   ],
   "source": [
    "from tqdm import tqdm\n",
    "\n",
    "tqdm(feature_cls.predict(X=clean_data_test).to_csv('./result.csv', header=False))"
   ]
  },
  {
   "cell_type": "markdown",
   "metadata": {},
   "source": [
    "tqdm не пригодился.\n",
    "\n",
    "Файл прошел в контест."
   ]
  },
  {
   "cell_type": "markdown",
   "metadata": {
    "id": "_XrswPW4GH7O"
   },
   "source": [
    "Модель, очевидно, очень сложная. Число параметров (различных категорий) в ней сопоставимо с числом объектов в обучающей выборке. А получилось ли хорошо?\n",
    "\n",
    "Давайте посчитаем RMSE и balanced_accuracy_score на обучающей и на тестовой выборках.\n",
    "\n",
    "**10. Введите их в Контест**"
   ]
  },
  {
   "cell_type": "code",
   "execution_count": 49,
   "metadata": {},
   "outputs": [
    {
     "name": "stderr",
     "output_type": "stream",
     "text": [
      "/opt/conda/lib/python3.11/site-packages/sklearn/metrics/_classification.py:2480: UserWarning: y_pred contains classes not in y_true\n",
      "  warnings.warn(\"y_pred contains classes not in y_true\")\n"
     ]
    },
    {
     "name": "stdout",
     "output_type": "stream",
     "text": [
      "Тестовая выборка:\n",
      "mf_clf_RMSE=513.9898108867789\n",
      "mf_clf_BAS=0.2010249213051401\n",
      "mf_clf_AS=0.6934464875058934\n",
      "\n",
      "\n",
      "Обучающая выборка:\n",
      "mf_clf_RMSE_train=32.4162067388783\n",
      "mf_clf_BAS_train=0.9931928777769354\n",
      "mf_clf_AS_train=0.9961915377827318\n"
     ]
    },
    {
     "name": "stderr",
     "output_type": "stream",
     "text": [
      "/opt/conda/lib/python3.11/site-packages/sklearn/metrics/_classification.py:2480: UserWarning: y_pred contains classes not in y_true\n",
      "  warnings.warn(\"y_pred contains classes not in y_true\")\n"
     ]
    }
   ],
   "source": [
    "from sklearn.metrics import mean_squared_error, balanced_accuracy_score, accuracy_score\n",
    "\n",
    "mf_clf_RMSE = np.sqrt(mean_squared_error(y_pred=feature_cls.predict(X=clean_data_test), y_true=clean_data_test['average_bill']))\n",
    "mf_clf_BAS = balanced_accuracy_score(y_pred=feature_cls.predict(X=clean_data_test), y_true=clean_data_test['average_bill'])\n",
    "mf_clf_AS = accuracy_score(y_pred=feature_cls.predict(X=clean_data_test), y_true=clean_data_test['average_bill'])\n",
    "\n",
    "print(f'Тестовая выборка:\\n{mf_clf_RMSE=}\\n{mf_clf_BAS=}\\n{mf_clf_AS=}')\n",
    "\n",
    "mf_clf_RMSE_train = np.sqrt(mean_squared_error(y_pred=feature_cls.predict(X=clean_data_train), y_true=clean_data_train['average_bill']))\n",
    "mf_clf_BAS_train = balanced_accuracy_score(y_pred=feature_cls.predict(X=clean_data_train), y_true=clean_data_train['average_bill'])\n",
    "mf_clf_AS_train = accuracy_score(y_pred=feature_cls.predict(X=clean_data_train), y_true=clean_data_train['average_bill'])\n",
    "\n",
    "print(f'\\n\\nОбучающая выборка:\\n{mf_clf_RMSE_train=}\\n{mf_clf_BAS_train=}\\n{mf_clf_AS_train=}')"
   ]
  },
  {
   "cell_type": "code",
   "execution_count": 50,
   "metadata": {},
   "outputs": [
    {
     "name": "stdout",
     "output_type": "stream",
     "text": [
      "Для контеста:\n",
      "\n",
      "RMSE на обучающей выборке: 32.42\n",
      "balanced_accuracy_score на обучающей выборке: 0.99\n",
      "RMSE на тестовой выборке: 513.99\n",
      "balanced_accuracy_score на тестовой выборке: 0.2\n",
      "\n",
      "Значения проходят контест\n"
     ]
    }
   ],
   "source": [
    "print(f'Для контеста:\\n\\nRMSE на обучающей выборке: {round(mf_clf_RMSE_train, 2)}\\nbalanced_accuracy_score на обучающей выборке: {round(mf_clf_BAS_train, 2)}\\nRMSE на тестовой выборке: {round(mf_clf_RMSE, 2)}\\nbalanced_accuracy_score на тестовой выборке: {round(mf_clf_BAS, 2)}\\n\\nЗначения проходят контест')"
   ]
  },
  {
   "cell_type": "markdown",
   "metadata": {
    "id": "fGDTpxFgGH7O"
   },
   "source": [
    "Налицо переобучение: на трейне метрики отличные, на тесте - вообще никакие\n",
    "\n",
    "В общем, не гонитесь за чрезмерной сложностью модели.."
   ]
  },
  {
   "cell_type": "markdown",
   "metadata": {
    "id": "YTU2yubYGH7O"
   },
   "source": [
    "## ML без данных что компутер без электричества"
   ]
  },
  {
   "cell_type": "markdown",
   "metadata": {
    "id": "DBVOCVf2GH7P"
   },
   "source": [
    "Возможно, вы смотрите на полученные выше результаты и думаете: вот если бы мы не какие-то убогие медианы предсказывали, а гоняли бы нейросети, то тут-то бы всё и получилось!\n",
    "\n",
    "Но, увы, совсем даже не всегда от счастья нас отделяет выбор хорошей модели (и стратегии обучения). Если данные не очень, то даже самая крутая модель не сработает. В этой ситуации нужно либо добывать новые фичи каким-то образом, либо собирать новые данные (увеличивать датасет), либо просто бросать задачу.\n",
    "\n",
    "Давайте посмотрим, что выжмет из наших данных одна из самых мощных моделей для табличных данных - градиентный бустинг на решающих деревьях в исполнении [CatBoost](https://catboost.ai/)."
   ]
  },
  {
   "cell_type": "markdown",
   "metadata": {
    "id": "a0L4UmzSGH7P"
   },
   "source": [
    "Но прежде, чем сделать fit, нам надо облагородить данные. Несмотря на то, что CatBoost отлично работает с категориальными фичами, мешок признаков из `rubrics_id` или `features_id` может ему оказаться не по зубам. Поэтому мы соберём датасет в пристойную матрицу, создав для каждого типа рубрик и фичей отдельный столбец и записав там единицы для тех объектов, у которых эта рубрика или фича имеет место.\n",
    "\n",
    "В матрице почти все элементы будут нулями. Такие матрицы считаются **разреженными** и их можно хранить гораздо эффективней, чем просто таблицей. Этим и займёмся)"
   ]
  },
  {
   "cell_type": "markdown",
   "metadata": {
    "id": "IJKuMtNbGH7P"
   },
   "source": [
    "Есть несколько форматов хранения разреженных матриц (многие из них реализованы в [пакете sparse библиотеки scipy](https://docs.scipy.org/doc/scipy/reference/sparse.html)), и каждый пригоден для чего-то своего.\n",
    "\n",
    "Создавать разреженную матрицу лучше в [формате COO](https://docs.scipy.org/doc/scipy/reference/generated/scipy.sparse.coo_array.html#scipy.sparse.coo_array). Он предполагает, что разреженная матрица задаётся в виде трёх списков: `row`, `col`, `data`, причём каждая тройка `(row[i], col[i], data[i])` кодирует элемент со значением `data[i]`, стоящий на позиции `(row[i], col[i])`. Считается, что на позициях `(row, col)`, которые ни разу не встретились, стоят нули.\n",
    "\n",
    "Нетрудно видеть, что заполнять такую матрицу - одно удовольствие, и особенно этому помогает тот факт, что **пара `(row, col)` может встретиться несколько раз** (тогда в итоговой матрице на соответствующей позиции стоит сумма соответствующих `data[i]`). Но, с другой стороны, почти ничего другого с такой матрицей не сделаешь: произвольного доступа к элементам она не предоставляет, умножить её тоже особо ничего не умножишь. Поэтому для дальнейшего использования созданную таким образом матрицу преобразуют в один из более удобных форматов, например, [CSR (compressed sparse row)](https://scipy-lectures.org/advanced/scipy_sparse/csr_matrix.html). Он, к примеру, хорошо подходит для умножения на вектор (потому что матрица хранится по строкам). Не будем разбирать его подробно, но можете почитать по ссылке, если интересно."
   ]
  },
  {
   "cell_type": "markdown",
   "metadata": {
    "id": "2hd_Sob3GH7P"
   },
   "source": [
    "Вам нужно будет превратить обучающие и тестовые данные в разреженные матрицы `sparse_data_train` и `sparse_data_test` соответственно, таким образом, что:\n",
    "\n",
    "- столбец `city` превратится в столбец из единиц и нулей (например, 1 - Москва, 0 - Питер);\n",
    "- столбец `rating` перекочует в разреженные матрицы без изменений;\n",
    "- каждый типы рубрик и каждая фича превратятся в отдельный 0-1-принак;\n",
    "\n",
    "В тестовой выборке будут фичи, которых в обучающей выборке не было. С ними можно по-разному работать, но давайте создадим дополнительную фантомную фичу `feature_other`, в которой будет то, сколько неизвестных по обучающей выборке фичей есть у данного объекта."
   ]
  },
  {
   "cell_type": "code",
   "execution_count": 175,
   "metadata": {},
   "outputs": [
    {
     "data": {
      "text/html": [
       "<div>\n",
       "<style scoped>\n",
       "    .dataframe tbody tr th:only-of-type {\n",
       "        vertical-align: middle;\n",
       "    }\n",
       "\n",
       "    .dataframe tbody tr th {\n",
       "        vertical-align: top;\n",
       "    }\n",
       "\n",
       "    .dataframe thead th {\n",
       "        text-align: right;\n",
       "    }\n",
       "</style>\n",
       "<table border=\"1\" class=\"dataframe\">\n",
       "  <thead>\n",
       "    <tr style=\"text-align: right;\">\n",
       "      <th></th>\n",
       "      <th>city</th>\n",
       "      <th>rating</th>\n",
       "      <th>rubrics_id</th>\n",
       "      <th>features_id</th>\n",
       "    </tr>\n",
       "  </thead>\n",
       "  <tbody>\n",
       "    <tr>\n",
       "      <th>45769</th>\n",
       "      <td>1</td>\n",
       "      <td>4.500000</td>\n",
       "      <td>30770</td>\n",
       "      <td>11704 20422 1018 11177 1416 11867 10462</td>\n",
       "    </tr>\n",
       "    <tr>\n",
       "      <th>39061</th>\n",
       "      <td>1</td>\n",
       "      <td>4.442623</td>\n",
       "      <td>30774 30776</td>\n",
       "      <td>1415 3501481355 1416 11629 10462 1524 20422 11...</td>\n",
       "    </tr>\n",
       "    <tr>\n",
       "      <th>59281</th>\n",
       "      <td>0</td>\n",
       "      <td>4.018868</td>\n",
       "      <td>30776 30774</td>\n",
       "      <td>3502045032 11741 3502045016 10462 11704 350177...</td>\n",
       "    </tr>\n",
       "    <tr>\n",
       "      <th>51225</th>\n",
       "      <td>1</td>\n",
       "      <td>4.364742</td>\n",
       "      <td>31401 30776</td>\n",
       "      <td>3501513153 3501779478 3491142672 273469383 350...</td>\n",
       "    </tr>\n",
       "    <tr>\n",
       "      <th>29587</th>\n",
       "      <td>1</td>\n",
       "      <td>4.698718</td>\n",
       "      <td>30770</td>\n",
       "      <td>21247 10896 3491142672 11629 3501481353 350148...</td>\n",
       "    </tr>\n",
       "  </tbody>\n",
       "</table>\n",
       "</div>"
      ],
      "text/plain": [
       "      city    rating   rubrics_id  \\\n",
       "45769    1  4.500000        30770   \n",
       "39061    1  4.442623  30774 30776   \n",
       "59281    0  4.018868  30776 30774   \n",
       "51225    1  4.364742  31401 30776   \n",
       "29587    1  4.698718        30770   \n",
       "\n",
       "                                             features_id  \n",
       "45769            11704 20422 1018 11177 1416 11867 10462  \n",
       "39061  1415 3501481355 1416 11629 10462 1524 20422 11...  \n",
       "59281  3502045032 11741 3502045016 10462 11704 350177...  \n",
       "51225  3501513153 3501779478 3491142672 273469383 350...  \n",
       "29587  21247 10896 3491142672 11629 3501481353 350148...  "
      ]
     },
     "execution_count": 175,
     "metadata": {},
     "output_type": "execute_result"
    }
   ],
   "source": [
    "sparse_data_train = clean_data_train[['city', 'rating', 'rubrics_id', 'features_id']]\n",
    "\n",
    "sparse_data_test = clean_data_test[['city', 'rating', 'rubrics_id', 'features_id']]\n",
    "\n",
    "sparse_data_train.loc[:, 'city'] = sparse_data_train['city'].apply(lambda city: 1 if city=='msk' else 0)\n",
    "sparse_data_test.loc[:, 'city'] = sparse_data_test['city'].apply(lambda city: 1 if city=='msk' else 0)\n",
    "\n",
    "sparse_data_train.head()"
   ]
  },
  {
   "cell_type": "code",
   "execution_count": 176,
   "metadata": {},
   "outputs": [],
   "source": [
    "sparse_data_train = pd.get_dummies(sparse_data_train, sparse=True, dtype=int, columns=['rubrics_id', 'features_id'])\n",
    "\n",
    "sparse_data_test = pd.get_dummies(sparse_data_test, sparse=True, dtype=int, columns=['rubrics_id', 'features_id'])"
   ]
  },
  {
   "cell_type": "code",
   "execution_count": 177,
   "metadata": {},
   "outputs": [],
   "source": [
    "sparse_data_train['feature_other'] = 0\n",
    "\n",
    "sparse_data_test['feature_other'] = 0\n",
    "\n",
    "columns_to_drop = []\n",
    "\n",
    "for column in sparse_data_test.columns:\n",
    "    if column not in sparse_data_train.columns:\n",
    "        columns_to_drop.append(column)"
   ]
  },
  {
   "cell_type": "code",
   "execution_count": 178,
   "metadata": {},
   "outputs": [],
   "source": [
    "for col in columns_to_drop:\n",
    "    sparse_data_test['feature_other'] = sparse_data_test['feature_other'] + sparse_data_test[col]\n",
    "\n",
    "sparse_data_test.drop(columns=columns_to_drop, inplace=True)"
   ]
  },
  {
   "cell_type": "markdown",
   "metadata": {},
   "source": [
    "Оказалось, что в трейне есть фичи, которых нет в тесте. Это тоже вызывает ошибку у классификатора при предсказании. Пришлось так же отфлильтровать фичи из трейна. Не уверен что это то, что подразумевалось."
   ]
  },
  {
   "cell_type": "code",
   "execution_count": 186,
   "metadata": {},
   "outputs": [],
   "source": [
    "columns_to_drop = []\n",
    "\n",
    "for column in sparse_data_train.columns:\n",
    "    if column not in sparse_data_test.columns:\n",
    "        columns_to_drop.append(column)\n",
    "\n",
    "for col in columns_to_drop:\n",
    "    sparse_data_train['feature_other'] = sparse_data_train['feature_other'] + sparse_data_train[col]\n",
    "\n",
    "sparse_data_train.drop(columns=columns_to_drop, inplace=True)"
   ]
  },
  {
   "cell_type": "markdown",
   "metadata": {},
   "source": [
    "Убедимся, что в тестовых данных не осталось неизвестных на обучении фичей."
   ]
  },
  {
   "cell_type": "code",
   "execution_count": 187,
   "metadata": {},
   "outputs": [],
   "source": [
    "for col in sparse_data_train.columns:\n",
    "    if col not in sparse_data_test.columns:\n",
    "        print(col)"
   ]
  },
  {
   "cell_type": "code",
   "execution_count": 188,
   "metadata": {},
   "outputs": [
    {
     "data": {
      "text/html": [
       "<div>\n",
       "<style scoped>\n",
       "    .dataframe tbody tr th:only-of-type {\n",
       "        vertical-align: middle;\n",
       "    }\n",
       "\n",
       "    .dataframe tbody tr th {\n",
       "        vertical-align: top;\n",
       "    }\n",
       "\n",
       "    .dataframe thead th {\n",
       "        text-align: right;\n",
       "    }\n",
       "</style>\n",
       "<table border=\"1\" class=\"dataframe\">\n",
       "  <thead>\n",
       "    <tr style=\"text-align: right;\">\n",
       "      <th></th>\n",
       "      <th>city</th>\n",
       "      <th>rating</th>\n",
       "      <th>rubrics_id_30519</th>\n",
       "      <th>rubrics_id_30519 30771</th>\n",
       "      <th>rubrics_id_30519 30771 30774</th>\n",
       "      <th>rubrics_id_30519 30774</th>\n",
       "      <th>rubrics_id_30519 30774 30771</th>\n",
       "      <th>rubrics_id_30519 30774 30776</th>\n",
       "      <th>rubrics_id_30519 30774 30776 31350</th>\n",
       "      <th>rubrics_id_30519 30774 31350</th>\n",
       "      <th>...</th>\n",
       "      <th>features_id_3501749289 273469383 3501618484 11704 1416 11629 10462</th>\n",
       "      <th>features_id_3501749289 3501618484 20424 10462</th>\n",
       "      <th>features_id_3501749289 3501618484 20424 11629 10462</th>\n",
       "      <th>features_id_3501773764 3501773763 3501779478 1018 3501618484 1416 20422 11704 11629 3501744275 11617 20424 10462 3491142672 1524</th>\n",
       "      <th>features_id_3501779478 3501513153 10462 1416 3501749289 1018</th>\n",
       "      <th>features_id_3502045016 3501744275 11617 10462 1416 3502045032 1018</th>\n",
       "      <th>features_id_3502045032 20282 12048 3502045016 1416</th>\n",
       "      <th>features_id_3502045032 3501779478 3501744275 12048 11617 10462 3502045016 1416 1018</th>\n",
       "      <th>features_id_3502045032 3502045016 12048 11867 11629 3501744275 11617 11704 11177 20424 10462 273469383 20422 1416 1415 3501618484 1018</th>\n",
       "      <th>feature_other</th>\n",
       "    </tr>\n",
       "  </thead>\n",
       "  <tbody>\n",
       "    <tr>\n",
       "      <th>45769</th>\n",
       "      <td>1</td>\n",
       "      <td>4.500000</td>\n",
       "      <td>0</td>\n",
       "      <td>0</td>\n",
       "      <td>0</td>\n",
       "      <td>0</td>\n",
       "      <td>0</td>\n",
       "      <td>0</td>\n",
       "      <td>0</td>\n",
       "      <td>0</td>\n",
       "      <td>...</td>\n",
       "      <td>0</td>\n",
       "      <td>0</td>\n",
       "      <td>0</td>\n",
       "      <td>0</td>\n",
       "      <td>0</td>\n",
       "      <td>0</td>\n",
       "      <td>0</td>\n",
       "      <td>0</td>\n",
       "      <td>0</td>\n",
       "      <td>1</td>\n",
       "    </tr>\n",
       "    <tr>\n",
       "      <th>39061</th>\n",
       "      <td>1</td>\n",
       "      <td>4.442623</td>\n",
       "      <td>0</td>\n",
       "      <td>0</td>\n",
       "      <td>0</td>\n",
       "      <td>0</td>\n",
       "      <td>0</td>\n",
       "      <td>0</td>\n",
       "      <td>0</td>\n",
       "      <td>0</td>\n",
       "      <td>...</td>\n",
       "      <td>0</td>\n",
       "      <td>0</td>\n",
       "      <td>0</td>\n",
       "      <td>0</td>\n",
       "      <td>0</td>\n",
       "      <td>0</td>\n",
       "      <td>0</td>\n",
       "      <td>0</td>\n",
       "      <td>0</td>\n",
       "      <td>1</td>\n",
       "    </tr>\n",
       "    <tr>\n",
       "      <th>59281</th>\n",
       "      <td>0</td>\n",
       "      <td>4.018868</td>\n",
       "      <td>0</td>\n",
       "      <td>0</td>\n",
       "      <td>0</td>\n",
       "      <td>0</td>\n",
       "      <td>0</td>\n",
       "      <td>0</td>\n",
       "      <td>0</td>\n",
       "      <td>0</td>\n",
       "      <td>...</td>\n",
       "      <td>0</td>\n",
       "      <td>0</td>\n",
       "      <td>0</td>\n",
       "      <td>0</td>\n",
       "      <td>0</td>\n",
       "      <td>0</td>\n",
       "      <td>0</td>\n",
       "      <td>0</td>\n",
       "      <td>0</td>\n",
       "      <td>1</td>\n",
       "    </tr>\n",
       "    <tr>\n",
       "      <th>51225</th>\n",
       "      <td>1</td>\n",
       "      <td>4.364742</td>\n",
       "      <td>0</td>\n",
       "      <td>0</td>\n",
       "      <td>0</td>\n",
       "      <td>0</td>\n",
       "      <td>0</td>\n",
       "      <td>0</td>\n",
       "      <td>0</td>\n",
       "      <td>0</td>\n",
       "      <td>...</td>\n",
       "      <td>0</td>\n",
       "      <td>0</td>\n",
       "      <td>0</td>\n",
       "      <td>0</td>\n",
       "      <td>0</td>\n",
       "      <td>0</td>\n",
       "      <td>0</td>\n",
       "      <td>0</td>\n",
       "      <td>0</td>\n",
       "      <td>1</td>\n",
       "    </tr>\n",
       "    <tr>\n",
       "      <th>29587</th>\n",
       "      <td>1</td>\n",
       "      <td>4.698718</td>\n",
       "      <td>0</td>\n",
       "      <td>0</td>\n",
       "      <td>0</td>\n",
       "      <td>0</td>\n",
       "      <td>0</td>\n",
       "      <td>0</td>\n",
       "      <td>0</td>\n",
       "      <td>0</td>\n",
       "      <td>...</td>\n",
       "      <td>0</td>\n",
       "      <td>0</td>\n",
       "      <td>0</td>\n",
       "      <td>0</td>\n",
       "      <td>0</td>\n",
       "      <td>0</td>\n",
       "      <td>0</td>\n",
       "      <td>0</td>\n",
       "      <td>0</td>\n",
       "      <td>1</td>\n",
       "    </tr>\n",
       "  </tbody>\n",
       "</table>\n",
       "<p>5 rows × 823 columns</p>\n",
       "</div>"
      ],
      "text/plain": [
       "      city    rating  rubrics_id_30519  rubrics_id_30519 30771  \\\n",
       "45769    1  4.500000                 0                       0   \n",
       "39061    1  4.442623                 0                       0   \n",
       "59281    0  4.018868                 0                       0   \n",
       "51225    1  4.364742                 0                       0   \n",
       "29587    1  4.698718                 0                       0   \n",
       "\n",
       "       rubrics_id_30519 30771 30774  rubrics_id_30519 30774  \\\n",
       "45769                             0                       0   \n",
       "39061                             0                       0   \n",
       "59281                             0                       0   \n",
       "51225                             0                       0   \n",
       "29587                             0                       0   \n",
       "\n",
       "       rubrics_id_30519 30774 30771  rubrics_id_30519 30774 30776  \\\n",
       "45769                             0                             0   \n",
       "39061                             0                             0   \n",
       "59281                             0                             0   \n",
       "51225                             0                             0   \n",
       "29587                             0                             0   \n",
       "\n",
       "       rubrics_id_30519 30774 30776 31350  rubrics_id_30519 30774 31350  ...  \\\n",
       "45769                                   0                             0  ...   \n",
       "39061                                   0                             0  ...   \n",
       "59281                                   0                             0  ...   \n",
       "51225                                   0                             0  ...   \n",
       "29587                                   0                             0  ...   \n",
       "\n",
       "       features_id_3501749289 273469383 3501618484 11704 1416 11629 10462  \\\n",
       "45769                                                  0                    \n",
       "39061                                                  0                    \n",
       "59281                                                  0                    \n",
       "51225                                                  0                    \n",
       "29587                                                  0                    \n",
       "\n",
       "       features_id_3501749289 3501618484 20424 10462  \\\n",
       "45769                                              0   \n",
       "39061                                              0   \n",
       "59281                                              0   \n",
       "51225                                              0   \n",
       "29587                                              0   \n",
       "\n",
       "       features_id_3501749289 3501618484 20424 11629 10462  \\\n",
       "45769                                                  0     \n",
       "39061                                                  0     \n",
       "59281                                                  0     \n",
       "51225                                                  0     \n",
       "29587                                                  0     \n",
       "\n",
       "       features_id_3501773764 3501773763 3501779478 1018 3501618484 1416 20422 11704 11629 3501744275 11617 20424 10462 3491142672 1524  \\\n",
       "45769                                                  0                                                                                  \n",
       "39061                                                  0                                                                                  \n",
       "59281                                                  0                                                                                  \n",
       "51225                                                  0                                                                                  \n",
       "29587                                                  0                                                                                  \n",
       "\n",
       "       features_id_3501779478 3501513153 10462 1416 3501749289 1018  \\\n",
       "45769                                                  0              \n",
       "39061                                                  0              \n",
       "59281                                                  0              \n",
       "51225                                                  0              \n",
       "29587                                                  0              \n",
       "\n",
       "       features_id_3502045016 3501744275 11617 10462 1416 3502045032 1018  \\\n",
       "45769                                                  0                    \n",
       "39061                                                  0                    \n",
       "59281                                                  0                    \n",
       "51225                                                  0                    \n",
       "29587                                                  0                    \n",
       "\n",
       "       features_id_3502045032 20282 12048 3502045016 1416  \\\n",
       "45769                                                  0    \n",
       "39061                                                  0    \n",
       "59281                                                  0    \n",
       "51225                                                  0    \n",
       "29587                                                  0    \n",
       "\n",
       "       features_id_3502045032 3501779478 3501744275 12048 11617 10462 3502045016 1416 1018  \\\n",
       "45769                                                  0                                     \n",
       "39061                                                  0                                     \n",
       "59281                                                  0                                     \n",
       "51225                                                  0                                     \n",
       "29587                                                  0                                     \n",
       "\n",
       "       features_id_3502045032 3502045016 12048 11867 11629 3501744275 11617 11704 11177 20424 10462 273469383 20422 1416 1415 3501618484 1018  \\\n",
       "45769                                                  0                                                                                        \n",
       "39061                                                  0                                                                                        \n",
       "59281                                                  0                                                                                        \n",
       "51225                                                  0                                                                                        \n",
       "29587                                                  0                                                                                        \n",
       "\n",
       "       feature_other  \n",
       "45769              1  \n",
       "39061              1  \n",
       "59281              1  \n",
       "51225              1  \n",
       "29587              1  \n",
       "\n",
       "[5 rows x 823 columns]"
      ]
     },
     "execution_count": 188,
     "metadata": {},
     "output_type": "execute_result"
    }
   ],
   "source": [
    "sparse_data_train.head()"
   ]
  },
  {
   "cell_type": "markdown",
   "metadata": {},
   "source": [
    "Данные готовы, и теперь можно запустить катбуст"
   ]
  },
  {
   "cell_type": "code",
   "execution_count": 189,
   "metadata": {
    "id": "m2lP5NouGH7Q"
   },
   "outputs": [],
   "source": [
    "from catboost import CatBoostClassifier"
   ]
  },
  {
   "cell_type": "code",
   "execution_count": 190,
   "metadata": {
    "id": "jpW6uR0oGH7Q",
    "scrolled": true
   },
   "outputs": [
    {
     "name": "stdout",
     "output_type": "stream",
     "text": [
      "Learning rate set to 0.092536\n",
      "0:\tlearn: 1.4399116\ttotal: 26.5ms\tremaining: 26.5s\n",
      "1:\tlearn: 1.3293339\ttotal: 46.8ms\tremaining: 23.3s\n",
      "2:\tlearn: 1.2435951\ttotal: 76.3ms\tremaining: 25.3s\n",
      "3:\tlearn: 1.1774096\ttotal: 105ms\tremaining: 26.3s\n",
      "4:\tlearn: 1.1223832\ttotal: 146ms\tremaining: 29s\n",
      "5:\tlearn: 1.0777960\ttotal: 185ms\tremaining: 30.6s\n",
      "6:\tlearn: 1.0398692\ttotal: 238ms\tremaining: 33.8s\n",
      "7:\tlearn: 1.0063902\ttotal: 273ms\tremaining: 33.8s\n",
      "8:\tlearn: 0.9802991\ttotal: 299ms\tremaining: 32.9s\n",
      "9:\tlearn: 0.9555227\ttotal: 325ms\tremaining: 32.1s\n",
      "10:\tlearn: 0.9346050\ttotal: 357ms\tremaining: 32.1s\n",
      "11:\tlearn: 0.9167725\ttotal: 393ms\tremaining: 32.3s\n",
      "12:\tlearn: 0.9010049\ttotal: 436ms\tremaining: 33.1s\n",
      "13:\tlearn: 0.8862104\ttotal: 474ms\tremaining: 33.4s\n",
      "14:\tlearn: 0.8738399\ttotal: 524ms\tremaining: 34.4s\n",
      "15:\tlearn: 0.8641299\ttotal: 556ms\tremaining: 34.2s\n",
      "16:\tlearn: 0.8558736\ttotal: 610ms\tremaining: 35.3s\n",
      "17:\tlearn: 0.8471358\ttotal: 652ms\tremaining: 35.6s\n",
      "18:\tlearn: 0.8382638\ttotal: 694ms\tremaining: 35.8s\n",
      "19:\tlearn: 0.8324026\ttotal: 725ms\tremaining: 35.5s\n",
      "20:\tlearn: 0.8257200\ttotal: 762ms\tremaining: 35.5s\n",
      "21:\tlearn: 0.8203039\ttotal: 820ms\tremaining: 36.5s\n",
      "22:\tlearn: 0.8154664\ttotal: 862ms\tremaining: 36.6s\n",
      "23:\tlearn: 0.8106386\ttotal: 897ms\tremaining: 36.5s\n",
      "24:\tlearn: 0.8056904\ttotal: 927ms\tremaining: 36.2s\n",
      "25:\tlearn: 0.8017008\ttotal: 958ms\tremaining: 35.9s\n",
      "26:\tlearn: 0.7979782\ttotal: 997ms\tremaining: 35.9s\n",
      "27:\tlearn: 0.7943431\ttotal: 1.04s\tremaining: 36s\n",
      "28:\tlearn: 0.7916489\ttotal: 1.07s\tremaining: 35.8s\n",
      "29:\tlearn: 0.7892218\ttotal: 1.1s\tremaining: 35.6s\n",
      "30:\tlearn: 0.7866983\ttotal: 1.13s\tremaining: 35.5s\n",
      "31:\tlearn: 0.7848435\ttotal: 1.17s\tremaining: 35.3s\n",
      "32:\tlearn: 0.7834558\ttotal: 1.2s\tremaining: 35.1s\n",
      "33:\tlearn: 0.7813940\ttotal: 1.24s\tremaining: 35.3s\n",
      "34:\tlearn: 0.7802901\ttotal: 1.27s\tremaining: 35s\n",
      "35:\tlearn: 0.7781607\ttotal: 1.29s\tremaining: 34.6s\n",
      "36:\tlearn: 0.7770853\ttotal: 1.33s\tremaining: 34.6s\n",
      "37:\tlearn: 0.7754418\ttotal: 1.36s\tremaining: 34.5s\n",
      "38:\tlearn: 0.7740658\ttotal: 1.4s\tremaining: 34.5s\n",
      "39:\tlearn: 0.7727848\ttotal: 1.44s\tremaining: 34.6s\n",
      "40:\tlearn: 0.7717076\ttotal: 1.5s\tremaining: 35s\n",
      "41:\tlearn: 0.7708427\ttotal: 1.55s\tremaining: 35.3s\n",
      "42:\tlearn: 0.7700591\ttotal: 1.6s\tremaining: 35.6s\n",
      "43:\tlearn: 0.7688566\ttotal: 1.64s\tremaining: 35.7s\n",
      "44:\tlearn: 0.7685002\ttotal: 1.69s\tremaining: 35.9s\n",
      "45:\tlearn: 0.7669611\ttotal: 1.74s\tremaining: 36.2s\n",
      "46:\tlearn: 0.7659148\ttotal: 1.78s\tremaining: 36.1s\n",
      "47:\tlearn: 0.7649344\ttotal: 1.82s\tremaining: 36.1s\n",
      "48:\tlearn: 0.7639627\ttotal: 1.85s\tremaining: 36s\n",
      "49:\tlearn: 0.7630235\ttotal: 1.89s\tremaining: 35.9s\n",
      "50:\tlearn: 0.7624068\ttotal: 1.92s\tremaining: 35.7s\n",
      "51:\tlearn: 0.7617999\ttotal: 1.94s\tremaining: 35.4s\n",
      "52:\tlearn: 0.7613580\ttotal: 1.99s\tremaining: 35.5s\n",
      "53:\tlearn: 0.7604670\ttotal: 2.04s\tremaining: 35.8s\n",
      "54:\tlearn: 0.7600773\ttotal: 2.08s\tremaining: 35.7s\n",
      "55:\tlearn: 0.7598572\ttotal: 2.1s\tremaining: 35.4s\n",
      "56:\tlearn: 0.7591459\ttotal: 2.13s\tremaining: 35.3s\n",
      "57:\tlearn: 0.7585437\ttotal: 2.17s\tremaining: 35.2s\n",
      "58:\tlearn: 0.7579408\ttotal: 2.2s\tremaining: 35.1s\n",
      "59:\tlearn: 0.7575046\ttotal: 2.24s\tremaining: 35s\n",
      "60:\tlearn: 0.7570290\ttotal: 2.27s\tremaining: 35s\n",
      "61:\tlearn: 0.7566474\ttotal: 2.31s\tremaining: 35s\n",
      "62:\tlearn: 0.7559901\ttotal: 2.36s\tremaining: 35.1s\n",
      "63:\tlearn: 0.7557139\ttotal: 2.4s\tremaining: 35.1s\n",
      "64:\tlearn: 0.7553710\ttotal: 2.43s\tremaining: 35s\n",
      "65:\tlearn: 0.7551029\ttotal: 2.47s\tremaining: 34.9s\n",
      "66:\tlearn: 0.7545446\ttotal: 2.51s\tremaining: 34.9s\n",
      "67:\tlearn: 0.7541803\ttotal: 2.55s\tremaining: 34.9s\n",
      "68:\tlearn: 0.7539469\ttotal: 2.59s\tremaining: 34.9s\n",
      "69:\tlearn: 0.7533220\ttotal: 2.65s\tremaining: 35.2s\n",
      "70:\tlearn: 0.7530847\ttotal: 2.72s\tremaining: 35.5s\n",
      "71:\tlearn: 0.7525559\ttotal: 2.75s\tremaining: 35.5s\n",
      "72:\tlearn: 0.7523189\ttotal: 2.79s\tremaining: 35.4s\n",
      "73:\tlearn: 0.7520804\ttotal: 2.83s\tremaining: 35.4s\n",
      "74:\tlearn: 0.7520047\ttotal: 2.86s\tremaining: 35.3s\n",
      "75:\tlearn: 0.7516497\ttotal: 2.9s\tremaining: 35.3s\n",
      "76:\tlearn: 0.7510796\ttotal: 2.93s\tremaining: 35.1s\n",
      "77:\tlearn: 0.7506785\ttotal: 2.96s\tremaining: 34.9s\n",
      "78:\tlearn: 0.7505931\ttotal: 2.99s\tremaining: 34.8s\n",
      "79:\tlearn: 0.7500414\ttotal: 3.02s\tremaining: 34.8s\n",
      "80:\tlearn: 0.7493777\ttotal: 3.05s\tremaining: 34.6s\n",
      "81:\tlearn: 0.7492378\ttotal: 3.07s\tremaining: 34.4s\n",
      "82:\tlearn: 0.7489907\ttotal: 3.11s\tremaining: 34.3s\n",
      "83:\tlearn: 0.7488030\ttotal: 3.14s\tremaining: 34.3s\n",
      "84:\tlearn: 0.7481735\ttotal: 3.18s\tremaining: 34.3s\n",
      "85:\tlearn: 0.7478661\ttotal: 3.22s\tremaining: 34.2s\n",
      "86:\tlearn: 0.7475186\ttotal: 3.25s\tremaining: 34.1s\n",
      "87:\tlearn: 0.7472564\ttotal: 3.29s\tremaining: 34s\n",
      "88:\tlearn: 0.7468371\ttotal: 3.33s\tremaining: 34.1s\n",
      "89:\tlearn: 0.7463758\ttotal: 3.39s\tremaining: 34.3s\n",
      "90:\tlearn: 0.7459689\ttotal: 3.44s\tremaining: 34.4s\n",
      "91:\tlearn: 0.7456892\ttotal: 3.5s\tremaining: 34.5s\n",
      "92:\tlearn: 0.7454641\ttotal: 3.56s\tremaining: 34.7s\n",
      "93:\tlearn: 0.7452117\ttotal: 3.61s\tremaining: 34.8s\n",
      "94:\tlearn: 0.7449910\ttotal: 3.67s\tremaining: 34.9s\n",
      "95:\tlearn: 0.7446447\ttotal: 3.71s\tremaining: 35s\n",
      "96:\tlearn: 0.7443903\ttotal: 3.76s\tremaining: 35s\n",
      "97:\tlearn: 0.7441051\ttotal: 3.79s\tremaining: 34.9s\n",
      "98:\tlearn: 0.7439045\ttotal: 3.82s\tremaining: 34.8s\n",
      "99:\tlearn: 0.7435617\ttotal: 3.86s\tremaining: 34.7s\n",
      "100:\tlearn: 0.7429687\ttotal: 3.91s\tremaining: 34.8s\n",
      "101:\tlearn: 0.7427869\ttotal: 3.96s\tremaining: 34.9s\n",
      "102:\tlearn: 0.7424214\ttotal: 4s\tremaining: 34.8s\n",
      "103:\tlearn: 0.7422837\ttotal: 4.04s\tremaining: 34.8s\n",
      "104:\tlearn: 0.7420431\ttotal: 4.07s\tremaining: 34.7s\n",
      "105:\tlearn: 0.7416441\ttotal: 4.11s\tremaining: 34.7s\n",
      "106:\tlearn: 0.7414196\ttotal: 4.14s\tremaining: 34.6s\n",
      "107:\tlearn: 0.7410632\ttotal: 4.18s\tremaining: 34.5s\n",
      "108:\tlearn: 0.7407675\ttotal: 4.21s\tremaining: 34.4s\n",
      "109:\tlearn: 0.7405088\ttotal: 4.24s\tremaining: 34.3s\n",
      "110:\tlearn: 0.7404405\ttotal: 4.27s\tremaining: 34.2s\n",
      "111:\tlearn: 0.7402302\ttotal: 4.3s\tremaining: 34.1s\n",
      "112:\tlearn: 0.7400402\ttotal: 4.33s\tremaining: 34s\n",
      "113:\tlearn: 0.7397720\ttotal: 4.35s\tremaining: 33.8s\n",
      "114:\tlearn: 0.7394707\ttotal: 4.38s\tremaining: 33.7s\n",
      "115:\tlearn: 0.7393612\ttotal: 4.41s\tremaining: 33.6s\n",
      "116:\tlearn: 0.7387254\ttotal: 4.45s\tremaining: 33.6s\n",
      "117:\tlearn: 0.7385103\ttotal: 4.49s\tremaining: 33.5s\n",
      "118:\tlearn: 0.7383533\ttotal: 4.53s\tremaining: 33.5s\n",
      "119:\tlearn: 0.7380679\ttotal: 4.56s\tremaining: 33.5s\n",
      "120:\tlearn: 0.7377513\ttotal: 4.59s\tremaining: 33.3s\n",
      "121:\tlearn: 0.7375565\ttotal: 4.61s\tremaining: 33.2s\n",
      "122:\tlearn: 0.7373653\ttotal: 4.64s\tremaining: 33.1s\n",
      "123:\tlearn: 0.7372304\ttotal: 4.67s\tremaining: 33s\n",
      "124:\tlearn: 0.7369839\ttotal: 4.7s\tremaining: 32.9s\n",
      "125:\tlearn: 0.7365550\ttotal: 4.72s\tremaining: 32.7s\n",
      "126:\tlearn: 0.7362600\ttotal: 4.74s\tremaining: 32.6s\n",
      "127:\tlearn: 0.7359235\ttotal: 4.78s\tremaining: 32.5s\n",
      "128:\tlearn: 0.7356337\ttotal: 4.82s\tremaining: 32.5s\n",
      "129:\tlearn: 0.7355479\ttotal: 4.86s\tremaining: 32.5s\n",
      "130:\tlearn: 0.7354289\ttotal: 4.9s\tremaining: 32.5s\n",
      "131:\tlearn: 0.7351021\ttotal: 4.93s\tremaining: 32.4s\n",
      "132:\tlearn: 0.7349615\ttotal: 4.96s\tremaining: 32.3s\n",
      "133:\tlearn: 0.7347558\ttotal: 4.98s\tremaining: 32.2s\n",
      "134:\tlearn: 0.7343779\ttotal: 5.01s\tremaining: 32.1s\n",
      "135:\tlearn: 0.7342029\ttotal: 5.03s\tremaining: 32s\n",
      "136:\tlearn: 0.7340415\ttotal: 5.05s\tremaining: 31.8s\n",
      "137:\tlearn: 0.7338783\ttotal: 5.08s\tremaining: 31.8s\n",
      "138:\tlearn: 0.7337231\ttotal: 5.13s\tremaining: 31.8s\n",
      "139:\tlearn: 0.7334827\ttotal: 5.18s\tremaining: 31.8s\n",
      "140:\tlearn: 0.7333773\ttotal: 5.21s\tremaining: 31.7s\n",
      "141:\tlearn: 0.7332906\ttotal: 5.24s\tremaining: 31.6s\n",
      "142:\tlearn: 0.7332129\ttotal: 5.27s\tremaining: 31.6s\n",
      "143:\tlearn: 0.7329731\ttotal: 5.32s\tremaining: 31.6s\n",
      "144:\tlearn: 0.7329168\ttotal: 5.38s\tremaining: 31.7s\n",
      "145:\tlearn: 0.7326639\ttotal: 5.42s\tremaining: 31.7s\n",
      "146:\tlearn: 0.7324551\ttotal: 5.46s\tremaining: 31.7s\n",
      "147:\tlearn: 0.7322834\ttotal: 5.5s\tremaining: 31.7s\n",
      "148:\tlearn: 0.7320867\ttotal: 5.53s\tremaining: 31.6s\n",
      "149:\tlearn: 0.7319968\ttotal: 5.56s\tremaining: 31.5s\n",
      "150:\tlearn: 0.7318448\ttotal: 5.59s\tremaining: 31.4s\n",
      "151:\tlearn: 0.7317010\ttotal: 5.61s\tremaining: 31.3s\n",
      "152:\tlearn: 0.7315617\ttotal: 5.63s\tremaining: 31.2s\n",
      "153:\tlearn: 0.7314989\ttotal: 5.67s\tremaining: 31.1s\n",
      "154:\tlearn: 0.7313784\ttotal: 5.7s\tremaining: 31.1s\n",
      "155:\tlearn: 0.7312197\ttotal: 5.73s\tremaining: 31s\n",
      "156:\tlearn: 0.7310840\ttotal: 5.75s\tremaining: 30.9s\n",
      "157:\tlearn: 0.7310237\ttotal: 5.78s\tremaining: 30.8s\n",
      "158:\tlearn: 0.7309023\ttotal: 5.8s\tremaining: 30.7s\n",
      "159:\tlearn: 0.7306073\ttotal: 5.83s\tremaining: 30.6s\n",
      "160:\tlearn: 0.7305083\ttotal: 5.86s\tremaining: 30.5s\n",
      "161:\tlearn: 0.7304164\ttotal: 5.89s\tremaining: 30.5s\n",
      "162:\tlearn: 0.7303121\ttotal: 5.93s\tremaining: 30.5s\n",
      "163:\tlearn: 0.7299328\ttotal: 5.98s\tremaining: 30.5s\n",
      "164:\tlearn: 0.7298278\ttotal: 6.04s\tremaining: 30.6s\n",
      "165:\tlearn: 0.7297322\ttotal: 6.09s\tremaining: 30.6s\n",
      "166:\tlearn: 0.7295514\ttotal: 6.16s\tremaining: 30.7s\n",
      "167:\tlearn: 0.7294291\ttotal: 6.21s\tremaining: 30.8s\n",
      "168:\tlearn: 0.7293519\ttotal: 6.28s\tremaining: 30.9s\n",
      "169:\tlearn: 0.7292087\ttotal: 6.36s\tremaining: 31s\n",
      "170:\tlearn: 0.7291184\ttotal: 6.42s\tremaining: 31.1s\n",
      "171:\tlearn: 0.7289805\ttotal: 6.46s\tremaining: 31.1s\n",
      "172:\tlearn: 0.7289053\ttotal: 6.51s\tremaining: 31.1s\n",
      "173:\tlearn: 0.7287621\ttotal: 6.56s\tremaining: 31.1s\n",
      "174:\tlearn: 0.7286864\ttotal: 6.62s\tremaining: 31.2s\n",
      "175:\tlearn: 0.7285978\ttotal: 6.66s\tremaining: 31.2s\n",
      "176:\tlearn: 0.7285591\ttotal: 6.69s\tremaining: 31.1s\n",
      "177:\tlearn: 0.7284836\ttotal: 6.72s\tremaining: 31s\n",
      "178:\tlearn: 0.7283339\ttotal: 6.75s\tremaining: 30.9s\n",
      "179:\tlearn: 0.7282327\ttotal: 6.78s\tremaining: 30.9s\n",
      "180:\tlearn: 0.7280919\ttotal: 6.81s\tremaining: 30.8s\n",
      "181:\tlearn: 0.7279533\ttotal: 6.83s\tremaining: 30.7s\n",
      "182:\tlearn: 0.7278923\ttotal: 6.86s\tremaining: 30.6s\n",
      "183:\tlearn: 0.7277529\ttotal: 6.89s\tremaining: 30.6s\n",
      "184:\tlearn: 0.7276993\ttotal: 6.91s\tremaining: 30.4s\n",
      "185:\tlearn: 0.7275952\ttotal: 6.93s\tremaining: 30.3s\n",
      "186:\tlearn: 0.7274300\ttotal: 6.96s\tremaining: 30.2s\n",
      "187:\tlearn: 0.7273498\ttotal: 7s\tremaining: 30.2s\n",
      "188:\tlearn: 0.7272800\ttotal: 7.03s\tremaining: 30.1s\n",
      "189:\tlearn: 0.7271718\ttotal: 7.05s\tremaining: 30.1s\n",
      "190:\tlearn: 0.7270703\ttotal: 7.08s\tremaining: 30s\n",
      "191:\tlearn: 0.7270143\ttotal: 7.1s\tremaining: 29.9s\n",
      "192:\tlearn: 0.7269802\ttotal: 7.12s\tremaining: 29.8s\n",
      "193:\tlearn: 0.7268207\ttotal: 7.14s\tremaining: 29.7s\n",
      "194:\tlearn: 0.7267676\ttotal: 7.16s\tremaining: 29.6s\n",
      "195:\tlearn: 0.7264060\ttotal: 7.19s\tremaining: 29.5s\n",
      "196:\tlearn: 0.7263633\ttotal: 7.22s\tremaining: 29.5s\n",
      "197:\tlearn: 0.7262525\ttotal: 7.27s\tremaining: 29.5s\n",
      "198:\tlearn: 0.7261778\ttotal: 7.32s\tremaining: 29.4s\n",
      "199:\tlearn: 0.7260331\ttotal: 7.34s\tremaining: 29.4s\n",
      "200:\tlearn: 0.7259447\ttotal: 7.37s\tremaining: 29.3s\n",
      "201:\tlearn: 0.7258512\ttotal: 7.39s\tremaining: 29.2s\n",
      "202:\tlearn: 0.7257965\ttotal: 7.42s\tremaining: 29.1s\n",
      "203:\tlearn: 0.7257128\ttotal: 7.46s\tremaining: 29.1s\n",
      "204:\tlearn: 0.7256177\ttotal: 7.49s\tremaining: 29s\n",
      "205:\tlearn: 0.7254743\ttotal: 7.53s\tremaining: 29s\n",
      "206:\tlearn: 0.7254006\ttotal: 7.56s\tremaining: 29s\n",
      "207:\tlearn: 0.7253680\ttotal: 7.59s\tremaining: 28.9s\n",
      "208:\tlearn: 0.7252974\ttotal: 7.62s\tremaining: 28.9s\n",
      "209:\tlearn: 0.7251726\ttotal: 7.65s\tremaining: 28.8s\n",
      "210:\tlearn: 0.7251021\ttotal: 7.67s\tremaining: 28.7s\n",
      "211:\tlearn: 0.7250079\ttotal: 7.7s\tremaining: 28.6s\n",
      "212:\tlearn: 0.7249217\ttotal: 7.72s\tremaining: 28.5s\n",
      "213:\tlearn: 0.7247641\ttotal: 7.77s\tremaining: 28.5s\n",
      "214:\tlearn: 0.7246384\ttotal: 7.82s\tremaining: 28.6s\n",
      "215:\tlearn: 0.7245672\ttotal: 7.86s\tremaining: 28.5s\n",
      "216:\tlearn: 0.7245133\ttotal: 7.91s\tremaining: 28.5s\n",
      "217:\tlearn: 0.7243976\ttotal: 7.95s\tremaining: 28.5s\n",
      "218:\tlearn: 0.7242472\ttotal: 7.99s\tremaining: 28.5s\n",
      "219:\tlearn: 0.7241183\ttotal: 8.03s\tremaining: 28.5s\n",
      "220:\tlearn: 0.7240580\ttotal: 8.07s\tremaining: 28.4s\n",
      "221:\tlearn: 0.7239246\ttotal: 8.12s\tremaining: 28.4s\n",
      "222:\tlearn: 0.7238078\ttotal: 8.15s\tremaining: 28.4s\n",
      "223:\tlearn: 0.7236692\ttotal: 8.21s\tremaining: 28.4s\n",
      "224:\tlearn: 0.7236222\ttotal: 8.28s\tremaining: 28.5s\n",
      "225:\tlearn: 0.7235399\ttotal: 8.36s\tremaining: 28.6s\n",
      "226:\tlearn: 0.7234215\ttotal: 8.41s\tremaining: 28.6s\n",
      "227:\tlearn: 0.7232430\ttotal: 8.46s\tremaining: 28.7s\n",
      "228:\tlearn: 0.7231791\ttotal: 8.49s\tremaining: 28.6s\n",
      "229:\tlearn: 0.7230923\ttotal: 8.53s\tremaining: 28.6s\n",
      "230:\tlearn: 0.7230249\ttotal: 8.58s\tremaining: 28.6s\n",
      "231:\tlearn: 0.7229755\ttotal: 8.62s\tremaining: 28.5s\n",
      "232:\tlearn: 0.7229327\ttotal: 8.64s\tremaining: 28.5s\n",
      "233:\tlearn: 0.7227832\ttotal: 8.68s\tremaining: 28.4s\n",
      "234:\tlearn: 0.7225923\ttotal: 8.7s\tremaining: 28.3s\n",
      "235:\tlearn: 0.7225258\ttotal: 8.73s\tremaining: 28.3s\n",
      "236:\tlearn: 0.7225054\ttotal: 8.76s\tremaining: 28.2s\n",
      "237:\tlearn: 0.7224493\ttotal: 8.79s\tremaining: 28.2s\n",
      "238:\tlearn: 0.7223949\ttotal: 8.83s\tremaining: 28.1s\n",
      "239:\tlearn: 0.7223280\ttotal: 8.93s\tremaining: 28.3s\n",
      "240:\tlearn: 0.7222707\ttotal: 9s\tremaining: 28.3s\n",
      "241:\tlearn: 0.7221505\ttotal: 9.04s\tremaining: 28.3s\n",
      "242:\tlearn: 0.7220848\ttotal: 9.09s\tremaining: 28.3s\n",
      "243:\tlearn: 0.7220248\ttotal: 9.13s\tremaining: 28.3s\n",
      "244:\tlearn: 0.7219227\ttotal: 9.16s\tremaining: 28.2s\n",
      "245:\tlearn: 0.7218307\ttotal: 9.19s\tremaining: 28.2s\n",
      "246:\tlearn: 0.7217915\ttotal: 9.24s\tremaining: 28.2s\n",
      "247:\tlearn: 0.7217440\ttotal: 9.3s\tremaining: 28.2s\n",
      "248:\tlearn: 0.7216287\ttotal: 9.34s\tremaining: 28.2s\n",
      "249:\tlearn: 0.7215657\ttotal: 9.4s\tremaining: 28.2s\n",
      "250:\tlearn: 0.7214938\ttotal: 9.45s\tremaining: 28.2s\n",
      "251:\tlearn: 0.7214619\ttotal: 9.5s\tremaining: 28.2s\n",
      "252:\tlearn: 0.7213211\ttotal: 9.54s\tremaining: 28.2s\n",
      "253:\tlearn: 0.7212152\ttotal: 9.57s\tremaining: 28.1s\n",
      "254:\tlearn: 0.7211315\ttotal: 9.61s\tremaining: 28.1s\n",
      "255:\tlearn: 0.7210919\ttotal: 9.64s\tremaining: 28s\n",
      "256:\tlearn: 0.7210050\ttotal: 9.66s\tremaining: 27.9s\n",
      "257:\tlearn: 0.7209710\ttotal: 9.68s\tremaining: 27.8s\n",
      "258:\tlearn: 0.7209424\ttotal: 9.7s\tremaining: 27.8s\n",
      "259:\tlearn: 0.7208996\ttotal: 9.74s\tremaining: 27.7s\n",
      "260:\tlearn: 0.7208673\ttotal: 9.77s\tremaining: 27.7s\n",
      "261:\tlearn: 0.7207800\ttotal: 9.82s\tremaining: 27.7s\n",
      "262:\tlearn: 0.7207044\ttotal: 9.89s\tremaining: 27.7s\n",
      "263:\tlearn: 0.7206726\ttotal: 9.93s\tremaining: 27.7s\n",
      "264:\tlearn: 0.7206322\ttotal: 9.97s\tremaining: 27.7s\n",
      "265:\tlearn: 0.7205811\ttotal: 10s\tremaining: 27.6s\n",
      "266:\tlearn: 0.7205002\ttotal: 10.1s\tremaining: 27.6s\n",
      "267:\tlearn: 0.7204575\ttotal: 10.1s\tremaining: 27.6s\n",
      "268:\tlearn: 0.7203867\ttotal: 10.1s\tremaining: 27.6s\n",
      "269:\tlearn: 0.7203553\ttotal: 10.2s\tremaining: 27.5s\n",
      "270:\tlearn: 0.7203196\ttotal: 10.2s\tremaining: 27.4s\n",
      "271:\tlearn: 0.7202442\ttotal: 10.2s\tremaining: 27.4s\n",
      "272:\tlearn: 0.7202079\ttotal: 10.3s\tremaining: 27.3s\n",
      "273:\tlearn: 0.7201849\ttotal: 10.3s\tremaining: 27.2s\n",
      "274:\tlearn: 0.7201225\ttotal: 10.3s\tremaining: 27.2s\n",
      "275:\tlearn: 0.7200046\ttotal: 10.3s\tremaining: 27.1s\n",
      "276:\tlearn: 0.7199536\ttotal: 10.4s\tremaining: 27s\n",
      "277:\tlearn: 0.7199322\ttotal: 10.4s\tremaining: 27s\n",
      "278:\tlearn: 0.7198650\ttotal: 10.4s\tremaining: 26.9s\n",
      "279:\tlearn: 0.7197271\ttotal: 10.4s\tremaining: 26.8s\n",
      "280:\tlearn: 0.7196821\ttotal: 10.4s\tremaining: 26.7s\n",
      "281:\tlearn: 0.7196548\ttotal: 10.5s\tremaining: 26.7s\n",
      "282:\tlearn: 0.7196290\ttotal: 10.5s\tremaining: 26.6s\n",
      "283:\tlearn: 0.7195703\ttotal: 10.5s\tremaining: 26.5s\n",
      "284:\tlearn: 0.7195302\ttotal: 10.6s\tremaining: 26.5s\n",
      "285:\tlearn: 0.7194886\ttotal: 10.6s\tremaining: 26.5s\n",
      "286:\tlearn: 0.7194531\ttotal: 10.6s\tremaining: 26.4s\n",
      "287:\tlearn: 0.7193977\ttotal: 10.7s\tremaining: 26.4s\n",
      "288:\tlearn: 0.7193676\ttotal: 10.7s\tremaining: 26.4s\n",
      "289:\tlearn: 0.7192991\ttotal: 10.7s\tremaining: 26.3s\n",
      "290:\tlearn: 0.7192711\ttotal: 10.8s\tremaining: 26.2s\n",
      "291:\tlearn: 0.7191821\ttotal: 10.8s\tremaining: 26.2s\n",
      "292:\tlearn: 0.7191493\ttotal: 10.8s\tremaining: 26.1s\n",
      "293:\tlearn: 0.7190524\ttotal: 10.9s\tremaining: 26.1s\n",
      "294:\tlearn: 0.7189902\ttotal: 10.9s\tremaining: 26s\n",
      "295:\tlearn: 0.7188944\ttotal: 10.9s\tremaining: 26s\n",
      "296:\tlearn: 0.7188257\ttotal: 11s\tremaining: 26s\n",
      "297:\tlearn: 0.7187966\ttotal: 11s\tremaining: 26s\n",
      "298:\tlearn: 0.7187544\ttotal: 11.1s\tremaining: 26s\n",
      "299:\tlearn: 0.7186223\ttotal: 11.1s\tremaining: 26s\n",
      "300:\tlearn: 0.7185904\ttotal: 11.2s\tremaining: 25.9s\n",
      "301:\tlearn: 0.7185668\ttotal: 11.2s\tremaining: 25.9s\n",
      "302:\tlearn: 0.7185012\ttotal: 11.2s\tremaining: 25.8s\n",
      "303:\tlearn: 0.7184587\ttotal: 11.2s\tremaining: 25.7s\n",
      "304:\tlearn: 0.7183885\ttotal: 11.3s\tremaining: 25.7s\n",
      "305:\tlearn: 0.7183601\ttotal: 11.3s\tremaining: 25.6s\n",
      "306:\tlearn: 0.7183146\ttotal: 11.3s\tremaining: 25.5s\n",
      "307:\tlearn: 0.7182621\ttotal: 11.3s\tremaining: 25.5s\n",
      "308:\tlearn: 0.7181934\ttotal: 11.4s\tremaining: 25.4s\n",
      "309:\tlearn: 0.7180343\ttotal: 11.4s\tremaining: 25.4s\n",
      "310:\tlearn: 0.7179877\ttotal: 11.4s\tremaining: 25.3s\n",
      "311:\tlearn: 0.7179475\ttotal: 11.4s\tremaining: 25.2s\n",
      "312:\tlearn: 0.7178025\ttotal: 11.5s\tremaining: 25.2s\n",
      "313:\tlearn: 0.7177644\ttotal: 11.5s\tremaining: 25.1s\n",
      "314:\tlearn: 0.7177284\ttotal: 11.5s\tremaining: 25s\n",
      "315:\tlearn: 0.7176784\ttotal: 11.5s\tremaining: 25s\n",
      "316:\tlearn: 0.7176276\ttotal: 11.6s\tremaining: 24.9s\n",
      "317:\tlearn: 0.7175633\ttotal: 11.6s\tremaining: 24.8s\n",
      "318:\tlearn: 0.7175224\ttotal: 11.6s\tremaining: 24.8s\n",
      "319:\tlearn: 0.7175049\ttotal: 11.6s\tremaining: 24.7s\n",
      "320:\tlearn: 0.7174540\ttotal: 11.7s\tremaining: 24.7s\n",
      "321:\tlearn: 0.7174271\ttotal: 11.7s\tremaining: 24.6s\n",
      "322:\tlearn: 0.7173884\ttotal: 11.7s\tremaining: 24.6s\n",
      "323:\tlearn: 0.7173520\ttotal: 11.7s\tremaining: 24.5s\n",
      "324:\tlearn: 0.7173047\ttotal: 11.8s\tremaining: 24.5s\n",
      "325:\tlearn: 0.7172236\ttotal: 11.8s\tremaining: 24.4s\n",
      "326:\tlearn: 0.7171912\ttotal: 11.9s\tremaining: 24.4s\n",
      "327:\tlearn: 0.7170672\ttotal: 11.9s\tremaining: 24.4s\n",
      "328:\tlearn: 0.7170030\ttotal: 11.9s\tremaining: 24.3s\n",
      "329:\tlearn: 0.7169709\ttotal: 12s\tremaining: 24.3s\n",
      "330:\tlearn: 0.7169319\ttotal: 12s\tremaining: 24.2s\n",
      "331:\tlearn: 0.7169056\ttotal: 12s\tremaining: 24.2s\n",
      "332:\tlearn: 0.7168769\ttotal: 12s\tremaining: 24.1s\n",
      "333:\tlearn: 0.7168068\ttotal: 12.1s\tremaining: 24.1s\n",
      "334:\tlearn: 0.7167430\ttotal: 12.1s\tremaining: 24s\n",
      "335:\tlearn: 0.7166986\ttotal: 12.1s\tremaining: 23.9s\n",
      "336:\tlearn: 0.7166071\ttotal: 12.1s\tremaining: 23.9s\n",
      "337:\tlearn: 0.7165491\ttotal: 12.2s\tremaining: 23.8s\n",
      "338:\tlearn: 0.7165153\ttotal: 12.2s\tremaining: 23.8s\n",
      "339:\tlearn: 0.7164844\ttotal: 12.2s\tremaining: 23.7s\n",
      "340:\tlearn: 0.7164655\ttotal: 12.2s\tremaining: 23.7s\n",
      "341:\tlearn: 0.7164123\ttotal: 12.3s\tremaining: 23.6s\n",
      "342:\tlearn: 0.7163872\ttotal: 12.3s\tremaining: 23.5s\n",
      "343:\tlearn: 0.7163516\ttotal: 12.3s\tremaining: 23.5s\n",
      "344:\tlearn: 0.7163341\ttotal: 12.3s\tremaining: 23.4s\n",
      "345:\tlearn: 0.7162796\ttotal: 12.4s\tremaining: 23.4s\n",
      "346:\tlearn: 0.7162588\ttotal: 12.4s\tremaining: 23.4s\n",
      "347:\tlearn: 0.7161212\ttotal: 12.5s\tremaining: 23.4s\n",
      "348:\tlearn: 0.7160668\ttotal: 12.6s\tremaining: 23.5s\n",
      "349:\tlearn: 0.7160231\ttotal: 12.6s\tremaining: 23.5s\n",
      "350:\tlearn: 0.7159748\ttotal: 12.7s\tremaining: 23.5s\n",
      "351:\tlearn: 0.7159453\ttotal: 12.7s\tremaining: 23.4s\n",
      "352:\tlearn: 0.7159165\ttotal: 12.8s\tremaining: 23.4s\n",
      "353:\tlearn: 0.7158902\ttotal: 12.8s\tremaining: 23.4s\n",
      "354:\tlearn: 0.7158510\ttotal: 12.9s\tremaining: 23.4s\n",
      "355:\tlearn: 0.7157850\ttotal: 12.9s\tremaining: 23.3s\n",
      "356:\tlearn: 0.7157586\ttotal: 13s\tremaining: 23.3s\n",
      "357:\tlearn: 0.7157134\ttotal: 13s\tremaining: 23.3s\n",
      "358:\tlearn: 0.7156936\ttotal: 13s\tremaining: 23.3s\n",
      "359:\tlearn: 0.7156461\ttotal: 13.1s\tremaining: 23.3s\n",
      "360:\tlearn: 0.7156008\ttotal: 13.1s\tremaining: 23.3s\n",
      "361:\tlearn: 0.7155757\ttotal: 13.2s\tremaining: 23.2s\n",
      "362:\tlearn: 0.7155435\ttotal: 13.2s\tremaining: 23.2s\n",
      "363:\tlearn: 0.7155258\ttotal: 13.2s\tremaining: 23.1s\n",
      "364:\tlearn: 0.7154896\ttotal: 13.3s\tremaining: 23.1s\n",
      "365:\tlearn: 0.7154209\ttotal: 13.3s\tremaining: 23.1s\n",
      "366:\tlearn: 0.7153717\ttotal: 13.4s\tremaining: 23s\n",
      "367:\tlearn: 0.7153379\ttotal: 13.4s\tremaining: 23s\n",
      "368:\tlearn: 0.7152554\ttotal: 13.4s\tremaining: 22.9s\n",
      "369:\tlearn: 0.7152238\ttotal: 13.4s\tremaining: 22.9s\n",
      "370:\tlearn: 0.7151466\ttotal: 13.5s\tremaining: 22.8s\n",
      "371:\tlearn: 0.7150784\ttotal: 13.5s\tremaining: 22.8s\n",
      "372:\tlearn: 0.7150345\ttotal: 13.5s\tremaining: 22.7s\n",
      "373:\tlearn: 0.7150226\ttotal: 13.6s\tremaining: 22.7s\n",
      "374:\tlearn: 0.7149579\ttotal: 13.6s\tremaining: 22.7s\n",
      "375:\tlearn: 0.7149055\ttotal: 13.6s\tremaining: 22.6s\n",
      "376:\tlearn: 0.7148611\ttotal: 13.6s\tremaining: 22.6s\n",
      "377:\tlearn: 0.7148258\ttotal: 13.7s\tremaining: 22.5s\n",
      "378:\tlearn: 0.7147800\ttotal: 13.7s\tremaining: 22.5s\n",
      "379:\tlearn: 0.7147448\ttotal: 13.7s\tremaining: 22.4s\n",
      "380:\tlearn: 0.7146822\ttotal: 13.8s\tremaining: 22.4s\n",
      "381:\tlearn: 0.7146604\ttotal: 13.8s\tremaining: 22.4s\n",
      "382:\tlearn: 0.7146287\ttotal: 13.9s\tremaining: 22.4s\n",
      "383:\tlearn: 0.7145642\ttotal: 13.9s\tremaining: 22.3s\n",
      "384:\tlearn: 0.7145278\ttotal: 14s\tremaining: 22.3s\n",
      "385:\tlearn: 0.7144514\ttotal: 14s\tremaining: 22.3s\n",
      "386:\tlearn: 0.7143946\ttotal: 14.1s\tremaining: 22.3s\n",
      "387:\tlearn: 0.7142290\ttotal: 14.1s\tremaining: 22.2s\n",
      "388:\tlearn: 0.7141931\ttotal: 14.1s\tremaining: 22.2s\n",
      "389:\tlearn: 0.7141597\ttotal: 14.2s\tremaining: 22.2s\n",
      "390:\tlearn: 0.7141389\ttotal: 14.2s\tremaining: 22.1s\n",
      "391:\tlearn: 0.7140517\ttotal: 14.2s\tremaining: 22.1s\n",
      "392:\tlearn: 0.7139604\ttotal: 14.3s\tremaining: 22.1s\n",
      "393:\tlearn: 0.7139005\ttotal: 14.3s\tremaining: 22s\n",
      "394:\tlearn: 0.7138364\ttotal: 14.4s\tremaining: 22s\n",
      "395:\tlearn: 0.7138014\ttotal: 14.4s\tremaining: 22s\n",
      "396:\tlearn: 0.7137724\ttotal: 14.4s\tremaining: 21.9s\n",
      "397:\tlearn: 0.7137482\ttotal: 14.5s\tremaining: 21.9s\n",
      "398:\tlearn: 0.7137226\ttotal: 14.5s\tremaining: 21.8s\n",
      "399:\tlearn: 0.7136835\ttotal: 14.5s\tremaining: 21.8s\n",
      "400:\tlearn: 0.7136394\ttotal: 14.6s\tremaining: 21.8s\n",
      "401:\tlearn: 0.7136198\ttotal: 14.6s\tremaining: 21.7s\n",
      "402:\tlearn: 0.7135274\ttotal: 14.6s\tremaining: 21.7s\n",
      "403:\tlearn: 0.7135064\ttotal: 14.7s\tremaining: 21.6s\n",
      "404:\tlearn: 0.7134797\ttotal: 14.7s\tremaining: 21.6s\n",
      "405:\tlearn: 0.7134240\ttotal: 14.7s\tremaining: 21.6s\n",
      "406:\tlearn: 0.7133422\ttotal: 14.8s\tremaining: 21.5s\n",
      "407:\tlearn: 0.7132149\ttotal: 14.8s\tremaining: 21.5s\n",
      "408:\tlearn: 0.7131977\ttotal: 14.8s\tremaining: 21.4s\n",
      "409:\tlearn: 0.7131559\ttotal: 14.9s\tremaining: 21.4s\n",
      "410:\tlearn: 0.7130587\ttotal: 14.9s\tremaining: 21.3s\n",
      "411:\tlearn: 0.7130445\ttotal: 14.9s\tremaining: 21.3s\n",
      "412:\tlearn: 0.7130045\ttotal: 14.9s\tremaining: 21.2s\n",
      "413:\tlearn: 0.7129618\ttotal: 15s\tremaining: 21.2s\n",
      "414:\tlearn: 0.7128951\ttotal: 15s\tremaining: 21.1s\n",
      "415:\tlearn: 0.7128586\ttotal: 15s\tremaining: 21.1s\n",
      "416:\tlearn: 0.7127859\ttotal: 15.1s\tremaining: 21.1s\n",
      "417:\tlearn: 0.7127501\ttotal: 15.1s\tremaining: 21s\n",
      "418:\tlearn: 0.7127247\ttotal: 15.1s\tremaining: 21s\n",
      "419:\tlearn: 0.7126675\ttotal: 15.2s\tremaining: 20.9s\n",
      "420:\tlearn: 0.7126261\ttotal: 15.2s\tremaining: 20.9s\n",
      "421:\tlearn: 0.7125989\ttotal: 15.2s\tremaining: 20.8s\n",
      "422:\tlearn: 0.7125525\ttotal: 15.2s\tremaining: 20.8s\n",
      "423:\tlearn: 0.7125383\ttotal: 15.3s\tremaining: 20.7s\n",
      "424:\tlearn: 0.7125164\ttotal: 15.3s\tremaining: 20.7s\n",
      "425:\tlearn: 0.7124948\ttotal: 15.3s\tremaining: 20.6s\n",
      "426:\tlearn: 0.7124477\ttotal: 15.3s\tremaining: 20.6s\n",
      "427:\tlearn: 0.7123717\ttotal: 15.4s\tremaining: 20.5s\n",
      "428:\tlearn: 0.7123511\ttotal: 15.4s\tremaining: 20.5s\n",
      "429:\tlearn: 0.7122614\ttotal: 15.4s\tremaining: 20.5s\n",
      "430:\tlearn: 0.7122031\ttotal: 15.5s\tremaining: 20.4s\n",
      "431:\tlearn: 0.7121415\ttotal: 15.5s\tremaining: 20.4s\n",
      "432:\tlearn: 0.7121179\ttotal: 15.5s\tremaining: 20.3s\n",
      "433:\tlearn: 0.7120569\ttotal: 15.6s\tremaining: 20.3s\n",
      "434:\tlearn: 0.7120434\ttotal: 15.6s\tremaining: 20.3s\n",
      "435:\tlearn: 0.7120292\ttotal: 15.7s\tremaining: 20.3s\n",
      "436:\tlearn: 0.7120076\ttotal: 15.7s\tremaining: 20.3s\n",
      "437:\tlearn: 0.7119794\ttotal: 15.8s\tremaining: 20.2s\n",
      "438:\tlearn: 0.7119499\ttotal: 15.8s\tremaining: 20.2s\n",
      "439:\tlearn: 0.7119153\ttotal: 15.8s\tremaining: 20.1s\n",
      "440:\tlearn: 0.7118840\ttotal: 15.9s\tremaining: 20.1s\n",
      "441:\tlearn: 0.7118343\ttotal: 15.9s\tremaining: 20.1s\n",
      "442:\tlearn: 0.7117033\ttotal: 15.9s\tremaining: 20s\n",
      "443:\tlearn: 0.7116217\ttotal: 15.9s\tremaining: 20s\n",
      "444:\tlearn: 0.7115084\ttotal: 16s\tremaining: 19.9s\n",
      "445:\tlearn: 0.7114656\ttotal: 16s\tremaining: 19.9s\n",
      "446:\tlearn: 0.7113966\ttotal: 16s\tremaining: 19.8s\n",
      "447:\tlearn: 0.7113631\ttotal: 16.1s\tremaining: 19.8s\n",
      "448:\tlearn: 0.7113181\ttotal: 16.1s\tremaining: 19.7s\n",
      "449:\tlearn: 0.7112634\ttotal: 16.1s\tremaining: 19.7s\n",
      "450:\tlearn: 0.7112150\ttotal: 16.1s\tremaining: 19.6s\n",
      "451:\tlearn: 0.7111637\ttotal: 16.2s\tremaining: 19.6s\n",
      "452:\tlearn: 0.7111219\ttotal: 16.2s\tremaining: 19.6s\n",
      "453:\tlearn: 0.7111058\ttotal: 16.2s\tremaining: 19.5s\n",
      "454:\tlearn: 0.7110773\ttotal: 16.2s\tremaining: 19.5s\n",
      "455:\tlearn: 0.7110279\ttotal: 16.3s\tremaining: 19.4s\n",
      "456:\tlearn: 0.7109779\ttotal: 16.3s\tremaining: 19.4s\n",
      "457:\tlearn: 0.7109538\ttotal: 16.3s\tremaining: 19.3s\n",
      "458:\tlearn: 0.7108988\ttotal: 16.4s\tremaining: 19.3s\n",
      "459:\tlearn: 0.7108446\ttotal: 16.4s\tremaining: 19.2s\n",
      "460:\tlearn: 0.7108126\ttotal: 16.4s\tremaining: 19.2s\n",
      "461:\tlearn: 0.7107908\ttotal: 16.4s\tremaining: 19.2s\n",
      "462:\tlearn: 0.7107623\ttotal: 16.5s\tremaining: 19.1s\n",
      "463:\tlearn: 0.7107351\ttotal: 16.5s\tremaining: 19.1s\n",
      "464:\tlearn: 0.7106997\ttotal: 16.6s\tremaining: 19.1s\n",
      "465:\tlearn: 0.7106393\ttotal: 16.6s\tremaining: 19.1s\n",
      "466:\tlearn: 0.7106103\ttotal: 16.7s\tremaining: 19s\n",
      "467:\tlearn: 0.7104485\ttotal: 16.7s\tremaining: 19s\n",
      "468:\tlearn: 0.7103921\ttotal: 16.7s\tremaining: 18.9s\n",
      "469:\tlearn: 0.7103486\ttotal: 16.8s\tremaining: 18.9s\n",
      "470:\tlearn: 0.7103300\ttotal: 16.8s\tremaining: 18.9s\n",
      "471:\tlearn: 0.7102615\ttotal: 16.8s\tremaining: 18.8s\n",
      "472:\tlearn: 0.7101903\ttotal: 16.9s\tremaining: 18.8s\n",
      "473:\tlearn: 0.7101643\ttotal: 16.9s\tremaining: 18.7s\n",
      "474:\tlearn: 0.7101060\ttotal: 16.9s\tremaining: 18.7s\n",
      "475:\tlearn: 0.7100151\ttotal: 16.9s\tremaining: 18.6s\n",
      "476:\tlearn: 0.7099879\ttotal: 17s\tremaining: 18.6s\n",
      "477:\tlearn: 0.7099333\ttotal: 17s\tremaining: 18.5s\n",
      "478:\tlearn: 0.7099145\ttotal: 17s\tremaining: 18.5s\n",
      "479:\tlearn: 0.7098877\ttotal: 17s\tremaining: 18.4s\n",
      "480:\tlearn: 0.7098603\ttotal: 17s\tremaining: 18.4s\n",
      "481:\tlearn: 0.7098357\ttotal: 17.1s\tremaining: 18.3s\n",
      "482:\tlearn: 0.7098110\ttotal: 17.1s\tremaining: 18.3s\n",
      "483:\tlearn: 0.7097582\ttotal: 17.1s\tremaining: 18.3s\n",
      "484:\tlearn: 0.7097281\ttotal: 17.2s\tremaining: 18.2s\n",
      "485:\tlearn: 0.7096250\ttotal: 17.2s\tremaining: 18.2s\n",
      "486:\tlearn: 0.7095679\ttotal: 17.2s\tremaining: 18.1s\n",
      "487:\tlearn: 0.7095411\ttotal: 17.2s\tremaining: 18.1s\n",
      "488:\tlearn: 0.7095076\ttotal: 17.3s\tremaining: 18s\n",
      "489:\tlearn: 0.7094853\ttotal: 17.3s\tremaining: 18s\n",
      "490:\tlearn: 0.7094096\ttotal: 17.3s\tremaining: 17.9s\n",
      "491:\tlearn: 0.7093733\ttotal: 17.3s\tremaining: 17.9s\n",
      "492:\tlearn: 0.7093488\ttotal: 17.4s\tremaining: 17.9s\n",
      "493:\tlearn: 0.7093210\ttotal: 17.4s\tremaining: 17.8s\n",
      "494:\tlearn: 0.7092903\ttotal: 17.4s\tremaining: 17.8s\n",
      "495:\tlearn: 0.7092242\ttotal: 17.5s\tremaining: 17.8s\n",
      "496:\tlearn: 0.7091825\ttotal: 17.5s\tremaining: 17.7s\n",
      "497:\tlearn: 0.7091550\ttotal: 17.5s\tremaining: 17.7s\n",
      "498:\tlearn: 0.7091230\ttotal: 17.6s\tremaining: 17.6s\n",
      "499:\tlearn: 0.7090290\ttotal: 17.6s\tremaining: 17.6s\n",
      "500:\tlearn: 0.7090007\ttotal: 17.6s\tremaining: 17.6s\n",
      "501:\tlearn: 0.7089578\ttotal: 17.7s\tremaining: 17.5s\n",
      "502:\tlearn: 0.7089365\ttotal: 17.7s\tremaining: 17.5s\n",
      "503:\tlearn: 0.7089024\ttotal: 17.8s\tremaining: 17.5s\n",
      "504:\tlearn: 0.7088485\ttotal: 17.8s\tremaining: 17.4s\n",
      "505:\tlearn: 0.7088069\ttotal: 17.8s\tremaining: 17.4s\n",
      "506:\tlearn: 0.7087808\ttotal: 17.8s\tremaining: 17.4s\n",
      "507:\tlearn: 0.7087619\ttotal: 17.9s\tremaining: 17.3s\n",
      "508:\tlearn: 0.7087484\ttotal: 17.9s\tremaining: 17.3s\n",
      "509:\tlearn: 0.7086222\ttotal: 17.9s\tremaining: 17.2s\n",
      "510:\tlearn: 0.7085996\ttotal: 17.9s\tremaining: 17.2s\n",
      "511:\tlearn: 0.7085689\ttotal: 18s\tremaining: 17.1s\n",
      "512:\tlearn: 0.7085507\ttotal: 18s\tremaining: 17.1s\n",
      "513:\tlearn: 0.7085380\ttotal: 18s\tremaining: 17s\n",
      "514:\tlearn: 0.7085235\ttotal: 18s\tremaining: 17s\n",
      "515:\tlearn: 0.7085037\ttotal: 18.1s\tremaining: 16.9s\n",
      "516:\tlearn: 0.7084821\ttotal: 18.1s\tremaining: 16.9s\n",
      "517:\tlearn: 0.7084616\ttotal: 18.1s\tremaining: 16.9s\n",
      "518:\tlearn: 0.7084474\ttotal: 18.1s\tremaining: 16.8s\n",
      "519:\tlearn: 0.7084038\ttotal: 18.2s\tremaining: 16.8s\n",
      "520:\tlearn: 0.7083748\ttotal: 18.2s\tremaining: 16.7s\n",
      "521:\tlearn: 0.7083119\ttotal: 18.2s\tremaining: 16.7s\n",
      "522:\tlearn: 0.7082682\ttotal: 18.2s\tremaining: 16.6s\n",
      "523:\tlearn: 0.7082571\ttotal: 18.3s\tremaining: 16.6s\n",
      "524:\tlearn: 0.7082412\ttotal: 18.3s\tremaining: 16.5s\n",
      "525:\tlearn: 0.7082166\ttotal: 18.3s\tremaining: 16.5s\n",
      "526:\tlearn: 0.7081468\ttotal: 18.3s\tremaining: 16.5s\n",
      "527:\tlearn: 0.7081048\ttotal: 18.4s\tremaining: 16.4s\n",
      "528:\tlearn: 0.7080862\ttotal: 18.4s\tremaining: 16.4s\n",
      "529:\tlearn: 0.7080650\ttotal: 18.4s\tremaining: 16.3s\n",
      "530:\tlearn: 0.7080289\ttotal: 18.4s\tremaining: 16.3s\n",
      "531:\tlearn: 0.7080087\ttotal: 18.5s\tremaining: 16.2s\n",
      "532:\tlearn: 0.7079944\ttotal: 18.5s\tremaining: 16.2s\n",
      "533:\tlearn: 0.7079759\ttotal: 18.5s\tremaining: 16.2s\n",
      "534:\tlearn: 0.7079432\ttotal: 18.5s\tremaining: 16.1s\n",
      "535:\tlearn: 0.7078745\ttotal: 18.6s\tremaining: 16.1s\n",
      "536:\tlearn: 0.7078578\ttotal: 18.6s\tremaining: 16s\n",
      "537:\tlearn: 0.7078457\ttotal: 18.6s\tremaining: 16s\n",
      "538:\tlearn: 0.7078184\ttotal: 18.6s\tremaining: 15.9s\n",
      "539:\tlearn: 0.7077758\ttotal: 18.7s\tremaining: 15.9s\n",
      "540:\tlearn: 0.7077342\ttotal: 18.7s\tremaining: 15.8s\n",
      "541:\tlearn: 0.7077141\ttotal: 18.7s\tremaining: 15.8s\n",
      "542:\tlearn: 0.7076792\ttotal: 18.7s\tremaining: 15.8s\n",
      "543:\tlearn: 0.7076490\ttotal: 18.8s\tremaining: 15.7s\n",
      "544:\tlearn: 0.7076274\ttotal: 18.8s\tremaining: 15.7s\n",
      "545:\tlearn: 0.7075879\ttotal: 18.8s\tremaining: 15.6s\n",
      "546:\tlearn: 0.7074902\ttotal: 18.8s\tremaining: 15.6s\n",
      "547:\tlearn: 0.7074554\ttotal: 18.8s\tremaining: 15.5s\n",
      "548:\tlearn: 0.7073804\ttotal: 18.9s\tremaining: 15.5s\n",
      "549:\tlearn: 0.7073467\ttotal: 18.9s\tremaining: 15.5s\n",
      "550:\tlearn: 0.7073283\ttotal: 18.9s\tremaining: 15.4s\n",
      "551:\tlearn: 0.7072992\ttotal: 19s\tremaining: 15.4s\n",
      "552:\tlearn: 0.7072367\ttotal: 19s\tremaining: 15.3s\n",
      "553:\tlearn: 0.7071727\ttotal: 19s\tremaining: 15.3s\n",
      "554:\tlearn: 0.7071344\ttotal: 19s\tremaining: 15.3s\n",
      "555:\tlearn: 0.7071031\ttotal: 19.1s\tremaining: 15.2s\n",
      "556:\tlearn: 0.7070676\ttotal: 19.1s\tremaining: 15.2s\n",
      "557:\tlearn: 0.7070522\ttotal: 19.1s\tremaining: 15.1s\n",
      "558:\tlearn: 0.7069977\ttotal: 19.1s\tremaining: 15.1s\n",
      "559:\tlearn: 0.7069877\ttotal: 19.2s\tremaining: 15.1s\n",
      "560:\tlearn: 0.7069751\ttotal: 19.2s\tremaining: 15s\n",
      "561:\tlearn: 0.7069400\ttotal: 19.2s\tremaining: 15s\n",
      "562:\tlearn: 0.7069162\ttotal: 19.2s\tremaining: 14.9s\n",
      "563:\tlearn: 0.7068843\ttotal: 19.3s\tremaining: 14.9s\n",
      "564:\tlearn: 0.7068753\ttotal: 19.3s\tremaining: 14.9s\n",
      "565:\tlearn: 0.7068173\ttotal: 19.3s\tremaining: 14.8s\n",
      "566:\tlearn: 0.7067351\ttotal: 19.4s\tremaining: 14.8s\n",
      "567:\tlearn: 0.7067190\ttotal: 19.4s\tremaining: 14.8s\n",
      "568:\tlearn: 0.7066798\ttotal: 19.4s\tremaining: 14.7s\n",
      "569:\tlearn: 0.7066334\ttotal: 19.5s\tremaining: 14.7s\n",
      "570:\tlearn: 0.7065977\ttotal: 19.5s\tremaining: 14.6s\n",
      "571:\tlearn: 0.7065336\ttotal: 19.5s\tremaining: 14.6s\n",
      "572:\tlearn: 0.7064426\ttotal: 19.5s\tremaining: 14.6s\n",
      "573:\tlearn: 0.7064178\ttotal: 19.6s\tremaining: 14.5s\n",
      "574:\tlearn: 0.7062620\ttotal: 19.6s\tremaining: 14.5s\n",
      "575:\tlearn: 0.7062430\ttotal: 19.6s\tremaining: 14.4s\n",
      "576:\tlearn: 0.7062316\ttotal: 19.7s\tremaining: 14.4s\n",
      "577:\tlearn: 0.7062064\ttotal: 19.7s\tremaining: 14.4s\n",
      "578:\tlearn: 0.7061945\ttotal: 19.7s\tremaining: 14.3s\n",
      "579:\tlearn: 0.7061694\ttotal: 19.7s\tremaining: 14.3s\n",
      "580:\tlearn: 0.7061306\ttotal: 19.8s\tremaining: 14.3s\n",
      "581:\tlearn: 0.7060782\ttotal: 19.8s\tremaining: 14.2s\n",
      "582:\tlearn: 0.7060641\ttotal: 19.8s\tremaining: 14.2s\n",
      "583:\tlearn: 0.7060462\ttotal: 19.8s\tremaining: 14.1s\n",
      "584:\tlearn: 0.7060238\ttotal: 19.9s\tremaining: 14.1s\n",
      "585:\tlearn: 0.7059881\ttotal: 19.9s\tremaining: 14.1s\n",
      "586:\tlearn: 0.7059199\ttotal: 19.9s\tremaining: 14s\n",
      "587:\tlearn: 0.7058900\ttotal: 20s\tremaining: 14s\n",
      "588:\tlearn: 0.7058731\ttotal: 20s\tremaining: 14s\n",
      "589:\tlearn: 0.7057969\ttotal: 20s\tremaining: 13.9s\n",
      "590:\tlearn: 0.7057773\ttotal: 20.1s\tremaining: 13.9s\n",
      "591:\tlearn: 0.7057144\ttotal: 20.1s\tremaining: 13.9s\n",
      "592:\tlearn: 0.7056944\ttotal: 20.1s\tremaining: 13.8s\n",
      "593:\tlearn: 0.7056644\ttotal: 20.2s\tremaining: 13.8s\n",
      "594:\tlearn: 0.7056478\ttotal: 20.2s\tremaining: 13.8s\n",
      "595:\tlearn: 0.7056310\ttotal: 20.2s\tremaining: 13.7s\n",
      "596:\tlearn: 0.7055855\ttotal: 20.3s\tremaining: 13.7s\n",
      "597:\tlearn: 0.7055654\ttotal: 20.3s\tremaining: 13.6s\n",
      "598:\tlearn: 0.7055368\ttotal: 20.3s\tremaining: 13.6s\n",
      "599:\tlearn: 0.7055232\ttotal: 20.4s\tremaining: 13.6s\n",
      "600:\tlearn: 0.7055070\ttotal: 20.4s\tremaining: 13.5s\n",
      "601:\tlearn: 0.7054700\ttotal: 20.4s\tremaining: 13.5s\n",
      "602:\tlearn: 0.7054398\ttotal: 20.4s\tremaining: 13.5s\n",
      "603:\tlearn: 0.7054258\ttotal: 20.5s\tremaining: 13.4s\n",
      "604:\tlearn: 0.7053924\ttotal: 20.5s\tremaining: 13.4s\n",
      "605:\tlearn: 0.7052694\ttotal: 20.5s\tremaining: 13.3s\n",
      "606:\tlearn: 0.7052220\ttotal: 20.5s\tremaining: 13.3s\n",
      "607:\tlearn: 0.7052107\ttotal: 20.6s\tremaining: 13.3s\n",
      "608:\tlearn: 0.7051295\ttotal: 20.6s\tremaining: 13.2s\n",
      "609:\tlearn: 0.7050775\ttotal: 20.6s\tremaining: 13.2s\n",
      "610:\tlearn: 0.7050425\ttotal: 20.6s\tremaining: 13.1s\n",
      "611:\tlearn: 0.7050082\ttotal: 20.7s\tremaining: 13.1s\n",
      "612:\tlearn: 0.7049835\ttotal: 20.7s\tremaining: 13.1s\n",
      "613:\tlearn: 0.7049634\ttotal: 20.7s\tremaining: 13s\n",
      "614:\tlearn: 0.7049439\ttotal: 20.7s\tremaining: 13s\n",
      "615:\tlearn: 0.7049205\ttotal: 20.8s\tremaining: 12.9s\n",
      "616:\tlearn: 0.7048940\ttotal: 20.8s\tremaining: 12.9s\n",
      "617:\tlearn: 0.7048650\ttotal: 20.8s\tremaining: 12.9s\n",
      "618:\tlearn: 0.7048327\ttotal: 20.8s\tremaining: 12.8s\n",
      "619:\tlearn: 0.7047980\ttotal: 20.9s\tremaining: 12.8s\n",
      "620:\tlearn: 0.7047831\ttotal: 20.9s\tremaining: 12.7s\n",
      "621:\tlearn: 0.7047280\ttotal: 20.9s\tremaining: 12.7s\n",
      "622:\tlearn: 0.7046962\ttotal: 20.9s\tremaining: 12.7s\n",
      "623:\tlearn: 0.7046828\ttotal: 21s\tremaining: 12.6s\n",
      "624:\tlearn: 0.7046609\ttotal: 21s\tremaining: 12.6s\n",
      "625:\tlearn: 0.7046312\ttotal: 21s\tremaining: 12.6s\n",
      "626:\tlearn: 0.7045957\ttotal: 21s\tremaining: 12.5s\n",
      "627:\tlearn: 0.7045506\ttotal: 21.1s\tremaining: 12.5s\n",
      "628:\tlearn: 0.7044071\ttotal: 21.1s\tremaining: 12.4s\n",
      "629:\tlearn: 0.7043876\ttotal: 21.1s\tremaining: 12.4s\n",
      "630:\tlearn: 0.7043699\ttotal: 21.1s\tremaining: 12.4s\n",
      "631:\tlearn: 0.7043518\ttotal: 21.2s\tremaining: 12.3s\n",
      "632:\tlearn: 0.7043160\ttotal: 21.2s\tremaining: 12.3s\n",
      "633:\tlearn: 0.7043034\ttotal: 21.2s\tremaining: 12.3s\n",
      "634:\tlearn: 0.7042675\ttotal: 21.3s\tremaining: 12.2s\n",
      "635:\tlearn: 0.7042261\ttotal: 21.3s\tremaining: 12.2s\n",
      "636:\tlearn: 0.7042101\ttotal: 21.3s\tremaining: 12.1s\n",
      "637:\tlearn: 0.7041722\ttotal: 21.3s\tremaining: 12.1s\n",
      "638:\tlearn: 0.7041322\ttotal: 21.4s\tremaining: 12.1s\n",
      "639:\tlearn: 0.7041201\ttotal: 21.4s\tremaining: 12s\n",
      "640:\tlearn: 0.7041025\ttotal: 21.4s\tremaining: 12s\n",
      "641:\tlearn: 0.7040490\ttotal: 21.4s\tremaining: 12s\n",
      "642:\tlearn: 0.7040330\ttotal: 21.5s\tremaining: 11.9s\n",
      "643:\tlearn: 0.7039914\ttotal: 21.5s\tremaining: 11.9s\n",
      "644:\tlearn: 0.7039729\ttotal: 21.5s\tremaining: 11.8s\n",
      "645:\tlearn: 0.7039534\ttotal: 21.5s\tremaining: 11.8s\n",
      "646:\tlearn: 0.7039187\ttotal: 21.6s\tremaining: 11.8s\n",
      "647:\tlearn: 0.7039011\ttotal: 21.6s\tremaining: 11.7s\n",
      "648:\tlearn: 0.7038837\ttotal: 21.6s\tremaining: 11.7s\n",
      "649:\tlearn: 0.7038397\ttotal: 21.7s\tremaining: 11.7s\n",
      "650:\tlearn: 0.7038147\ttotal: 21.7s\tremaining: 11.6s\n",
      "651:\tlearn: 0.7037939\ttotal: 21.7s\tremaining: 11.6s\n",
      "652:\tlearn: 0.7037627\ttotal: 21.7s\tremaining: 11.5s\n",
      "653:\tlearn: 0.7037460\ttotal: 21.8s\tremaining: 11.5s\n",
      "654:\tlearn: 0.7037248\ttotal: 21.8s\tremaining: 11.5s\n",
      "655:\tlearn: 0.7035991\ttotal: 21.8s\tremaining: 11.4s\n",
      "656:\tlearn: 0.7035853\ttotal: 21.8s\tremaining: 11.4s\n",
      "657:\tlearn: 0.7035746\ttotal: 21.9s\tremaining: 11.4s\n",
      "658:\tlearn: 0.7035467\ttotal: 21.9s\tremaining: 11.3s\n",
      "659:\tlearn: 0.7034824\ttotal: 21.9s\tremaining: 11.3s\n",
      "660:\tlearn: 0.7034676\ttotal: 21.9s\tremaining: 11.2s\n",
      "661:\tlearn: 0.7034472\ttotal: 22s\tremaining: 11.2s\n",
      "662:\tlearn: 0.7034131\ttotal: 22s\tremaining: 11.2s\n",
      "663:\tlearn: 0.7033799\ttotal: 22s\tremaining: 11.1s\n",
      "664:\tlearn: 0.7033289\ttotal: 22s\tremaining: 11.1s\n",
      "665:\tlearn: 0.7032873\ttotal: 22.1s\tremaining: 11.1s\n",
      "666:\tlearn: 0.7032640\ttotal: 22.1s\tremaining: 11s\n",
      "667:\tlearn: 0.7032318\ttotal: 22.1s\tremaining: 11s\n",
      "668:\tlearn: 0.7032073\ttotal: 22.1s\tremaining: 11s\n",
      "669:\tlearn: 0.7031625\ttotal: 22.2s\tremaining: 10.9s\n",
      "670:\tlearn: 0.7031333\ttotal: 22.2s\tremaining: 10.9s\n",
      "671:\tlearn: 0.7031039\ttotal: 22.2s\tremaining: 10.8s\n",
      "672:\tlearn: 0.7030322\ttotal: 22.2s\tremaining: 10.8s\n",
      "673:\tlearn: 0.7030058\ttotal: 22.3s\tremaining: 10.8s\n",
      "674:\tlearn: 0.7029834\ttotal: 22.3s\tremaining: 10.7s\n",
      "675:\tlearn: 0.7029679\ttotal: 22.3s\tremaining: 10.7s\n",
      "676:\tlearn: 0.7029485\ttotal: 22.3s\tremaining: 10.7s\n",
      "677:\tlearn: 0.7028203\ttotal: 22.4s\tremaining: 10.6s\n",
      "678:\tlearn: 0.7027915\ttotal: 22.4s\tremaining: 10.6s\n",
      "679:\tlearn: 0.7027300\ttotal: 22.4s\tremaining: 10.6s\n",
      "680:\tlearn: 0.7027063\ttotal: 22.4s\tremaining: 10.5s\n",
      "681:\tlearn: 0.7026772\ttotal: 22.5s\tremaining: 10.5s\n",
      "682:\tlearn: 0.7026380\ttotal: 22.5s\tremaining: 10.4s\n",
      "683:\tlearn: 0.7026129\ttotal: 22.5s\tremaining: 10.4s\n",
      "684:\tlearn: 0.7025733\ttotal: 22.5s\tremaining: 10.4s\n",
      "685:\tlearn: 0.7025435\ttotal: 22.6s\tremaining: 10.3s\n",
      "686:\tlearn: 0.7025182\ttotal: 22.6s\tremaining: 10.3s\n",
      "687:\tlearn: 0.7024846\ttotal: 22.6s\tremaining: 10.3s\n",
      "688:\tlearn: 0.7024696\ttotal: 22.7s\tremaining: 10.2s\n",
      "689:\tlearn: 0.7024469\ttotal: 22.7s\tremaining: 10.2s\n",
      "690:\tlearn: 0.7024170\ttotal: 22.7s\tremaining: 10.2s\n",
      "691:\tlearn: 0.7023947\ttotal: 22.7s\tremaining: 10.1s\n",
      "692:\tlearn: 0.7023601\ttotal: 22.8s\tremaining: 10.1s\n",
      "693:\tlearn: 0.7023475\ttotal: 22.8s\tremaining: 10s\n",
      "694:\tlearn: 0.7023286\ttotal: 22.8s\tremaining: 10s\n",
      "695:\tlearn: 0.7023081\ttotal: 22.8s\tremaining: 9.98s\n",
      "696:\tlearn: 0.7022916\ttotal: 22.9s\tremaining: 9.95s\n",
      "697:\tlearn: 0.7022762\ttotal: 22.9s\tremaining: 9.91s\n",
      "698:\tlearn: 0.7022079\ttotal: 22.9s\tremaining: 9.87s\n",
      "699:\tlearn: 0.7021745\ttotal: 22.9s\tremaining: 9.83s\n",
      "700:\tlearn: 0.7021498\ttotal: 23s\tremaining: 9.79s\n",
      "701:\tlearn: 0.7021328\ttotal: 23s\tremaining: 9.76s\n",
      "702:\tlearn: 0.7021199\ttotal: 23s\tremaining: 9.72s\n",
      "703:\tlearn: 0.7020615\ttotal: 23.1s\tremaining: 9.69s\n",
      "704:\tlearn: 0.7020433\ttotal: 23.1s\tremaining: 9.66s\n",
      "705:\tlearn: 0.7020105\ttotal: 23.1s\tremaining: 9.62s\n",
      "706:\tlearn: 0.7019828\ttotal: 23.1s\tremaining: 9.59s\n",
      "707:\tlearn: 0.7019664\ttotal: 23.1s\tremaining: 9.55s\n",
      "708:\tlearn: 0.7019445\ttotal: 23.2s\tremaining: 9.51s\n",
      "709:\tlearn: 0.7019240\ttotal: 23.2s\tremaining: 9.48s\n",
      "710:\tlearn: 0.7018492\ttotal: 23.2s\tremaining: 9.45s\n",
      "711:\tlearn: 0.7018060\ttotal: 23.3s\tremaining: 9.41s\n",
      "712:\tlearn: 0.7017807\ttotal: 23.3s\tremaining: 9.38s\n",
      "713:\tlearn: 0.7017259\ttotal: 23.3s\tremaining: 9.34s\n",
      "714:\tlearn: 0.7016963\ttotal: 23.3s\tremaining: 9.3s\n",
      "715:\tlearn: 0.7016090\ttotal: 23.4s\tremaining: 9.27s\n",
      "716:\tlearn: 0.7015953\ttotal: 23.4s\tremaining: 9.23s\n",
      "717:\tlearn: 0.7015865\ttotal: 23.4s\tremaining: 9.2s\n",
      "718:\tlearn: 0.7014950\ttotal: 23.4s\tremaining: 9.16s\n",
      "719:\tlearn: 0.7014442\ttotal: 23.5s\tremaining: 9.13s\n",
      "720:\tlearn: 0.7014218\ttotal: 23.5s\tremaining: 9.09s\n",
      "721:\tlearn: 0.7013966\ttotal: 23.5s\tremaining: 9.06s\n",
      "722:\tlearn: 0.7013456\ttotal: 23.6s\tremaining: 9.03s\n",
      "723:\tlearn: 0.7013353\ttotal: 23.6s\tremaining: 8.99s\n",
      "724:\tlearn: 0.7013082\ttotal: 23.6s\tremaining: 8.96s\n",
      "725:\tlearn: 0.7012813\ttotal: 23.6s\tremaining: 8.92s\n",
      "726:\tlearn: 0.7012567\ttotal: 23.7s\tremaining: 8.89s\n",
      "727:\tlearn: 0.7012382\ttotal: 23.7s\tremaining: 8.86s\n",
      "728:\tlearn: 0.7012211\ttotal: 23.7s\tremaining: 8.82s\n",
      "729:\tlearn: 0.7012085\ttotal: 23.8s\tremaining: 8.79s\n",
      "730:\tlearn: 0.7011559\ttotal: 23.8s\tremaining: 8.76s\n",
      "731:\tlearn: 0.7011210\ttotal: 23.8s\tremaining: 8.73s\n",
      "732:\tlearn: 0.7010894\ttotal: 23.9s\tremaining: 8.69s\n",
      "733:\tlearn: 0.7010604\ttotal: 23.9s\tremaining: 8.67s\n",
      "734:\tlearn: 0.7010356\ttotal: 23.9s\tremaining: 8.63s\n",
      "735:\tlearn: 0.7010164\ttotal: 24s\tremaining: 8.6s\n",
      "736:\tlearn: 0.7009805\ttotal: 24s\tremaining: 8.57s\n",
      "737:\tlearn: 0.7009522\ttotal: 24s\tremaining: 8.53s\n",
      "738:\tlearn: 0.7009260\ttotal: 24.1s\tremaining: 8.5s\n",
      "739:\tlearn: 0.7008941\ttotal: 24.1s\tremaining: 8.47s\n",
      "740:\tlearn: 0.7008507\ttotal: 24.1s\tremaining: 8.44s\n",
      "741:\tlearn: 0.7008319\ttotal: 24.2s\tremaining: 8.4s\n",
      "742:\tlearn: 0.7008141\ttotal: 24.2s\tremaining: 8.37s\n",
      "743:\tlearn: 0.7007534\ttotal: 24.2s\tremaining: 8.34s\n",
      "744:\tlearn: 0.7007226\ttotal: 24.3s\tremaining: 8.3s\n",
      "745:\tlearn: 0.7006902\ttotal: 24.3s\tremaining: 8.27s\n",
      "746:\tlearn: 0.7006660\ttotal: 24.3s\tremaining: 8.23s\n",
      "747:\tlearn: 0.7005929\ttotal: 24.3s\tremaining: 8.2s\n",
      "748:\tlearn: 0.7005652\ttotal: 24.4s\tremaining: 8.17s\n",
      "749:\tlearn: 0.7005538\ttotal: 24.4s\tremaining: 8.14s\n",
      "750:\tlearn: 0.7005273\ttotal: 24.4s\tremaining: 8.1s\n",
      "751:\tlearn: 0.7004987\ttotal: 24.5s\tremaining: 8.07s\n",
      "752:\tlearn: 0.7004811\ttotal: 24.5s\tremaining: 8.03s\n",
      "753:\tlearn: 0.7004665\ttotal: 24.5s\tremaining: 8s\n",
      "754:\tlearn: 0.7004478\ttotal: 24.6s\tremaining: 7.97s\n",
      "755:\tlearn: 0.7004290\ttotal: 24.6s\tremaining: 7.94s\n",
      "756:\tlearn: 0.7003998\ttotal: 24.6s\tremaining: 7.9s\n",
      "757:\tlearn: 0.7003687\ttotal: 24.6s\tremaining: 7.87s\n",
      "758:\tlearn: 0.7003266\ttotal: 24.7s\tremaining: 7.83s\n",
      "759:\tlearn: 0.7003090\ttotal: 24.7s\tremaining: 7.8s\n",
      "760:\tlearn: 0.7002409\ttotal: 24.7s\tremaining: 7.77s\n",
      "761:\tlearn: 0.7002261\ttotal: 24.8s\tremaining: 7.73s\n",
      "762:\tlearn: 0.7002115\ttotal: 24.8s\tremaining: 7.7s\n",
      "763:\tlearn: 0.7001550\ttotal: 24.8s\tremaining: 7.67s\n",
      "764:\tlearn: 0.7001315\ttotal: 24.9s\tremaining: 7.64s\n",
      "765:\tlearn: 0.7000955\ttotal: 24.9s\tremaining: 7.61s\n",
      "766:\tlearn: 0.7000407\ttotal: 25s\tremaining: 7.58s\n",
      "767:\tlearn: 0.6999920\ttotal: 25s\tremaining: 7.55s\n",
      "768:\tlearn: 0.6999775\ttotal: 25s\tremaining: 7.51s\n",
      "769:\tlearn: 0.6999580\ttotal: 25s\tremaining: 7.48s\n",
      "770:\tlearn: 0.6999412\ttotal: 25.1s\tremaining: 7.45s\n",
      "771:\tlearn: 0.6999195\ttotal: 25.1s\tremaining: 7.41s\n",
      "772:\tlearn: 0.6998992\ttotal: 25.1s\tremaining: 7.38s\n",
      "773:\tlearn: 0.6998709\ttotal: 25.2s\tremaining: 7.34s\n",
      "774:\tlearn: 0.6998338\ttotal: 25.2s\tremaining: 7.31s\n",
      "775:\tlearn: 0.6998230\ttotal: 25.2s\tremaining: 7.28s\n",
      "776:\tlearn: 0.6997636\ttotal: 25.2s\tremaining: 7.24s\n",
      "777:\tlearn: 0.6997522\ttotal: 25.3s\tremaining: 7.21s\n",
      "778:\tlearn: 0.6997401\ttotal: 25.3s\tremaining: 7.17s\n",
      "779:\tlearn: 0.6996719\ttotal: 25.3s\tremaining: 7.14s\n",
      "780:\tlearn: 0.6996282\ttotal: 25.3s\tremaining: 7.11s\n",
      "781:\tlearn: 0.6995962\ttotal: 25.4s\tremaining: 7.08s\n",
      "782:\tlearn: 0.6995693\ttotal: 25.4s\tremaining: 7.04s\n",
      "783:\tlearn: 0.6995540\ttotal: 25.4s\tremaining: 7.01s\n",
      "784:\tlearn: 0.6995245\ttotal: 25.5s\tremaining: 6.98s\n",
      "785:\tlearn: 0.6994756\ttotal: 25.5s\tremaining: 6.94s\n",
      "786:\tlearn: 0.6994485\ttotal: 25.5s\tremaining: 6.91s\n",
      "787:\tlearn: 0.6994300\ttotal: 25.6s\tremaining: 6.88s\n",
      "788:\tlearn: 0.6994079\ttotal: 25.6s\tremaining: 6.85s\n",
      "789:\tlearn: 0.6993651\ttotal: 25.6s\tremaining: 6.82s\n",
      "790:\tlearn: 0.6993124\ttotal: 25.7s\tremaining: 6.79s\n",
      "791:\tlearn: 0.6992903\ttotal: 25.7s\tremaining: 6.75s\n",
      "792:\tlearn: 0.6991886\ttotal: 25.7s\tremaining: 6.72s\n",
      "793:\tlearn: 0.6991693\ttotal: 25.8s\tremaining: 6.69s\n",
      "794:\tlearn: 0.6990970\ttotal: 25.8s\tremaining: 6.66s\n",
      "795:\tlearn: 0.6990295\ttotal: 25.9s\tremaining: 6.63s\n",
      "796:\tlearn: 0.6990132\ttotal: 25.9s\tremaining: 6.59s\n",
      "797:\tlearn: 0.6989799\ttotal: 25.9s\tremaining: 6.56s\n",
      "798:\tlearn: 0.6989600\ttotal: 26s\tremaining: 6.53s\n",
      "799:\tlearn: 0.6989377\ttotal: 26s\tremaining: 6.5s\n",
      "800:\tlearn: 0.6988937\ttotal: 26.1s\tremaining: 6.47s\n",
      "801:\tlearn: 0.6988623\ttotal: 26.1s\tremaining: 6.44s\n",
      "802:\tlearn: 0.6988475\ttotal: 26.1s\tremaining: 6.41s\n",
      "803:\tlearn: 0.6988270\ttotal: 26.1s\tremaining: 6.37s\n",
      "804:\tlearn: 0.6988103\ttotal: 26.2s\tremaining: 6.34s\n",
      "805:\tlearn: 0.6987924\ttotal: 26.2s\tremaining: 6.3s\n",
      "806:\tlearn: 0.6987704\ttotal: 26.2s\tremaining: 6.27s\n",
      "807:\tlearn: 0.6987279\ttotal: 26.3s\tremaining: 6.24s\n",
      "808:\tlearn: 0.6986892\ttotal: 26.3s\tremaining: 6.21s\n",
      "809:\tlearn: 0.6986367\ttotal: 26.3s\tremaining: 6.17s\n",
      "810:\tlearn: 0.6986237\ttotal: 26.3s\tremaining: 6.14s\n",
      "811:\tlearn: 0.6986131\ttotal: 26.4s\tremaining: 6.11s\n",
      "812:\tlearn: 0.6985881\ttotal: 26.4s\tremaining: 6.08s\n",
      "813:\tlearn: 0.6985347\ttotal: 26.5s\tremaining: 6.04s\n",
      "814:\tlearn: 0.6984670\ttotal: 26.5s\tremaining: 6.01s\n",
      "815:\tlearn: 0.6984494\ttotal: 26.5s\tremaining: 5.99s\n",
      "816:\tlearn: 0.6984091\ttotal: 26.6s\tremaining: 5.96s\n",
      "817:\tlearn: 0.6983812\ttotal: 26.6s\tremaining: 5.92s\n",
      "818:\tlearn: 0.6983616\ttotal: 26.7s\tremaining: 5.89s\n",
      "819:\tlearn: 0.6983380\ttotal: 26.7s\tremaining: 5.87s\n",
      "820:\tlearn: 0.6983200\ttotal: 26.8s\tremaining: 5.83s\n",
      "821:\tlearn: 0.6983100\ttotal: 26.8s\tremaining: 5.8s\n",
      "822:\tlearn: 0.6982777\ttotal: 26.8s\tremaining: 5.77s\n",
      "823:\tlearn: 0.6982483\ttotal: 26.9s\tremaining: 5.74s\n",
      "824:\tlearn: 0.6982203\ttotal: 26.9s\tremaining: 5.7s\n",
      "825:\tlearn: 0.6981901\ttotal: 26.9s\tremaining: 5.67s\n",
      "826:\tlearn: 0.6981703\ttotal: 27s\tremaining: 5.64s\n",
      "827:\tlearn: 0.6981424\ttotal: 27s\tremaining: 5.61s\n",
      "828:\tlearn: 0.6981117\ttotal: 27s\tremaining: 5.57s\n",
      "829:\tlearn: 0.6981020\ttotal: 27s\tremaining: 5.54s\n",
      "830:\tlearn: 0.6980746\ttotal: 27.1s\tremaining: 5.51s\n",
      "831:\tlearn: 0.6980574\ttotal: 27.1s\tremaining: 5.48s\n",
      "832:\tlearn: 0.6980437\ttotal: 27.2s\tremaining: 5.45s\n",
      "833:\tlearn: 0.6980300\ttotal: 27.2s\tremaining: 5.41s\n",
      "834:\tlearn: 0.6980026\ttotal: 27.2s\tremaining: 5.38s\n",
      "835:\tlearn: 0.6979702\ttotal: 27.3s\tremaining: 5.35s\n",
      "836:\tlearn: 0.6979494\ttotal: 27.3s\tremaining: 5.32s\n",
      "837:\tlearn: 0.6979378\ttotal: 27.3s\tremaining: 5.28s\n",
      "838:\tlearn: 0.6979218\ttotal: 27.4s\tremaining: 5.25s\n",
      "839:\tlearn: 0.6978920\ttotal: 27.4s\tremaining: 5.21s\n",
      "840:\tlearn: 0.6978816\ttotal: 27.4s\tremaining: 5.18s\n",
      "841:\tlearn: 0.6978684\ttotal: 27.5s\tremaining: 5.15s\n",
      "842:\tlearn: 0.6978227\ttotal: 27.5s\tremaining: 5.12s\n",
      "843:\tlearn: 0.6978127\ttotal: 27.5s\tremaining: 5.09s\n",
      "844:\tlearn: 0.6977847\ttotal: 27.6s\tremaining: 5.05s\n",
      "845:\tlearn: 0.6977104\ttotal: 27.6s\tremaining: 5.02s\n",
      "846:\tlearn: 0.6976903\ttotal: 27.6s\tremaining: 4.99s\n",
      "847:\tlearn: 0.6976792\ttotal: 27.7s\tremaining: 4.96s\n",
      "848:\tlearn: 0.6976658\ttotal: 27.7s\tremaining: 4.92s\n",
      "849:\tlearn: 0.6976438\ttotal: 27.7s\tremaining: 4.89s\n",
      "850:\tlearn: 0.6976090\ttotal: 27.8s\tremaining: 4.86s\n",
      "851:\tlearn: 0.6975837\ttotal: 27.8s\tremaining: 4.83s\n",
      "852:\tlearn: 0.6975305\ttotal: 27.8s\tremaining: 4.8s\n",
      "853:\tlearn: 0.6975100\ttotal: 27.9s\tremaining: 4.76s\n",
      "854:\tlearn: 0.6974793\ttotal: 27.9s\tremaining: 4.73s\n",
      "855:\tlearn: 0.6974486\ttotal: 27.9s\tremaining: 4.7s\n",
      "856:\tlearn: 0.6974318\ttotal: 27.9s\tremaining: 4.66s\n",
      "857:\tlearn: 0.6974167\ttotal: 28s\tremaining: 4.63s\n",
      "858:\tlearn: 0.6974019\ttotal: 28s\tremaining: 4.6s\n",
      "859:\tlearn: 0.6973938\ttotal: 28s\tremaining: 4.57s\n",
      "860:\tlearn: 0.6973411\ttotal: 28.1s\tremaining: 4.53s\n",
      "861:\tlearn: 0.6973204\ttotal: 28.1s\tremaining: 4.5s\n",
      "862:\tlearn: 0.6972834\ttotal: 28.1s\tremaining: 4.47s\n",
      "863:\tlearn: 0.6972736\ttotal: 28.2s\tremaining: 4.43s\n",
      "864:\tlearn: 0.6972446\ttotal: 28.2s\tremaining: 4.4s\n",
      "865:\tlearn: 0.6972335\ttotal: 28.2s\tremaining: 4.37s\n",
      "866:\tlearn: 0.6971322\ttotal: 28.2s\tremaining: 4.33s\n",
      "867:\tlearn: 0.6971205\ttotal: 28.3s\tremaining: 4.3s\n",
      "868:\tlearn: 0.6970447\ttotal: 28.3s\tremaining: 4.27s\n",
      "869:\tlearn: 0.6970104\ttotal: 28.3s\tremaining: 4.23s\n",
      "870:\tlearn: 0.6969340\ttotal: 28.4s\tremaining: 4.2s\n",
      "871:\tlearn: 0.6969160\ttotal: 28.4s\tremaining: 4.17s\n",
      "872:\tlearn: 0.6968505\ttotal: 28.4s\tremaining: 4.13s\n",
      "873:\tlearn: 0.6968337\ttotal: 28.5s\tremaining: 4.1s\n",
      "874:\tlearn: 0.6968190\ttotal: 28.5s\tremaining: 4.07s\n",
      "875:\tlearn: 0.6967947\ttotal: 28.5s\tremaining: 4.04s\n",
      "876:\tlearn: 0.6967752\ttotal: 28.5s\tremaining: 4s\n",
      "877:\tlearn: 0.6967608\ttotal: 28.6s\tremaining: 3.97s\n",
      "878:\tlearn: 0.6967417\ttotal: 28.6s\tremaining: 3.94s\n",
      "879:\tlearn: 0.6967173\ttotal: 28.7s\tremaining: 3.91s\n",
      "880:\tlearn: 0.6966908\ttotal: 28.7s\tremaining: 3.88s\n",
      "881:\tlearn: 0.6966718\ttotal: 28.7s\tremaining: 3.84s\n",
      "882:\tlearn: 0.6966628\ttotal: 28.8s\tremaining: 3.81s\n",
      "883:\tlearn: 0.6966299\ttotal: 28.8s\tremaining: 3.78s\n",
      "884:\tlearn: 0.6966071\ttotal: 28.8s\tremaining: 3.75s\n",
      "885:\tlearn: 0.6965963\ttotal: 28.9s\tremaining: 3.71s\n",
      "886:\tlearn: 0.6964607\ttotal: 28.9s\tremaining: 3.68s\n",
      "887:\tlearn: 0.6964408\ttotal: 28.9s\tremaining: 3.65s\n",
      "888:\tlearn: 0.6964276\ttotal: 29s\tremaining: 3.62s\n",
      "889:\tlearn: 0.6964028\ttotal: 29s\tremaining: 3.58s\n",
      "890:\tlearn: 0.6963762\ttotal: 29s\tremaining: 3.55s\n",
      "891:\tlearn: 0.6963598\ttotal: 29.1s\tremaining: 3.52s\n",
      "892:\tlearn: 0.6962957\ttotal: 29.1s\tremaining: 3.49s\n",
      "893:\tlearn: 0.6962547\ttotal: 29.1s\tremaining: 3.45s\n",
      "894:\tlearn: 0.6962453\ttotal: 29.1s\tremaining: 3.42s\n",
      "895:\tlearn: 0.6962337\ttotal: 29.2s\tremaining: 3.39s\n",
      "896:\tlearn: 0.6962233\ttotal: 29.2s\tremaining: 3.35s\n",
      "897:\tlearn: 0.6962065\ttotal: 29.3s\tremaining: 3.32s\n",
      "898:\tlearn: 0.6961866\ttotal: 29.3s\tremaining: 3.29s\n",
      "899:\tlearn: 0.6961637\ttotal: 29.3s\tremaining: 3.26s\n",
      "900:\tlearn: 0.6961406\ttotal: 29.4s\tremaining: 3.23s\n",
      "901:\tlearn: 0.6961185\ttotal: 29.4s\tremaining: 3.2s\n",
      "902:\tlearn: 0.6961017\ttotal: 29.5s\tremaining: 3.16s\n",
      "903:\tlearn: 0.6960896\ttotal: 29.5s\tremaining: 3.13s\n",
      "904:\tlearn: 0.6960719\ttotal: 29.5s\tremaining: 3.1s\n",
      "905:\tlearn: 0.6960400\ttotal: 29.6s\tremaining: 3.07s\n",
      "906:\tlearn: 0.6960193\ttotal: 29.6s\tremaining: 3.03s\n",
      "907:\tlearn: 0.6960032\ttotal: 29.7s\tremaining: 3s\n",
      "908:\tlearn: 0.6959880\ttotal: 29.7s\tremaining: 2.97s\n",
      "909:\tlearn: 0.6959630\ttotal: 29.7s\tremaining: 2.94s\n",
      "910:\tlearn: 0.6959333\ttotal: 29.8s\tremaining: 2.91s\n",
      "911:\tlearn: 0.6959139\ttotal: 29.8s\tremaining: 2.88s\n",
      "912:\tlearn: 0.6958792\ttotal: 29.8s\tremaining: 2.84s\n",
      "913:\tlearn: 0.6958497\ttotal: 29.9s\tremaining: 2.81s\n",
      "914:\tlearn: 0.6958306\ttotal: 29.9s\tremaining: 2.78s\n",
      "915:\tlearn: 0.6958146\ttotal: 29.9s\tremaining: 2.74s\n",
      "916:\tlearn: 0.6958010\ttotal: 30s\tremaining: 2.71s\n",
      "917:\tlearn: 0.6957783\ttotal: 30s\tremaining: 2.68s\n",
      "918:\tlearn: 0.6957382\ttotal: 30s\tremaining: 2.65s\n",
      "919:\tlearn: 0.6957237\ttotal: 30s\tremaining: 2.61s\n",
      "920:\tlearn: 0.6957127\ttotal: 30.1s\tremaining: 2.58s\n",
      "921:\tlearn: 0.6956895\ttotal: 30.1s\tremaining: 2.55s\n",
      "922:\tlearn: 0.6956749\ttotal: 30.1s\tremaining: 2.51s\n",
      "923:\tlearn: 0.6956620\ttotal: 30.2s\tremaining: 2.48s\n",
      "924:\tlearn: 0.6956492\ttotal: 30.2s\tremaining: 2.45s\n",
      "925:\tlearn: 0.6955718\ttotal: 30.2s\tremaining: 2.41s\n",
      "926:\tlearn: 0.6955549\ttotal: 30.2s\tremaining: 2.38s\n",
      "927:\tlearn: 0.6955439\ttotal: 30.3s\tremaining: 2.35s\n",
      "928:\tlearn: 0.6955331\ttotal: 30.3s\tremaining: 2.31s\n",
      "929:\tlearn: 0.6954956\ttotal: 30.3s\tremaining: 2.28s\n",
      "930:\tlearn: 0.6954700\ttotal: 30.3s\tremaining: 2.25s\n",
      "931:\tlearn: 0.6954550\ttotal: 30.4s\tremaining: 2.21s\n",
      "932:\tlearn: 0.6954295\ttotal: 30.4s\tremaining: 2.18s\n",
      "933:\tlearn: 0.6954119\ttotal: 30.4s\tremaining: 2.15s\n",
      "934:\tlearn: 0.6953489\ttotal: 30.5s\tremaining: 2.12s\n",
      "935:\tlearn: 0.6953351\ttotal: 30.5s\tremaining: 2.08s\n",
      "936:\tlearn: 0.6952931\ttotal: 30.5s\tremaining: 2.05s\n",
      "937:\tlearn: 0.6952838\ttotal: 30.6s\tremaining: 2.02s\n",
      "938:\tlearn: 0.6952734\ttotal: 30.6s\tremaining: 1.99s\n",
      "939:\tlearn: 0.6952247\ttotal: 30.6s\tremaining: 1.95s\n",
      "940:\tlearn: 0.6952150\ttotal: 30.7s\tremaining: 1.92s\n",
      "941:\tlearn: 0.6951742\ttotal: 30.7s\tremaining: 1.89s\n",
      "942:\tlearn: 0.6950822\ttotal: 30.7s\tremaining: 1.85s\n",
      "943:\tlearn: 0.6950654\ttotal: 30.7s\tremaining: 1.82s\n",
      "944:\tlearn: 0.6950407\ttotal: 30.8s\tremaining: 1.79s\n",
      "945:\tlearn: 0.6950340\ttotal: 30.8s\tremaining: 1.76s\n",
      "946:\tlearn: 0.6949923\ttotal: 30.8s\tremaining: 1.72s\n",
      "947:\tlearn: 0.6949603\ttotal: 30.8s\tremaining: 1.69s\n",
      "948:\tlearn: 0.6949396\ttotal: 30.9s\tremaining: 1.66s\n",
      "949:\tlearn: 0.6949306\ttotal: 30.9s\tremaining: 1.63s\n",
      "950:\tlearn: 0.6948789\ttotal: 31s\tremaining: 1.59s\n",
      "951:\tlearn: 0.6948288\ttotal: 31s\tremaining: 1.56s\n",
      "952:\tlearn: 0.6948073\ttotal: 31s\tremaining: 1.53s\n",
      "953:\tlearn: 0.6947748\ttotal: 31.1s\tremaining: 1.5s\n",
      "954:\tlearn: 0.6947564\ttotal: 31.1s\tremaining: 1.46s\n",
      "955:\tlearn: 0.6947458\ttotal: 31.1s\tremaining: 1.43s\n",
      "956:\tlearn: 0.6947217\ttotal: 31.1s\tremaining: 1.4s\n",
      "957:\tlearn: 0.6947077\ttotal: 31.2s\tremaining: 1.37s\n",
      "958:\tlearn: 0.6946951\ttotal: 31.2s\tremaining: 1.33s\n",
      "959:\tlearn: 0.6946613\ttotal: 31.2s\tremaining: 1.3s\n",
      "960:\tlearn: 0.6946490\ttotal: 31.2s\tremaining: 1.27s\n",
      "961:\tlearn: 0.6946285\ttotal: 31.3s\tremaining: 1.24s\n",
      "962:\tlearn: 0.6946188\ttotal: 31.3s\tremaining: 1.2s\n",
      "963:\tlearn: 0.6945501\ttotal: 31.3s\tremaining: 1.17s\n",
      "964:\tlearn: 0.6944841\ttotal: 31.4s\tremaining: 1.14s\n",
      "965:\tlearn: 0.6944685\ttotal: 31.4s\tremaining: 1.1s\n",
      "966:\tlearn: 0.6944515\ttotal: 31.4s\tremaining: 1.07s\n",
      "967:\tlearn: 0.6944334\ttotal: 31.5s\tremaining: 1.04s\n",
      "968:\tlearn: 0.6944110\ttotal: 31.5s\tremaining: 1.01s\n",
      "969:\tlearn: 0.6943824\ttotal: 31.5s\tremaining: 975ms\n",
      "970:\tlearn: 0.6943686\ttotal: 31.6s\tremaining: 942ms\n",
      "971:\tlearn: 0.6943518\ttotal: 31.6s\tremaining: 910ms\n",
      "972:\tlearn: 0.6943268\ttotal: 31.6s\tremaining: 877ms\n",
      "973:\tlearn: 0.6943029\ttotal: 31.6s\tremaining: 845ms\n",
      "974:\tlearn: 0.6942564\ttotal: 31.7s\tremaining: 812ms\n",
      "975:\tlearn: 0.6941848\ttotal: 31.7s\tremaining: 780ms\n",
      "976:\tlearn: 0.6941720\ttotal: 31.7s\tremaining: 747ms\n",
      "977:\tlearn: 0.6941506\ttotal: 31.8s\tremaining: 715ms\n",
      "978:\tlearn: 0.6941376\ttotal: 31.8s\tremaining: 682ms\n",
      "979:\tlearn: 0.6941177\ttotal: 31.8s\tremaining: 649ms\n",
      "980:\tlearn: 0.6940823\ttotal: 31.9s\tremaining: 617ms\n",
      "981:\tlearn: 0.6940740\ttotal: 31.9s\tremaining: 584ms\n",
      "982:\tlearn: 0.6940622\ttotal: 31.9s\tremaining: 552ms\n",
      "983:\tlearn: 0.6940366\ttotal: 31.9s\tremaining: 519ms\n",
      "984:\tlearn: 0.6940261\ttotal: 32s\tremaining: 487ms\n",
      "985:\tlearn: 0.6940083\ttotal: 32s\tremaining: 454ms\n",
      "986:\tlearn: 0.6939977\ttotal: 32s\tremaining: 422ms\n",
      "987:\tlearn: 0.6938659\ttotal: 32s\tremaining: 389ms\n",
      "988:\tlearn: 0.6938436\ttotal: 32.1s\tremaining: 357ms\n",
      "989:\tlearn: 0.6938327\ttotal: 32.1s\tremaining: 324ms\n",
      "990:\tlearn: 0.6938206\ttotal: 32.1s\tremaining: 292ms\n",
      "991:\tlearn: 0.6938095\ttotal: 32.1s\tremaining: 259ms\n",
      "992:\tlearn: 0.6937932\ttotal: 32.2s\tremaining: 227ms\n",
      "993:\tlearn: 0.6937626\ttotal: 32.2s\tremaining: 194ms\n",
      "994:\tlearn: 0.6937435\ttotal: 32.2s\tremaining: 162ms\n",
      "995:\tlearn: 0.6937246\ttotal: 32.3s\tremaining: 130ms\n",
      "996:\tlearn: 0.6936676\ttotal: 32.3s\tremaining: 97.2ms\n",
      "997:\tlearn: 0.6936356\ttotal: 32.3s\tremaining: 64.8ms\n",
      "998:\tlearn: 0.6935830\ttotal: 32.4s\tremaining: 32.4ms\n",
      "999:\tlearn: 0.6935694\ttotal: 32.4s\tremaining: 0us\n"
     ]
    },
    {
     "data": {
      "text/plain": [
       "<catboost.core.CatBoostClassifier at 0x7f2dae22ed50>"
      ]
     },
     "execution_count": 190,
     "metadata": {},
     "output_type": "execute_result"
    }
   ],
   "source": [
    "# <USE IT!>\n",
    "clf = CatBoostClassifier()\n",
    "clf.fit(sparse_data_train, clean_data_train['average_bill'])"
   ]
  },
  {
   "cell_type": "code",
   "execution_count": 191,
   "metadata": {},
   "outputs": [
    {
     "data": {
      "text/plain": [
       "<Axes: xlabel='iter', ylabel='MultiClass'>"
      ]
     },
     "execution_count": 191,
     "metadata": {},
     "output_type": "execute_result"
    },
    {
     "data": {
      "image/png": "[encoded data removed]",
      "text/plain": [
       "<Figure size 640x480 with 1 Axes>"
      ]
     },
     "metadata": {},
     "output_type": "display_data"
    }
   ],
   "source": [
    "learn_error = pd.read_csv('./catboost_info/learn_error.tsv', sep='\\t')\n",
    "\n",
    "\n",
    "sns.lineplot(learn_error, x='iter', y='MultiClass')"
   ]
  },
  {
   "cell_type": "markdown",
   "metadata": {
    "id": "SBOpZY9BGH7Q"
   },
   "source": [
    "**11. Пришлите в Контест balanced_accuracy_score на тестовой выборке, округлённый до двух знаков после запятой**. Стало ли сильно лучше от того, что мы воспользовались таким крутым классификатором?"
   ]
  },
  {
   "cell_type": "code",
   "execution_count": 196,
   "metadata": {},
   "outputs": [
    {
     "name": "stdout",
     "output_type": "stream",
     "text": [
      "balanced_accuracy_score на тестовой выборке: 0.28\n"
     ]
    }
   ],
   "source": [
    "from sklearn.metrics import balanced_accuracy_score\n",
    "\n",
    "clf_BAS = balanced_accuracy_score(y_pred=clf.predict(sparse_data_test), y_true=clean_data_test['average_bill'])\n",
    "\n",
    "print(f'balanced_accuracy_score на тестовой выборке: {round(clf_BAS, 2)}')"
   ]
  },
  {
   "cell_type": "markdown",
   "metadata": {},
   "source": [
    "Контест показал, что верный ответ 0.36. Видимо проблема в работе с фичами. Но сильно лучше все равно не стало."
   ]
  },
  {
   "cell_type": "code",
   "execution_count": null,
   "metadata": {},
   "outputs": [],
   "source": []
  }
 ],
 "metadata": {
  "colab": {
   "provenance": []
  },
  "kernelspec": {
   "display_name": "Python 3 (ipykernel)",
   "language": "python",
   "name": "python3"
  },
  "language_info": {
   "codemirror_mode": {
    "name": "ipython",
    "version": 3
   },
   "file_extension": ".py",
   "mimetype": "text/x-python",
   "name": "python",
   "nbconvert_exporter": "python",
   "pygments_lexer": "ipython3",
   "version": "3.11.10"
  }
 },
 "nbformat": 4,
 "nbformat_minor": 4
}
